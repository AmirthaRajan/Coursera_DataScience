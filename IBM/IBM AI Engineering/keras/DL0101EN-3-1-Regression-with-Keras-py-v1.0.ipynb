{
 "cells": [
  {
   "cell_type": "markdown",
   "metadata": {
    "button": false,
    "deletable": true,
    "new_sheet": false,
    "run_control": {
     "read_only": false
    }
   },
   "source": [
    "<a href=\"https://cognitiveclass.ai\"><img src = \"https://s3-api.us-geo.objectstorage.softlayer.net/cf-courses-data/CognitiveClass/Logos/organization_logo/organization_logo.png\" width = 400> </a>\n",
    "\n",
    "<h1 align=center><font size = 5>Regression Models with Keras</font></h1>\n"
   ]
  },
  {
   "cell_type": "markdown",
   "metadata": {
    "button": false,
    "deletable": true,
    "new_sheet": false,
    "run_control": {
     "read_only": false
    }
   },
   "source": [
    "## Introduction\n"
   ]
  },
  {
   "cell_type": "markdown",
   "metadata": {
    "button": false,
    "deletable": true,
    "new_sheet": false,
    "run_control": {
     "read_only": false
    }
   },
   "source": [
    "As we discussed in the videos, despite the popularity of more powerful libraries such as PyToch and TensorFlow, they are not easy to use and have a steep learning curve. So, for people who are just starting to learn deep learning, there is no better library to use other than the Keras library. \n",
    "\n",
    "Keras is a high-level API for building deep learning models. It has gained favor for its ease of use and syntactic simplicity facilitating fast development. As you will see in this lab and the other labs in this course, building a very complex deep learning network can be achieved with Keras with only few lines of code. You will appreciate Keras even more, once you learn how to build deep models using PyTorch and TensorFlow in the other courses.\n",
    "\n",
    "So, in this lab, you will learn how to use the Keras library to build a regression model.\n"
   ]
  },
  {
   "cell_type": "markdown",
   "metadata": {},
   "source": [
    "<h2>Regression Models with Keras</h2>\n",
    "\n",
    "<h3>Objective for this Notebook<h3>    \n",
    "<h5> 1. How to use the Keras library to build a regression model.</h5>\n",
    "<h5> 2. Download and Clean dataset </h5>\n",
    "<h5> 3. Build a Neural Network </h5>\n",
    "<h5> 4. Train and Test the Network. </h5>     \n"
   ]
  },
  {
   "cell_type": "markdown",
   "metadata": {
    "button": false,
    "deletable": true,
    "new_sheet": false,
    "run_control": {
     "read_only": false
    }
   },
   "source": [
    "## Table of Contents\n",
    "\n",
    "<div class=\"alert alert-block alert-info\" style=\"margin-top: 20px\">\n",
    "\n",
    "<font size = 3>\n",
    "    \n",
    "1. <a href=\"#item31\">Download and Clean Dataset</a>  \n",
    "2. <a href=\"#item32\">Import Keras</a>  \n",
    "3. <a href=\"#item33\">Build a Neural Network</a>  \n",
    "4. <a href=\"#item34\">Train and Test the Network</a>  \n",
    "\n",
    "</font>\n",
    "</div>\n"
   ]
  },
  {
   "cell_type": "markdown",
   "metadata": {
    "button": false,
    "deletable": true,
    "new_sheet": false,
    "run_control": {
     "read_only": false
    }
   },
   "source": [
    "<a id=\"item31\"></a>\n"
   ]
  },
  {
   "cell_type": "markdown",
   "metadata": {
    "button": false,
    "deletable": true,
    "new_sheet": false,
    "run_control": {
     "read_only": false
    }
   },
   "source": [
    "## Download and Clean Dataset\n"
   ]
  },
  {
   "cell_type": "markdown",
   "metadata": {
    "button": false,
    "deletable": true,
    "new_sheet": false,
    "run_control": {
     "read_only": false
    }
   },
   "source": [
    "Let's start by importing the <em>pandas</em> and the Numpy libraries.\n"
   ]
  },
  {
   "cell_type": "code",
   "execution_count": 17,
   "metadata": {
    "button": false,
    "deletable": true,
    "new_sheet": false,
    "run_control": {
     "read_only": false
    }
   },
   "outputs": [],
   "source": [
    "import pandas as pd\n",
    "import numpy as np"
   ]
  },
  {
   "cell_type": "markdown",
   "metadata": {
    "button": false,
    "deletable": true,
    "new_sheet": false,
    "run_control": {
     "read_only": false
    }
   },
   "source": [
    "We will be playing around with the same dataset that we used in the videos.\n",
    "\n",
    "<strong>The dataset is about the compressive strength of different samples of concrete based on the volumes of the different ingredients that were used to make them. Ingredients include:</strong>\n",
    "\n",
    "<strong>1. Cement</strong>\n",
    "\n",
    "<strong>2. Blast Furnace Slag</strong>\n",
    "\n",
    "<strong>3. Fly Ash</strong>\n",
    "\n",
    "<strong>4. Water</strong>\n",
    "\n",
    "<strong>5. Superplasticizer</strong>\n",
    "\n",
    "<strong>6. Coarse Aggregate</strong>\n",
    "\n",
    "<strong>7. Fine Aggregate</strong>\n"
   ]
  },
  {
   "cell_type": "markdown",
   "metadata": {
    "button": false,
    "deletable": true,
    "new_sheet": false,
    "run_control": {
     "read_only": false
    }
   },
   "source": [
    "Let's download the data and read it into a <em>pandas</em> dataframe.\n"
   ]
  },
  {
   "cell_type": "code",
   "execution_count": 3,
   "metadata": {
    "button": false,
    "deletable": true,
    "new_sheet": false,
    "run_control": {
     "read_only": false
    }
   },
   "outputs": [
    {
     "output_type": "execute_result",
     "data": {
      "text/plain": "   Cement  Blast Furnace Slag  Fly Ash  Water  Superplasticizer  \\\n0   540.0                 0.0      0.0  162.0               2.5   \n1   540.0                 0.0      0.0  162.0               2.5   \n2   332.5               142.5      0.0  228.0               0.0   \n3   332.5               142.5      0.0  228.0               0.0   \n4   198.6               132.4      0.0  192.0               0.0   \n\n   Coarse Aggregate  Fine Aggregate  Age  Strength  \n0            1040.0           676.0   28     79.99  \n1            1055.0           676.0   28     61.89  \n2             932.0           594.0  270     40.27  \n3             932.0           594.0  365     41.05  \n4             978.4           825.5  360     44.30  ",
      "text/html": "<div>\n<style scoped>\n    .dataframe tbody tr th:only-of-type {\n        vertical-align: middle;\n    }\n\n    .dataframe tbody tr th {\n        vertical-align: top;\n    }\n\n    .dataframe thead th {\n        text-align: right;\n    }\n</style>\n<table border=\"1\" class=\"dataframe\">\n  <thead>\n    <tr style=\"text-align: right;\">\n      <th></th>\n      <th>Cement</th>\n      <th>Blast Furnace Slag</th>\n      <th>Fly Ash</th>\n      <th>Water</th>\n      <th>Superplasticizer</th>\n      <th>Coarse Aggregate</th>\n      <th>Fine Aggregate</th>\n      <th>Age</th>\n      <th>Strength</th>\n    </tr>\n  </thead>\n  <tbody>\n    <tr>\n      <th>0</th>\n      <td>540.0</td>\n      <td>0.0</td>\n      <td>0.0</td>\n      <td>162.0</td>\n      <td>2.5</td>\n      <td>1040.0</td>\n      <td>676.0</td>\n      <td>28</td>\n      <td>79.99</td>\n    </tr>\n    <tr>\n      <th>1</th>\n      <td>540.0</td>\n      <td>0.0</td>\n      <td>0.0</td>\n      <td>162.0</td>\n      <td>2.5</td>\n      <td>1055.0</td>\n      <td>676.0</td>\n      <td>28</td>\n      <td>61.89</td>\n    </tr>\n    <tr>\n      <th>2</th>\n      <td>332.5</td>\n      <td>142.5</td>\n      <td>0.0</td>\n      <td>228.0</td>\n      <td>0.0</td>\n      <td>932.0</td>\n      <td>594.0</td>\n      <td>270</td>\n      <td>40.27</td>\n    </tr>\n    <tr>\n      <th>3</th>\n      <td>332.5</td>\n      <td>142.5</td>\n      <td>0.0</td>\n      <td>228.0</td>\n      <td>0.0</td>\n      <td>932.0</td>\n      <td>594.0</td>\n      <td>365</td>\n      <td>41.05</td>\n    </tr>\n    <tr>\n      <th>4</th>\n      <td>198.6</td>\n      <td>132.4</td>\n      <td>0.0</td>\n      <td>192.0</td>\n      <td>0.0</td>\n      <td>978.4</td>\n      <td>825.5</td>\n      <td>360</td>\n      <td>44.30</td>\n    </tr>\n  </tbody>\n</table>\n</div>"
     },
     "metadata": {},
     "execution_count": 3
    }
   ],
   "source": [
    "concrete_data = pd.read_csv('https://s3-api.us-geo.objectstorage.softlayer.net/cf-courses-data/CognitiveClass/DL0101EN/labs/data/concrete_data.csv')\n",
    "concrete_data.head()"
   ]
  },
  {
   "cell_type": "markdown",
   "metadata": {
    "button": false,
    "deletable": true,
    "new_sheet": false,
    "run_control": {
     "read_only": false
    }
   },
   "source": [
    "So the first concrete sample has 540 cubic meter of cement, 0 cubic meter of blast furnace slag, 0 cubic meter of fly ash, 162 cubic meter of water, 2.5 cubic meter of superplaticizer, 1040 cubic meter of coarse aggregate, 676 cubic meter of fine aggregate. Such a concrete mix which is 28 days old, has a compressive strength of 79.99 MPa. \n"
   ]
  },
  {
   "cell_type": "markdown",
   "metadata": {
    "button": false,
    "deletable": true,
    "new_sheet": false,
    "run_control": {
     "read_only": false
    }
   },
   "source": [
    "#### Let's check how many data points we have.\n"
   ]
  },
  {
   "cell_type": "code",
   "execution_count": 4,
   "metadata": {
    "button": false,
    "deletable": true,
    "new_sheet": false,
    "run_control": {
     "read_only": false
    }
   },
   "outputs": [
    {
     "output_type": "execute_result",
     "data": {
      "text/plain": "(1030, 9)"
     },
     "metadata": {},
     "execution_count": 4
    }
   ],
   "source": [
    "concrete_data.shape"
   ]
  },
  {
   "cell_type": "markdown",
   "metadata": {
    "button": false,
    "deletable": true,
    "new_sheet": false,
    "run_control": {
     "read_only": false
    }
   },
   "source": [
    "So, there are approximately 1000 samples to train our model on. Because of the few samples, we have to be careful not to overfit the training data.\n"
   ]
  },
  {
   "cell_type": "markdown",
   "metadata": {
    "button": false,
    "deletable": true,
    "new_sheet": false,
    "run_control": {
     "read_only": false
    }
   },
   "source": [
    "Let's check the dataset for any missing values.\n"
   ]
  },
  {
   "cell_type": "code",
   "execution_count": 5,
   "metadata": {
    "button": false,
    "deletable": true,
    "new_sheet": false,
    "run_control": {
     "read_only": false
    }
   },
   "outputs": [
    {
     "output_type": "execute_result",
     "data": {
      "text/plain": "            Cement  Blast Furnace Slag      Fly Ash        Water  \\\ncount  1030.000000         1030.000000  1030.000000  1030.000000   \nmean    281.167864           73.895825    54.188350   181.567282   \nstd     104.506364           86.279342    63.997004    21.354219   \nmin     102.000000            0.000000     0.000000   121.800000   \n25%     192.375000            0.000000     0.000000   164.900000   \n50%     272.900000           22.000000     0.000000   185.000000   \n75%     350.000000          142.950000   118.300000   192.000000   \nmax     540.000000          359.400000   200.100000   247.000000   \n\n       Superplasticizer  Coarse Aggregate  Fine Aggregate          Age  \\\ncount       1030.000000       1030.000000     1030.000000  1030.000000   \nmean           6.204660        972.918932      773.580485    45.662136   \nstd            5.973841         77.753954       80.175980    63.169912   \nmin            0.000000        801.000000      594.000000     1.000000   \n25%            0.000000        932.000000      730.950000     7.000000   \n50%            6.400000        968.000000      779.500000    28.000000   \n75%           10.200000       1029.400000      824.000000    56.000000   \nmax           32.200000       1145.000000      992.600000   365.000000   \n\n          Strength  \ncount  1030.000000  \nmean     35.817961  \nstd      16.705742  \nmin       2.330000  \n25%      23.710000  \n50%      34.445000  \n75%      46.135000  \nmax      82.600000  ",
      "text/html": "<div>\n<style scoped>\n    .dataframe tbody tr th:only-of-type {\n        vertical-align: middle;\n    }\n\n    .dataframe tbody tr th {\n        vertical-align: top;\n    }\n\n    .dataframe thead th {\n        text-align: right;\n    }\n</style>\n<table border=\"1\" class=\"dataframe\">\n  <thead>\n    <tr style=\"text-align: right;\">\n      <th></th>\n      <th>Cement</th>\n      <th>Blast Furnace Slag</th>\n      <th>Fly Ash</th>\n      <th>Water</th>\n      <th>Superplasticizer</th>\n      <th>Coarse Aggregate</th>\n      <th>Fine Aggregate</th>\n      <th>Age</th>\n      <th>Strength</th>\n    </tr>\n  </thead>\n  <tbody>\n    <tr>\n      <th>count</th>\n      <td>1030.000000</td>\n      <td>1030.000000</td>\n      <td>1030.000000</td>\n      <td>1030.000000</td>\n      <td>1030.000000</td>\n      <td>1030.000000</td>\n      <td>1030.000000</td>\n      <td>1030.000000</td>\n      <td>1030.000000</td>\n    </tr>\n    <tr>\n      <th>mean</th>\n      <td>281.167864</td>\n      <td>73.895825</td>\n      <td>54.188350</td>\n      <td>181.567282</td>\n      <td>6.204660</td>\n      <td>972.918932</td>\n      <td>773.580485</td>\n      <td>45.662136</td>\n      <td>35.817961</td>\n    </tr>\n    <tr>\n      <th>std</th>\n      <td>104.506364</td>\n      <td>86.279342</td>\n      <td>63.997004</td>\n      <td>21.354219</td>\n      <td>5.973841</td>\n      <td>77.753954</td>\n      <td>80.175980</td>\n      <td>63.169912</td>\n      <td>16.705742</td>\n    </tr>\n    <tr>\n      <th>min</th>\n      <td>102.000000</td>\n      <td>0.000000</td>\n      <td>0.000000</td>\n      <td>121.800000</td>\n      <td>0.000000</td>\n      <td>801.000000</td>\n      <td>594.000000</td>\n      <td>1.000000</td>\n      <td>2.330000</td>\n    </tr>\n    <tr>\n      <th>25%</th>\n      <td>192.375000</td>\n      <td>0.000000</td>\n      <td>0.000000</td>\n      <td>164.900000</td>\n      <td>0.000000</td>\n      <td>932.000000</td>\n      <td>730.950000</td>\n      <td>7.000000</td>\n      <td>23.710000</td>\n    </tr>\n    <tr>\n      <th>50%</th>\n      <td>272.900000</td>\n      <td>22.000000</td>\n      <td>0.000000</td>\n      <td>185.000000</td>\n      <td>6.400000</td>\n      <td>968.000000</td>\n      <td>779.500000</td>\n      <td>28.000000</td>\n      <td>34.445000</td>\n    </tr>\n    <tr>\n      <th>75%</th>\n      <td>350.000000</td>\n      <td>142.950000</td>\n      <td>118.300000</td>\n      <td>192.000000</td>\n      <td>10.200000</td>\n      <td>1029.400000</td>\n      <td>824.000000</td>\n      <td>56.000000</td>\n      <td>46.135000</td>\n    </tr>\n    <tr>\n      <th>max</th>\n      <td>540.000000</td>\n      <td>359.400000</td>\n      <td>200.100000</td>\n      <td>247.000000</td>\n      <td>32.200000</td>\n      <td>1145.000000</td>\n      <td>992.600000</td>\n      <td>365.000000</td>\n      <td>82.600000</td>\n    </tr>\n  </tbody>\n</table>\n</div>"
     },
     "metadata": {},
     "execution_count": 5
    }
   ],
   "source": [
    "concrete_data.describe()"
   ]
  },
  {
   "cell_type": "code",
   "execution_count": 6,
   "metadata": {
    "button": false,
    "deletable": true,
    "new_sheet": false,
    "run_control": {
     "read_only": false
    }
   },
   "outputs": [
    {
     "output_type": "execute_result",
     "data": {
      "text/plain": "Cement                0\nBlast Furnace Slag    0\nFly Ash               0\nWater                 0\nSuperplasticizer      0\nCoarse Aggregate      0\nFine Aggregate        0\nAge                   0\nStrength              0\ndtype: int64"
     },
     "metadata": {},
     "execution_count": 6
    }
   ],
   "source": [
    "concrete_data.isnull().sum()"
   ]
  },
  {
   "cell_type": "markdown",
   "metadata": {
    "button": false,
    "deletable": true,
    "new_sheet": false,
    "run_control": {
     "read_only": false
    }
   },
   "source": [
    "The data looks very clean and is ready to be used to build our model.\n"
   ]
  },
  {
   "cell_type": "markdown",
   "metadata": {
    "button": false,
    "deletable": true,
    "new_sheet": false,
    "run_control": {
     "read_only": false
    }
   },
   "source": [
    "#### Split data into predictors and target\n"
   ]
  },
  {
   "cell_type": "markdown",
   "metadata": {},
   "source": [
    "The target variable in this problem is the concrete sample strength. Therefore, our predictors will be all the other columns.\n"
   ]
  },
  {
   "cell_type": "code",
   "execution_count": 7,
   "metadata": {
    "button": false,
    "deletable": true,
    "new_sheet": false,
    "run_control": {
     "read_only": false
    }
   },
   "outputs": [],
   "source": [
    "concrete_data_columns = concrete_data.columns\n",
    "\n",
    "predictors = concrete_data[concrete_data_columns[concrete_data_columns != 'Strength']] # all columns except Strength\n",
    "target = concrete_data['Strength'] # Strength column"
   ]
  },
  {
   "cell_type": "markdown",
   "metadata": {
    "button": false,
    "deletable": true,
    "new_sheet": false,
    "run_control": {
     "read_only": false
    }
   },
   "source": [
    "<a id=\"item2\"></a>\n"
   ]
  },
  {
   "cell_type": "markdown",
   "metadata": {
    "button": false,
    "deletable": true,
    "new_sheet": false,
    "run_control": {
     "read_only": false
    }
   },
   "source": [
    "Let's do a quick sanity check of the predictors and the target dataframes.\n"
   ]
  },
  {
   "cell_type": "code",
   "execution_count": 8,
   "metadata": {
    "button": false,
    "deletable": true,
    "new_sheet": false,
    "run_control": {
     "read_only": false
    }
   },
   "outputs": [
    {
     "output_type": "execute_result",
     "data": {
      "text/plain": "   Cement  Blast Furnace Slag  Fly Ash  Water  Superplasticizer  \\\n0   540.0                 0.0      0.0  162.0               2.5   \n1   540.0                 0.0      0.0  162.0               2.5   \n2   332.5               142.5      0.0  228.0               0.0   \n3   332.5               142.5      0.0  228.0               0.0   \n4   198.6               132.4      0.0  192.0               0.0   \n\n   Coarse Aggregate  Fine Aggregate  Age  \n0            1040.0           676.0   28  \n1            1055.0           676.0   28  \n2             932.0           594.0  270  \n3             932.0           594.0  365  \n4             978.4           825.5  360  ",
      "text/html": "<div>\n<style scoped>\n    .dataframe tbody tr th:only-of-type {\n        vertical-align: middle;\n    }\n\n    .dataframe tbody tr th {\n        vertical-align: top;\n    }\n\n    .dataframe thead th {\n        text-align: right;\n    }\n</style>\n<table border=\"1\" class=\"dataframe\">\n  <thead>\n    <tr style=\"text-align: right;\">\n      <th></th>\n      <th>Cement</th>\n      <th>Blast Furnace Slag</th>\n      <th>Fly Ash</th>\n      <th>Water</th>\n      <th>Superplasticizer</th>\n      <th>Coarse Aggregate</th>\n      <th>Fine Aggregate</th>\n      <th>Age</th>\n    </tr>\n  </thead>\n  <tbody>\n    <tr>\n      <th>0</th>\n      <td>540.0</td>\n      <td>0.0</td>\n      <td>0.0</td>\n      <td>162.0</td>\n      <td>2.5</td>\n      <td>1040.0</td>\n      <td>676.0</td>\n      <td>28</td>\n    </tr>\n    <tr>\n      <th>1</th>\n      <td>540.0</td>\n      <td>0.0</td>\n      <td>0.0</td>\n      <td>162.0</td>\n      <td>2.5</td>\n      <td>1055.0</td>\n      <td>676.0</td>\n      <td>28</td>\n    </tr>\n    <tr>\n      <th>2</th>\n      <td>332.5</td>\n      <td>142.5</td>\n      <td>0.0</td>\n      <td>228.0</td>\n      <td>0.0</td>\n      <td>932.0</td>\n      <td>594.0</td>\n      <td>270</td>\n    </tr>\n    <tr>\n      <th>3</th>\n      <td>332.5</td>\n      <td>142.5</td>\n      <td>0.0</td>\n      <td>228.0</td>\n      <td>0.0</td>\n      <td>932.0</td>\n      <td>594.0</td>\n      <td>365</td>\n    </tr>\n    <tr>\n      <th>4</th>\n      <td>198.6</td>\n      <td>132.4</td>\n      <td>0.0</td>\n      <td>192.0</td>\n      <td>0.0</td>\n      <td>978.4</td>\n      <td>825.5</td>\n      <td>360</td>\n    </tr>\n  </tbody>\n</table>\n</div>"
     },
     "metadata": {},
     "execution_count": 8
    }
   ],
   "source": [
    "predictors.head()"
   ]
  },
  {
   "cell_type": "code",
   "execution_count": 9,
   "metadata": {
    "button": false,
    "deletable": true,
    "new_sheet": false,
    "run_control": {
     "read_only": false
    }
   },
   "outputs": [
    {
     "output_type": "execute_result",
     "data": {
      "text/plain": "0    79.99\n1    61.89\n2    40.27\n3    41.05\n4    44.30\nName: Strength, dtype: float64"
     },
     "metadata": {},
     "execution_count": 9
    }
   ],
   "source": [
    "target.head()"
   ]
  },
  {
   "cell_type": "markdown",
   "metadata": {
    "button": false,
    "deletable": true,
    "new_sheet": false,
    "run_control": {
     "read_only": false
    }
   },
   "source": [
    "Finally, the last step is to normalize the data by substracting the mean and dividing by the standard deviation.\n"
   ]
  },
  {
   "cell_type": "code",
   "execution_count": 10,
   "metadata": {
    "button": false,
    "deletable": true,
    "new_sheet": false,
    "run_control": {
     "read_only": false
    }
   },
   "outputs": [
    {
     "output_type": "execute_result",
     "data": {
      "text/plain": "     Cement  Blast Furnace Slag   Fly Ash     Water  Superplasticizer  \\\n0  2.476712           -0.856472 -0.846733 -0.916319         -0.620147   \n1  2.476712           -0.856472 -0.846733 -0.916319         -0.620147   \n2  0.491187            0.795140 -0.846733  2.174405         -1.038638   \n3  0.491187            0.795140 -0.846733  2.174405         -1.038638   \n4 -0.790075            0.678079 -0.846733  0.488555         -1.038638   \n\n   Coarse Aggregate  Fine Aggregate       Age  \n0          0.862735       -1.217079 -0.279597  \n1          1.055651       -1.217079 -0.279597  \n2         -0.526262       -2.239829  3.551340  \n3         -0.526262       -2.239829  5.055221  \n4          0.070492        0.647569  4.976069  ",
      "text/html": "<div>\n<style scoped>\n    .dataframe tbody tr th:only-of-type {\n        vertical-align: middle;\n    }\n\n    .dataframe tbody tr th {\n        vertical-align: top;\n    }\n\n    .dataframe thead th {\n        text-align: right;\n    }\n</style>\n<table border=\"1\" class=\"dataframe\">\n  <thead>\n    <tr style=\"text-align: right;\">\n      <th></th>\n      <th>Cement</th>\n      <th>Blast Furnace Slag</th>\n      <th>Fly Ash</th>\n      <th>Water</th>\n      <th>Superplasticizer</th>\n      <th>Coarse Aggregate</th>\n      <th>Fine Aggregate</th>\n      <th>Age</th>\n    </tr>\n  </thead>\n  <tbody>\n    <tr>\n      <th>0</th>\n      <td>2.476712</td>\n      <td>-0.856472</td>\n      <td>-0.846733</td>\n      <td>-0.916319</td>\n      <td>-0.620147</td>\n      <td>0.862735</td>\n      <td>-1.217079</td>\n      <td>-0.279597</td>\n    </tr>\n    <tr>\n      <th>1</th>\n      <td>2.476712</td>\n      <td>-0.856472</td>\n      <td>-0.846733</td>\n      <td>-0.916319</td>\n      <td>-0.620147</td>\n      <td>1.055651</td>\n      <td>-1.217079</td>\n      <td>-0.279597</td>\n    </tr>\n    <tr>\n      <th>2</th>\n      <td>0.491187</td>\n      <td>0.795140</td>\n      <td>-0.846733</td>\n      <td>2.174405</td>\n      <td>-1.038638</td>\n      <td>-0.526262</td>\n      <td>-2.239829</td>\n      <td>3.551340</td>\n    </tr>\n    <tr>\n      <th>3</th>\n      <td>0.491187</td>\n      <td>0.795140</td>\n      <td>-0.846733</td>\n      <td>2.174405</td>\n      <td>-1.038638</td>\n      <td>-0.526262</td>\n      <td>-2.239829</td>\n      <td>5.055221</td>\n    </tr>\n    <tr>\n      <th>4</th>\n      <td>-0.790075</td>\n      <td>0.678079</td>\n      <td>-0.846733</td>\n      <td>0.488555</td>\n      <td>-1.038638</td>\n      <td>0.070492</td>\n      <td>0.647569</td>\n      <td>4.976069</td>\n    </tr>\n  </tbody>\n</table>\n</div>"
     },
     "metadata": {},
     "execution_count": 10
    }
   ],
   "source": [
    "predictors_norm = (predictors - predictors.mean()) / predictors.std()\n",
    "predictors_norm.head()"
   ]
  },
  {
   "cell_type": "markdown",
   "metadata": {},
   "source": [
    "Let's save the number of predictors to _n_cols_ since we will need this number when building our network.\n"
   ]
  },
  {
   "cell_type": "code",
   "execution_count": 11,
   "metadata": {
    "button": false,
    "deletable": true,
    "new_sheet": false,
    "run_control": {
     "read_only": false
    }
   },
   "outputs": [],
   "source": [
    "n_cols = predictors_norm.shape[1] # number of predictors"
   ]
  },
  {
   "cell_type": "markdown",
   "metadata": {
    "button": false,
    "deletable": true,
    "new_sheet": false,
    "run_control": {
     "read_only": false
    }
   },
   "source": [
    "<a id=\"item1\"></a>\n"
   ]
  },
  {
   "cell_type": "markdown",
   "metadata": {},
   "source": [
    "<a id='item32'></a>\n"
   ]
  },
  {
   "cell_type": "markdown",
   "metadata": {
    "button": false,
    "deletable": true,
    "new_sheet": false,
    "run_control": {
     "read_only": false
    }
   },
   "source": [
    "## Import Keras\n"
   ]
  },
  {
   "cell_type": "markdown",
   "metadata": {
    "button": false,
    "deletable": true,
    "new_sheet": false,
    "run_control": {
     "read_only": false
    }
   },
   "source": [
    "Recall from the videos that Keras normally runs on top of a low-level library such as TensorFlow. This means that to be able to use the Keras library, you will have to install TensorFlow first and when you import the Keras library, it will be explicitly displayed what backend was used to install the Keras library. In CC Labs, we used TensorFlow as the backend to install Keras, so it should clearly print that when we import Keras.\n"
   ]
  },
  {
   "cell_type": "markdown",
   "metadata": {
    "button": false,
    "deletable": true,
    "new_sheet": false,
    "run_control": {
     "read_only": false
    }
   },
   "source": [
    "#### Let's go ahead and import the Keras library\n"
   ]
  },
  {
   "cell_type": "code",
   "execution_count": 12,
   "metadata": {
    "button": false,
    "deletable": true,
    "new_sheet": false,
    "run_control": {
     "read_only": false
    }
   },
   "outputs": [],
   "source": [
    "import keras"
   ]
  },
  {
   "cell_type": "markdown",
   "metadata": {
    "button": false,
    "deletable": true,
    "new_sheet": false,
    "run_control": {
     "read_only": false
    }
   },
   "source": [
    "As you can see, the TensorFlow backend was used to install the Keras library.\n"
   ]
  },
  {
   "cell_type": "markdown",
   "metadata": {
    "button": false,
    "deletable": true,
    "new_sheet": false,
    "run_control": {
     "read_only": false
    }
   },
   "source": [
    "Let's import the rest of the packages from the Keras library that we will need to build our regressoin model.\n"
   ]
  },
  {
   "cell_type": "code",
   "execution_count": 13,
   "metadata": {
    "button": false,
    "deletable": true,
    "new_sheet": false,
    "run_control": {
     "read_only": false
    }
   },
   "outputs": [],
   "source": [
    "from keras.models import Sequential\n",
    "from keras.layers import Dense"
   ]
  },
  {
   "cell_type": "markdown",
   "metadata": {},
   "source": [
    "<a id='item33'></a>\n"
   ]
  },
  {
   "cell_type": "markdown",
   "metadata": {
    "button": false,
    "deletable": true,
    "new_sheet": false,
    "run_control": {
     "read_only": false
    }
   },
   "source": [
    "## Build a Neural Network\n"
   ]
  },
  {
   "cell_type": "markdown",
   "metadata": {
    "button": false,
    "deletable": true,
    "new_sheet": false,
    "run_control": {
     "read_only": false
    }
   },
   "source": [
    "Let's define a function that defines our regression model for us so that we can conveniently call it to create our model.\n"
   ]
  },
  {
   "cell_type": "code",
   "execution_count": 21,
   "metadata": {
    "button": false,
    "deletable": true,
    "new_sheet": false,
    "run_control": {
     "read_only": false
    }
   },
   "outputs": [],
   "source": [
    "# define regression model\n",
    "def regression_model():\n",
    "    # create model\n",
    "    model = Sequential()\n",
    "    model.add(Dense(50, activation='relu', input_shape=(n_cols,)))\n",
    "    model.add(Dense(50, activation='relu'))\n",
    "    model.add(Dense(1))\n",
    "    \n",
    "    # compile model\n",
    "    model.compile(optimizer='adam', loss='mean_squared_error',metrics=['accuracy'])\n",
    "    return model"
   ]
  },
  {
   "cell_type": "markdown",
   "metadata": {},
   "source": [
    "The above function create a model that has two hidden layers, each of 50 hidden units.\n"
   ]
  },
  {
   "cell_type": "markdown",
   "metadata": {
    "button": false,
    "deletable": true,
    "new_sheet": false,
    "run_control": {
     "read_only": false
    }
   },
   "source": [
    "<a id=\"item4\"></a>\n"
   ]
  },
  {
   "cell_type": "markdown",
   "metadata": {},
   "source": [
    "<a id='item34'></a>\n"
   ]
  },
  {
   "cell_type": "markdown",
   "metadata": {
    "button": false,
    "deletable": true,
    "new_sheet": false,
    "run_control": {
     "read_only": false
    }
   },
   "source": [
    "## Train and Test the Network\n"
   ]
  },
  {
   "cell_type": "markdown",
   "metadata": {},
   "source": [
    "Let's call the function now to create our model.\n"
   ]
  },
  {
   "cell_type": "code",
   "execution_count": 22,
   "metadata": {
    "button": false,
    "deletable": true,
    "new_sheet": false,
    "run_control": {
     "read_only": false
    }
   },
   "outputs": [],
   "source": [
    "# build the model\n",
    "model = regression_model()"
   ]
  },
  {
   "cell_type": "markdown",
   "metadata": {},
   "source": [
    "Next, we will train and test the model at the same time using the _fit_ method. We will leave out 30% of the data for validation and we will train the model for 100 epochs.\n"
   ]
  },
  {
   "cell_type": "code",
   "execution_count": 23,
   "metadata": {
    "tags": []
   },
   "outputs": [
    {
     "output_type": "stream",
     "name": "stdout",
     "text": "Epoch 1/100\n23/23 - 0s - loss: 1645.6312 - accuracy: 0.0000e+00 - val_loss: 1135.4231 - val_accuracy: 0.0000e+00\nEpoch 2/100\n23/23 - 0s - loss: 1508.1437 - accuracy: 0.0000e+00 - val_loss: 1010.6116 - val_accuracy: 0.0000e+00\nEpoch 3/100\n23/23 - 0s - loss: 1293.1167 - accuracy: 0.0000e+00 - val_loss: 820.0990 - val_accuracy: 0.0000e+00\nEpoch 4/100\n23/23 - 0s - loss: 968.0678 - accuracy: 0.0000e+00 - val_loss: 574.4695 - val_accuracy: 0.0000e+00\nEpoch 5/100\n23/23 - 0s - loss: 608.2058 - accuracy: 0.0000e+00 - val_loss: 342.5017 - val_accuracy: 0.0000e+00\nEpoch 6/100\n23/23 - 0s - loss: 348.3011 - accuracy: 0.0000e+00 - val_loss: 214.0093 - val_accuracy: 0.0000e+00\nEpoch 7/100\n23/23 - 0s - loss: 256.3415 - accuracy: 0.0000e+00 - val_loss: 180.3917 - val_accuracy: 0.0000e+00\nEpoch 8/100\n23/23 - 0s - loss: 230.5017 - accuracy: 0.0000e+00 - val_loss: 168.5389 - val_accuracy: 0.0000e+00\nEpoch 9/100\n23/23 - 0s - loss: 215.0146 - accuracy: 0.0000e+00 - val_loss: 166.1608 - val_accuracy: 0.0000e+00\nEpoch 10/100\n23/23 - 0s - loss: 203.2105 - accuracy: 0.0000e+00 - val_loss: 163.5469 - val_accuracy: 0.0000e+00\nEpoch 11/100\n23/23 - 0s - loss: 194.3407 - accuracy: 0.0000e+00 - val_loss: 161.3398 - val_accuracy: 0.0000e+00\nEpoch 12/100\n23/23 - 0s - loss: 187.2775 - accuracy: 0.0000e+00 - val_loss: 159.7154 - val_accuracy: 0.0000e+00\nEpoch 13/100\n23/23 - 0s - loss: 181.4392 - accuracy: 0.0000e+00 - val_loss: 157.9003 - val_accuracy: 0.0000e+00\nEpoch 14/100\n23/23 - 0s - loss: 175.9654 - accuracy: 0.0000e+00 - val_loss: 158.9836 - val_accuracy: 0.0000e+00\nEpoch 15/100\n23/23 - 0s - loss: 171.7772 - accuracy: 0.0000e+00 - val_loss: 155.2397 - val_accuracy: 0.0000e+00\nEpoch 16/100\n23/23 - 0s - loss: 167.8291 - accuracy: 0.0000e+00 - val_loss: 155.6338 - val_accuracy: 0.0000e+00\nEpoch 17/100\n23/23 - 0s - loss: 164.5516 - accuracy: 0.0000e+00 - val_loss: 154.6609 - val_accuracy: 0.0000e+00\nEpoch 18/100\n23/23 - 0s - loss: 162.1410 - accuracy: 0.0000e+00 - val_loss: 151.7331 - val_accuracy: 0.0000e+00\nEpoch 19/100\n23/23 - 0s - loss: 158.5691 - accuracy: 0.0000e+00 - val_loss: 153.6705 - val_accuracy: 0.0000e+00\nEpoch 20/100\n23/23 - 0s - loss: 156.5463 - accuracy: 0.0000e+00 - val_loss: 151.1087 - val_accuracy: 0.0000e+00\nEpoch 21/100\n23/23 - 0s - loss: 153.6266 - accuracy: 0.0000e+00 - val_loss: 152.5371 - val_accuracy: 0.0000e+00\nEpoch 22/100\n23/23 - 0s - loss: 151.4621 - accuracy: 0.0000e+00 - val_loss: 151.0497 - val_accuracy: 0.0000e+00\nEpoch 23/100\n23/23 - 0s - loss: 149.2931 - accuracy: 0.0000e+00 - val_loss: 153.2065 - val_accuracy: 0.0000e+00\nEpoch 24/100\n23/23 - 0s - loss: 146.8833 - accuracy: 0.0000e+00 - val_loss: 148.8947 - val_accuracy: 0.0000e+00\nEpoch 25/100\n23/23 - 0s - loss: 145.1987 - accuracy: 0.0000e+00 - val_loss: 150.0369 - val_accuracy: 0.0000e+00\nEpoch 26/100\n23/23 - 0s - loss: 143.2991 - accuracy: 0.0000e+00 - val_loss: 149.4815 - val_accuracy: 0.0000e+00\nEpoch 27/100\n23/23 - 0s - loss: 141.2617 - accuracy: 0.0000e+00 - val_loss: 151.4855 - val_accuracy: 0.0000e+00\nEpoch 28/100\n23/23 - 0s - loss: 139.0147 - accuracy: 0.0000e+00 - val_loss: 149.8587 - val_accuracy: 0.0000e+00\nEpoch 29/100\n23/23 - 0s - loss: 137.9015 - accuracy: 0.0000e+00 - val_loss: 151.6127 - val_accuracy: 0.0000e+00\nEpoch 30/100\n23/23 - 0s - loss: 135.5732 - accuracy: 0.0000e+00 - val_loss: 149.7641 - val_accuracy: 0.0000e+00\nEpoch 31/100\n23/23 - 0s - loss: 134.0376 - accuracy: 0.0000e+00 - val_loss: 152.1622 - val_accuracy: 0.0000e+00\nEpoch 32/100\n23/23 - 0s - loss: 131.8601 - accuracy: 0.0000e+00 - val_loss: 150.6937 - val_accuracy: 0.0000e+00\nEpoch 33/100\n23/23 - 0s - loss: 129.6245 - accuracy: 0.0000e+00 - val_loss: 152.2840 - val_accuracy: 0.0000e+00\nEpoch 34/100\n23/23 - 0s - loss: 127.3170 - accuracy: 0.0000e+00 - val_loss: 154.9698 - val_accuracy: 0.0000e+00\nEpoch 35/100\n23/23 - 0s - loss: 125.4586 - accuracy: 0.0000e+00 - val_loss: 153.8277 - val_accuracy: 0.0000e+00\nEpoch 36/100\n23/23 - 0s - loss: 122.9097 - accuracy: 0.0000e+00 - val_loss: 152.3842 - val_accuracy: 0.0000e+00\nEpoch 37/100\n23/23 - 0s - loss: 120.8366 - accuracy: 0.0000e+00 - val_loss: 153.1292 - val_accuracy: 0.0000e+00\nEpoch 38/100\n23/23 - 0s - loss: 119.0742 - accuracy: 0.0000e+00 - val_loss: 153.1200 - val_accuracy: 0.0000e+00\nEpoch 39/100\n23/23 - 0s - loss: 116.3436 - accuracy: 0.0000e+00 - val_loss: 153.0111 - val_accuracy: 0.0000e+00\nEpoch 40/100\n23/23 - 0s - loss: 113.6962 - accuracy: 0.0000e+00 - val_loss: 150.8478 - val_accuracy: 0.0000e+00\nEpoch 41/100\n23/23 - 0s - loss: 111.5226 - accuracy: 0.0000e+00 - val_loss: 152.0279 - val_accuracy: 0.0000e+00\nEpoch 42/100\n23/23 - 0s - loss: 108.8529 - accuracy: 0.0000e+00 - val_loss: 150.3531 - val_accuracy: 0.0000e+00\nEpoch 43/100\n23/23 - 0s - loss: 106.1034 - accuracy: 0.0000e+00 - val_loss: 150.9990 - val_accuracy: 0.0000e+00\nEpoch 44/100\n23/23 - 0s - loss: 103.6047 - accuracy: 0.0000e+00 - val_loss: 149.4507 - val_accuracy: 0.0000e+00\nEpoch 45/100\n23/23 - 0s - loss: 101.3102 - accuracy: 0.0000e+00 - val_loss: 146.7893 - val_accuracy: 0.0000e+00\nEpoch 46/100\n23/23 - 0s - loss: 97.7282 - accuracy: 0.0000e+00 - val_loss: 150.5775 - val_accuracy: 0.0000e+00\nEpoch 47/100\n23/23 - 0s - loss: 94.8566 - accuracy: 0.0000e+00 - val_loss: 147.4370 - val_accuracy: 0.0000e+00\nEpoch 48/100\n23/23 - 0s - loss: 91.8685 - accuracy: 0.0000e+00 - val_loss: 144.2879 - val_accuracy: 0.0000e+00\nEpoch 49/100\n23/23 - 0s - loss: 90.1139 - accuracy: 0.0000e+00 - val_loss: 142.1061 - val_accuracy: 0.0000e+00\nEpoch 50/100\n23/23 - 0s - loss: 86.7673 - accuracy: 0.0000e+00 - val_loss: 146.0639 - val_accuracy: 0.0000e+00\nEpoch 51/100\n23/23 - 0s - loss: 84.6140 - accuracy: 0.0000e+00 - val_loss: 141.6929 - val_accuracy: 0.0000e+00\nEpoch 52/100\n23/23 - 0s - loss: 81.7698 - accuracy: 0.0000e+00 - val_loss: 135.7586 - val_accuracy: 0.0000e+00\nEpoch 53/100\n23/23 - 0s - loss: 77.9742 - accuracy: 0.0000e+00 - val_loss: 140.5947 - val_accuracy: 0.0000e+00\nEpoch 54/100\n23/23 - 0s - loss: 75.6741 - accuracy: 0.0000e+00 - val_loss: 133.3232 - val_accuracy: 0.0000e+00\nEpoch 55/100\n23/23 - 0s - loss: 72.6539 - accuracy: 0.0000e+00 - val_loss: 136.3706 - val_accuracy: 0.0000e+00\nEpoch 56/100\n23/23 - 0s - loss: 70.1125 - accuracy: 0.0000e+00 - val_loss: 130.6444 - val_accuracy: 0.0000e+00\nEpoch 57/100\n23/23 - 0s - loss: 68.2167 - accuracy: 0.0000e+00 - val_loss: 130.1820 - val_accuracy: 0.0000e+00\nEpoch 58/100\n23/23 - 0s - loss: 66.4663 - accuracy: 0.0000e+00 - val_loss: 127.9611 - val_accuracy: 0.0000e+00\nEpoch 59/100\n23/23 - 0s - loss: 64.9016 - accuracy: 0.0000e+00 - val_loss: 132.7236 - val_accuracy: 0.0000e+00\nEpoch 60/100\n23/23 - 0s - loss: 62.5163 - accuracy: 0.0000e+00 - val_loss: 129.8773 - val_accuracy: 0.0000e+00\nEpoch 61/100\n23/23 - 0s - loss: 60.4620 - accuracy: 0.0000e+00 - val_loss: 127.3291 - val_accuracy: 0.0000e+00\nEpoch 62/100\n23/23 - 0s - loss: 59.3313 - accuracy: 0.0000e+00 - val_loss: 125.1038 - val_accuracy: 0.0000e+00\nEpoch 63/100\n23/23 - 0s - loss: 57.9720 - accuracy: 0.0000e+00 - val_loss: 124.9117 - val_accuracy: 0.0000e+00\nEpoch 64/100\n23/23 - 0s - loss: 56.3012 - accuracy: 0.0000e+00 - val_loss: 123.4291 - val_accuracy: 0.0000e+00\nEpoch 65/100\n23/23 - 0s - loss: 55.0291 - accuracy: 0.0000e+00 - val_loss: 122.8771 - val_accuracy: 0.0000e+00\nEpoch 66/100\n23/23 - 0s - loss: 53.9203 - accuracy: 0.0000e+00 - val_loss: 124.2605 - val_accuracy: 0.0000e+00\nEpoch 67/100\n23/23 - 0s - loss: 52.7036 - accuracy: 0.0000e+00 - val_loss: 121.5246 - val_accuracy: 0.0000e+00\nEpoch 68/100\n23/23 - 0s - loss: 52.0518 - accuracy: 0.0000e+00 - val_loss: 125.1501 - val_accuracy: 0.0000e+00\nEpoch 69/100\n23/23 - 0s - loss: 50.4537 - accuracy: 0.0000e+00 - val_loss: 128.0659 - val_accuracy: 0.0000e+00\nEpoch 70/100\n23/23 - 0s - loss: 49.7843 - accuracy: 0.0000e+00 - val_loss: 118.7490 - val_accuracy: 0.0000e+00\nEpoch 71/100\n23/23 - 0s - loss: 48.4800 - accuracy: 0.0000e+00 - val_loss: 123.6767 - val_accuracy: 0.0000e+00\nEpoch 72/100\n23/23 - 0s - loss: 47.6399 - accuracy: 0.0000e+00 - val_loss: 124.1482 - val_accuracy: 0.0000e+00\nEpoch 73/100\n23/23 - 0s - loss: 46.3989 - accuracy: 0.0000e+00 - val_loss: 119.2740 - val_accuracy: 0.0000e+00\nEpoch 74/100\n23/23 - 0s - loss: 45.9417 - accuracy: 0.0000e+00 - val_loss: 121.7204 - val_accuracy: 0.0000e+00\nEpoch 75/100\n23/23 - 0s - loss: 44.8370 - accuracy: 0.0000e+00 - val_loss: 118.5840 - val_accuracy: 0.0000e+00\nEpoch 76/100\n23/23 - 0s - loss: 43.8690 - accuracy: 0.0000e+00 - val_loss: 124.2537 - val_accuracy: 0.0000e+00\nEpoch 77/100\n23/23 - 0s - loss: 42.9394 - accuracy: 0.0000e+00 - val_loss: 125.0328 - val_accuracy: 0.0000e+00\nEpoch 78/100\n23/23 - 0s - loss: 42.3776 - accuracy: 0.0000e+00 - val_loss: 121.3226 - val_accuracy: 0.0000e+00\nEpoch 79/100\n23/23 - 0s - loss: 41.7221 - accuracy: 0.0000e+00 - val_loss: 118.1865 - val_accuracy: 0.0000e+00\nEpoch 80/100\n23/23 - 0s - loss: 41.3768 - accuracy: 0.0000e+00 - val_loss: 122.6747 - val_accuracy: 0.0000e+00\nEpoch 81/100\n23/23 - 0s - loss: 40.3738 - accuracy: 0.0000e+00 - val_loss: 129.3865 - val_accuracy: 0.0000e+00\nEpoch 82/100\n23/23 - 0s - loss: 39.8316 - accuracy: 0.0000e+00 - val_loss: 119.6129 - val_accuracy: 0.0000e+00\nEpoch 83/100\n23/23 - 0s - loss: 39.2913 - accuracy: 0.0000e+00 - val_loss: 121.2276 - val_accuracy: 0.0000e+00\nEpoch 84/100\n23/23 - 0s - loss: 38.5702 - accuracy: 0.0000e+00 - val_loss: 123.6848 - val_accuracy: 0.0000e+00\nEpoch 85/100\n23/23 - 0s - loss: 38.2535 - accuracy: 0.0000e+00 - val_loss: 122.1737 - val_accuracy: 0.0000e+00\nEpoch 86/100\n23/23 - 0s - loss: 37.8650 - accuracy: 0.0000e+00 - val_loss: 123.0780 - val_accuracy: 0.0000e+00\nEpoch 87/100\n23/23 - 0s - loss: 37.5276 - accuracy: 0.0000e+00 - val_loss: 124.5212 - val_accuracy: 0.0000e+00\nEpoch 88/100\n23/23 - 0s - loss: 37.0227 - accuracy: 0.0000e+00 - val_loss: 127.7389 - val_accuracy: 0.0000e+00\nEpoch 89/100\n23/23 - 0s - loss: 36.4036 - accuracy: 0.0000e+00 - val_loss: 118.1993 - val_accuracy: 0.0000e+00\nEpoch 90/100\n23/23 - 0s - loss: 37.0286 - accuracy: 0.0000e+00 - val_loss: 127.9019 - val_accuracy: 0.0000e+00\nEpoch 91/100\n23/23 - 0s - loss: 35.5683 - accuracy: 0.0000e+00 - val_loss: 121.9491 - val_accuracy: 0.0000e+00\nEpoch 92/100\n23/23 - 0s - loss: 35.3135 - accuracy: 0.0000e+00 - val_loss: 117.9194 - val_accuracy: 0.0000e+00\nEpoch 93/100\n23/23 - 0s - loss: 34.7113 - accuracy: 0.0000e+00 - val_loss: 125.3322 - val_accuracy: 0.0000e+00\nEpoch 94/100\n23/23 - 0s - loss: 35.0531 - accuracy: 0.0000e+00 - val_loss: 131.6566 - val_accuracy: 0.0000e+00\nEpoch 95/100\n23/23 - 0s - loss: 34.2813 - accuracy: 0.0000e+00 - val_loss: 117.8900 - val_accuracy: 0.0000e+00\nEpoch 96/100\n23/23 - 0s - loss: 33.7747 - accuracy: 0.0000e+00 - val_loss: 120.4609 - val_accuracy: 0.0000e+00\nEpoch 97/100\n23/23 - 0s - loss: 33.6081 - accuracy: 0.0000e+00 - val_loss: 122.7625 - val_accuracy: 0.0000e+00\nEpoch 98/100\n23/23 - 0s - loss: 33.3296 - accuracy: 0.0000e+00 - val_loss: 123.5031 - val_accuracy: 0.0000e+00\nEpoch 99/100\n23/23 - 0s - loss: 33.1004 - accuracy: 0.0000e+00 - val_loss: 110.9885 - val_accuracy: 0.0000e+00\nEpoch 100/100\n23/23 - 0s - loss: 32.9365 - accuracy: 0.0000e+00 - val_loss: 125.5200 - val_accuracy: 0.0000e+00\n"
    },
    {
     "output_type": "execute_result",
     "data": {
      "text/plain": "&lt;tensorflow.python.keras.callbacks.History at 0x20ed67b22e0&gt;"
     },
     "metadata": {},
     "execution_count": 23
    }
   ],
   "source": [
    "# fit the model\n",
    "model.fit(predictors_norm, target, validation_split=0.3, epochs=100, verbose=2)"
   ]
  },
  {
   "cell_type": "code",
   "execution_count": 24,
   "metadata": {},
   "outputs": [
    {
     "output_type": "error",
     "ename": "NameError",
     "evalue": "name &#39;X_test&#39; is not defined",
     "traceback": [
      "\u001b[1;31m---------------------------------------------------------------------------\u001b[0m",
      "\u001b[1;31mNameError\u001b[0m                                 Traceback (most recent call last)",
      "\u001b[1;32m&lt;ipython-input-24-7ef916963d62&gt;\u001b[0m in \u001b[0;36m&lt;module&gt;\u001b[1;34m\u001b[0m\n\u001b[1;32m----&gt; 1\u001b[1;33m \u001b[0mscores\u001b[0m \u001b[1;33m=\u001b[0m \u001b[0mmodel\u001b[0m\u001b[1;33m.\u001b[0m\u001b[0mevaluate\u001b[0m\u001b[1;33m(\u001b[0m\u001b[0mX_test\u001b[0m\u001b[1;33m,\u001b[0m \u001b[0my_test\u001b[0m\u001b[1;33m,\u001b[0m \u001b[0mverbose\u001b[0m\u001b[1;33m=\u001b[0m\u001b[1;36m0\u001b[0m\u001b[1;33m)\u001b[0m\u001b[1;33m\u001b[0m\u001b[1;33m\u001b[0m\u001b[0m\n\u001b[0m\u001b[0;32m      2\u001b[0m \u001b[0mprint\u001b[0m\u001b[1;33m(\u001b[0m\u001b[1;34m&#39;Accuracy: {}% \\n Error: {}&#39;\u001b[0m\u001b[1;33m.\u001b[0m\u001b[0mformat\u001b[0m\u001b[1;33m(\u001b[0m\u001b[0mscores\u001b[0m\u001b[1;33m[\u001b[0m\u001b[1;36m1\u001b[0m\u001b[1;33m]\u001b[0m\u001b[1;33m,\u001b[0m \u001b[1;36m1\u001b[0m \u001b[1;33m-\u001b[0m \u001b[0mscores\u001b[0m\u001b[1;33m[\u001b[0m\u001b[1;36m1\u001b[0m\u001b[1;33m]\u001b[0m\u001b[1;33m)\u001b[0m\u001b[1;33m)\u001b[0m\u001b[1;33m\u001b[0m\u001b[1;33m\u001b[0m\u001b[0m\n",
      "\u001b[1;31mNameError\u001b[0m: name &#39;X_test&#39; is not defined"
     ]
    }
   ],
   "source": [
    "scores = model.evaluate(X_test, y_test, verbose=0)\n",
    "print('Accuracy: {}% \\n Error: {}'.format(scores[1], 1 - scores[1])) "
   ]
  },
  {
   "cell_type": "markdown",
   "metadata": {
    "button": false,
    "deletable": true,
    "new_sheet": false,
    "run_control": {
     "read_only": false
    }
   },
   "source": [
    "<strong>You can refer to this [link](https://keras.io/models/sequential?cm_mmc=Email_Newsletter-_-Developer_Ed%2BTech-_-WW_WW-_-SkillsNetwork-Courses-IBMDeveloperSkillsNetwork-DL0101EN-SkillsNetwork-20718188&cm_mmca1=000026UJ&cm_mmca2=10006555&cm_mmca3=M12345678&cvosrc=email.Newsletter.M12345678&cvo_campaign=000026UJ&cm_mmc=Email_Newsletter-_-Developer_Ed%2BTech-_-WW_WW-_-SkillsNetwork-Courses-IBMDeveloperSkillsNetwork-DL0101EN-SkillsNetwork-20718188&cm_mmca1=000026UJ&cm_mmca2=10006555&cm_mmca3=M12345678&cvosrc=email.Newsletter.M12345678&cvo_campaign=000026UJ&cm_mmc=Email_Newsletter-_-Developer_Ed%2BTech-_-WW_WW-_-SkillsNetwork-Courses-IBMDeveloperSkillsNetwork-DL0101EN-SkillsNetwork-20718188&cm_mmca1=000026UJ&cm_mmca2=10006555&cm_mmca3=M12345678&cvosrc=email.Newsletter.M12345678&cvo_campaign=000026UJ) to learn about other functions that you can use for prediction or evaluation.</strong>\n"
   ]
  },
  {
   "cell_type": "markdown",
   "metadata": {
    "button": false,
    "deletable": true,
    "new_sheet": false,
    "run_control": {
     "read_only": false
    }
   },
   "source": [
    "Feel free to vary the following and note what impact each change has on the model's performance:\n",
    "\n",
    "1.  Increase or decreate number of neurons in hidden layers\n",
    "2.  Add more hidden layers\n",
    "3.  Increase number of epochs\n"
   ]
  },
  {
   "cell_type": "markdown",
   "metadata": {
    "button": false,
    "deletable": true,
    "new_sheet": false,
    "run_control": {
     "read_only": false
    }
   },
   "source": [
    "### Thank you for completing this lab!\n",
    "\n",
    "This notebook was created by [Alex Aklson](https://www.linkedin.com/in/aklson?cm_mmc=Email_Newsletter-_-Developer_Ed%2BTech-_-WW_WW-_-SkillsNetwork-Courses-IBMDeveloperSkillsNetwork-DL0101EN-SkillsNetwork-20718188&cm_mmca1=000026UJ&cm_mmca2=10006555&cm_mmca3=M12345678&cvosrc=email.Newsletter.M12345678&cvo_campaign=000026UJ&cm_mmc=Email_Newsletter-_-Developer_Ed%2BTech-_-WW_WW-_-SkillsNetwork-Courses-IBMDeveloperSkillsNetwork-DL0101EN-SkillsNetwork-20718188&cm_mmca1=000026UJ&cm_mmca2=10006555&cm_mmca3=M12345678&cvosrc=email.Newsletter.M12345678&cvo_campaign=000026UJ). I hope you found this lab interesting and educational. Feel free to contact me if you have any questions!\n"
   ]
  },
  {
   "cell_type": "markdown",
   "metadata": {},
   "source": [
    "## Change Log\n",
    "\n",
    "| Date (YYYY-MM-DD) | Version | Changed By | Change Description                                          |\n",
    "| ----------------- | ------- | ---------- | ----------------------------------------------------------- |\n",
    "| 2020-09-21        | 2.0     | Srishti    | Migrated Lab to Markdown and added to course repo in GitLab |\n",
    "\n",
    "<hr>\n",
    "\n",
    "## <h3 align=\"center\"> © IBM Corporation 2020. All rights reserved. <h3/>\n"
   ]
  },
  {
   "cell_type": "markdown",
   "metadata": {
    "button": false,
    "deletable": true,
    "new_sheet": false,
    "run_control": {
     "read_only": false
    }
   },
   "source": [
    "This notebook is part of a course on **Coursera** called _Introduction to Deep Learning & Neural Networks with Keras_. If you accessed this notebook outside the course, you can take this course online by clicking [here](https://cocl.us/DL0101EN_Coursera_Week3_LAB1).\n"
   ]
  },
  {
   "cell_type": "markdown",
   "metadata": {
    "button": false,
    "deletable": true,
    "new_sheet": false,
    "run_control": {
     "read_only": false
    }
   },
   "source": [
    "<hr>\n",
    "\n",
    "Copyright © 2019 [IBM Developer Skills Network](https://cognitiveclass.ai?utm_source=bducopyrightlink&utm_medium=dswb&utm_campaign=bdu&cm_mmc=Email_Newsletter-_-Developer_Ed%2BTech-_-WW_WW-_-SkillsNetwork-Courses-IBMDeveloperSkillsNetwork-DL0101EN-SkillsNetwork-20718188&cm_mmca1=000026UJ&cm_mmca2=10006555&cm_mmca3=M12345678&cvosrc=email.Newsletter.M12345678&cvo_campaign=000026UJ&cm_mmc=Email_Newsletter-_-Developer_Ed%2BTech-_-WW_WW-_-SkillsNetwork-Courses-IBMDeveloperSkillsNetwork-DL0101EN-SkillsNetwork-20718188&cm_mmca1=000026UJ&cm_mmca2=10006555&cm_mmca3=M12345678&cvosrc=email.Newsletter.M12345678&cvo_campaign=000026UJ&cm_mmc=Email_Newsletter-_-Developer_Ed%2BTech-_-WW_WW-_-SkillsNetwork-Courses-IBMDeveloperSkillsNetwork-DL0101EN-SkillsNetwork-20718188&cm_mmca1=000026UJ&cm_mmca2=10006555&cm_mmca3=M12345678&cvosrc=email.Newsletter.M12345678&cvo_campaign=000026UJ&cm_mmc=Email_Newsletter-_-Developer_Ed%2BTech-_-WW_WW-_-SkillsNetwork-Courses-IBMDeveloperSkillsNetwork-DL0101EN-SkillsNetwork-20718188&cm_mmca1=000026UJ&cm_mmca2=10006555&cm_mmca3=M12345678&cvosrc=email.Newsletter.M12345678&cvo_campaign=000026UJ). This notebook and its source code are released under the terms of the [MIT License](https://bigdatauniversity.com/mit-license?cm_mmc=Email_Newsletter-_-Developer_Ed%2BTech-_-WW_WW-_-SkillsNetwork-Courses-IBMDeveloperSkillsNetwork-DL0101EN-SkillsNetwork-20718188&cm_mmca1=000026UJ&cm_mmca2=10006555&cm_mmca3=M12345678&cvosrc=email.Newsletter.M12345678&cvo_campaign=000026UJ&cm_mmc=Email_Newsletter-_-Developer_Ed%2BTech-_-WW_WW-_-SkillsNetwork-Courses-IBMDeveloperSkillsNetwork-DL0101EN-SkillsNetwork-20718188&cm_mmca1=000026UJ&cm_mmca2=10006555&cm_mmca3=M12345678&cvosrc=email.Newsletter.M12345678&cvo_campaign=000026UJ).\n"
   ]
  }
 ],
 "metadata": {
  "kernelspec": {
   "name": "Python 3.8.5 64-bit ('deepenv': conda)",
   "display_name": "Python 3.8.5 64-bit ('deepenv': conda)",
   "metadata": {
    "interpreter": {
     "hash": "3c5438fccce4e5d1f207d357db5e446ad0eafa31e61f25205c7cb125b16c4885"
    }
   }
  },
  "language_info": {
   "codemirror_mode": {
    "name": "ipython",
    "version": 3
   },
   "file_extension": ".py",
   "mimetype": "text/x-python",
   "name": "python",
   "nbconvert_exporter": "python",
   "pygments_lexer": "ipython3",
   "version": "3.8.5-final"
  }
 },
 "nbformat": 4,
 "nbformat_minor": 4
}