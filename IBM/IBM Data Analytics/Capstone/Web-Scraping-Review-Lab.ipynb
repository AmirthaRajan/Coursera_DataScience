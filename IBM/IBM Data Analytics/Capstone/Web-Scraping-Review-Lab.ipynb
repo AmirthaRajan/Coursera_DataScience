{
 "cells": [
  {
   "cell_type": "markdown",
   "metadata": {},
   "source": [
    "<center>\n",
    "    <img src=\"https://gitlab.com/ibm/skills-network/courses/placeholder101/-/raw/master/labs/module%201/images/IDSNlogo.png\" width=\"300\" alt=\"cognitiveclass.ai logo\"  />\n",
    "</center>\n"
   ]
  },
  {
   "cell_type": "markdown",
   "metadata": {},
   "source": [
    "# **Web Scraping Lab**\n"
   ]
  },
  {
   "cell_type": "markdown",
   "metadata": {},
   "source": [
    "Estimated time needed: **30** minutes\n"
   ]
  },
  {
   "cell_type": "markdown",
   "metadata": {},
   "source": [
    "## Objectives\n"
   ]
  },
  {
   "cell_type": "markdown",
   "metadata": {},
   "source": [
    "After completing this lab you will be able to:\n"
   ]
  },
  {
   "cell_type": "markdown",
   "metadata": {},
   "source": [
    "-   Download a webpage using requests module\n",
    "-   Scrape all links from a web page\n",
    "-   Scrape all image urls from a web page\n",
    "-   Scrape data from html tables\n"
   ]
  },
  {
   "cell_type": "markdown",
   "metadata": {},
   "source": [
    "## Scrape [www.ibm.com](http://www.ibm.com?cm_mmc=Email_Newsletter-_-Developer_Ed%2BTech-_-WW_WW-_-SkillsNetwork-Courses-IBM-DA0321EN-SkillsNetwork-21426264&cm_mmca1=000026UJ&cm_mmca2=10006555&cm_mmca3=M12345678&cvosrc=email.Newsletter.M12345678&cvo_campaign=000026UJ&cm_mmc=Email_Newsletter-_-Developer_Ed%2BTech-_-WW_WW-_-SkillsNetwork-Courses-IBM-DA0321EN-SkillsNetwork-21426264&cm_mmca1=000026UJ&cm_mmca2=10006555&cm_mmca3=M12345678&cvosrc=email.Newsletter.M12345678&cvo_campaign=000026UJ)\n"
   ]
  },
  {
   "cell_type": "markdown",
   "metadata": {},
   "source": [
    "Import the required modules and functions\n"
   ]
  },
  {
   "cell_type": "code",
   "execution_count": 1,
   "metadata": {},
   "outputs": [],
   "source": [
    "from bs4 import BeautifulSoup # this module helps in web scrapping.\n",
    "import requests  # this module helps us to download a web page"
   ]
  },
  {
   "cell_type": "markdown",
   "metadata": {},
   "source": [
    "Download the contents of the web page\n"
   ]
  },
  {
   "cell_type": "code",
   "execution_count": 2,
   "metadata": {},
   "outputs": [],
   "source": [
    "url = \"http://www.ibm.com\""
   ]
  },
  {
   "cell_type": "code",
   "execution_count": 3,
   "metadata": {},
   "outputs": [],
   "source": [
    "# get the contents of the webpage in text format and store in a variable called data\n",
    "data  = requests.get(url).text "
   ]
  },
  {
   "cell_type": "markdown",
   "metadata": {},
   "source": [
    "Create a soup object using the class BeautifulSoup\n"
   ]
  },
  {
   "cell_type": "code",
   "execution_count": 4,
   "metadata": {},
   "outputs": [],
   "source": [
    "soup = BeautifulSoup(data,\"html5lib\")  # create a soup object using the variable 'data'"
   ]
  },
  {
   "cell_type": "markdown",
   "metadata": {},
   "source": [
    "Scrape all links\n"
   ]
  },
  {
   "cell_type": "code",
   "execution_count": 5,
   "metadata": {},
   "outputs": [
    {
     "name": "stdout",
     "output_type": "stream",
     "text": [
      "https://www.ibm.com/in/en\n",
      "https://www.ibm.com/sitemap/in/en\n",
      "/in-en/node/1706826\n",
      "https://smartatwork.s3.us.cloud-object-storage.appdomain.cloud/homepage/hc-advertising-ls-auto.jpg\n",
      "https://smartatwork.s3.us.cloud-object-storage.appdomain.cloud/homepage/hc-advertising-ls-auto.jpg\n",
      "https://www.ibm.com/in-en/cloud/hybrid?lnk=inhpv18l1\n",
      "/taxonomy/term/85416\n",
      "/in-en/node/2810374\n",
      "https://www.ibm.com/in-en/about#2810330\n",
      "/taxonomy/term/85416\n",
      "/in-en/node/1706851\n",
      "/in-en/node/1706841\n",
      "/in-en/node/1706831\n",
      "/in-en/node/1706836\n",
      "/in-en/node/1706846\n",
      "/taxonomy/term/85416\n",
      "/in-en/node/1706821\n",
      "/taxonomy/term/85416\n",
      "https://www.ibm.com/employment/in/\n",
      "/in-en/node/1706816\n",
      "https://www.ibm.com/in-en/marketplace/collections/offers-and-discounts/?link=inhpv18t5&lnk2=trial_mktpl_MPDISC\n",
      "/in-en/node/1706801\n",
      "/in-en/node/1706806\n",
      "/in-en/node/1706796\n",
      "/in-en/node/1706811\n",
      "/taxonomy/term/85416\n",
      "/in-en/node/1706866\n",
      "/in-en/node/1706861\n",
      "/taxonomy/term/85416\n",
      "/in-en/products\n",
      "https://www.ibm.com/in-en/cloud/hybrid?lnk=inhpv18l1\n",
      "https://www.ibm.com/in-en/cloud/hybrid?lnk=inhpv18l1\n",
      "https://www.ibm.com/in-en/about#2810330\n",
      "https://www.ibm.com/in-en/smarter-business/enterprise-applications?lnk=inhpv18f1\n",
      "http://www.ibm.com/in-en/events/cloud-podcasts?lnk=inhpv18f2\n",
      "https://www.research.ibm.com/5-in-5?lnk=inhpv18f3\n",
      "https://www.ibm.com/account/reg/signup?formid=urx-46355\n",
      "https://www.ibm.com/search?lang=en&amp;cc=in&amp;q=\n",
      "/in-en/products\n",
      "/in-en/products\n",
      "//www.ibm.com/in-en/products/category/technology/analytics\n",
      "//www.ibm.com/in-en/products/category/technology/cloud-computing\n",
      "//www.ibm.com/in-en/products/category/technology/mobile-technology\n",
      "//www.ibm.com/in-en/products/category/technology/cognitive-computing-and-AI\n",
      "//www.ibm.com/in-en/products/category/technology/IT-infrastructure\n",
      "//www.ibm.com/in-en/products/category/technology/security\n",
      "//www.ibm.com/in-en/products/category/technology/blockchain\n",
      "//www.ibm.com/in-en/products/category/technology/IT-management\n",
      "//www.ibm.com/in-en/products/category/technology/software-development\n",
      "//www.ibm.com/in-en/products/category/technology/analytics\n",
      "//www.ibm.com/in-en/products/category/technology/cloud-computing\n",
      "//www.ibm.com/in-en/products/category/technology/mobile-technology\n",
      "//www.ibm.com/in-en/products/category/technology/cognitive-computing-and-AI\n",
      "//www.ibm.com/in-en/products/category/technology/IT-infrastructure\n",
      "//www.ibm.com/in-en/products/category/technology/security\n",
      "//www.ibm.com/in-en/products/category/technology/blockchain\n",
      "//www.ibm.com/in-en/products/category/technology/IT-management\n",
      "//www.ibm.com/in-en/products/category/technology/software-development\n",
      "//www.ibm.com/in-en/products/category/business/business-operations\n",
      "//www.ibm.com/in-en/products/category/business/content-management\n",
      "//www.ibm.com/in-en/products/category/business/human-resources\n",
      "//www.ibm.com/in-en/products/category/business/collaboration\n",
      "//www.ibm.com/in-en/products/category/business/customer-service-and-CRM\n",
      "//www.ibm.com/in-en/products/category/business/marketing\n",
      "//www.ibm.com/in-en/products/category/business/commerce\n",
      "//www.ibm.com/in-en/products/category/business/finance\n",
      "//www.ibm.com/in-en/products/category/business/supply-chain-management\n",
      "https://www.ibm.com/in-en/marketplace/collections/offers-and-discounts/?link=inhpv18t5&lnk2=trial_mktpl_MPDISC\n",
      "https://cloud.ibm.com/registration?lnk=STW_IN_HP_T1_BLK&psrc=NONE&pexp=DEF&lnk2=trial_Cloud\n",
      "https://www.ibm.com/in-en/products/hosted-security-intelligence?lnk=STW_IN_HP_T2_BLK&psrc=NONE&pexp=DEF&lnk2=trial_QRadarCloud\n",
      "https://www.ibm.com/in-en/products/cognos-analytics?lnk=STW_IN_HP_T3_BLK&psrc=NONE&pexp=DEF&lnk2=trial_CogAnalytics\n",
      "https://cloud.ibm.com/registration?target=/developer/watson/launch-tool/conversation&hideTours=true&cm_sp=WatsonPlatform-WatsonPlatform-_-OnPageNavCTA-IBMWatson_Conversation-_-Watson_Developer_Website&lnk=STW_IN_HP_T4_BLK&psrc=NONE&pexp=DEF&lnk2=trial_WatAssist\n",
      "https://www.ibm.com/employment/in/\n",
      "https://www.ibm.com/employment/in/\n",
      "#\n"
     ]
    }
   ],
   "source": [
    "for link in soup.find_all('a'):  # in html anchor/link is represented by the tag <a>\n",
    "    print(link.get('href'))"
   ]
  },
  {
   "cell_type": "markdown",
   "metadata": {},
   "source": [
    "Scrape  all images\n"
   ]
  },
  {
   "cell_type": "code",
   "execution_count": 6,
   "metadata": {},
   "outputs": [
    {
     "name": "stdout",
     "output_type": "stream",
     "text": [
      "https://smartatwork.s3.us.cloud-object-storage.appdomain.cloud/homepage/hc-advertising-ls-auto.jpg\n",
      "https://1.dam.s81c.com/m/64ce011df70079a7/original/10052020-f-enterprise-applications-25422-444x320.jpg\n",
      "https://1.dam.s81c.com/public/content/dam/worldwide-content/homepage/ul/g/f9/a5/Logo-Lockup-444-w-x-320h-px.jpg\n",
      "https://1.dam.s81c.com/m/4c810ad421bc3ef7/original/09282020-f-5-in-5-2020-25440-444x320.png\n",
      "https://1.dam.s81c.com/m/3bbe4f5c5586c08d/original/cost-of-a-breach-444x320.jpg\n",
      "https://1.dam.s81c.com/m/13cef10976e080c1/original/IBM-Cloud-444x260.png\n",
      "https://1.dam.s81c.com/m/6441c02e23090051/original/QRadar-on-Cloud-21400-700x420.png\n",
      "https://1.dam.s81c.com/public/content/dam/worldwide-content/homepage/ul/g/2c/96/2c961b70-fffb-41b9-913396bee80baf68.png\n",
      "https://1.dam.s81c.com/public/content/dam/worldwide-content/homepage/ul/g/44/19/Hybrid%20Data%20Management%2020201202.png\n"
     ]
    }
   ],
   "source": [
    "for link in soup.find_all('img'):# in html image is represented by the tag <img>\n",
    "    print(link.get('src'))"
   ]
  },
  {
   "cell_type": "markdown",
   "metadata": {},
   "source": [
    "## Scrape data from html tables\n"
   ]
  },
  {
   "cell_type": "code",
   "execution_count": 7,
   "metadata": {},
   "outputs": [],
   "source": [
    "#The below url contains a html table with data about colors and color codes."
   ]
  },
  {
   "cell_type": "code",
   "execution_count": 8,
   "metadata": {},
   "outputs": [],
   "source": [
    "url = \"https://cf-courses-data.s3.us.cloud-object-storage.appdomain.cloud/IBM-DA0321EN-SkillsNetwork/labs/datasets/HTMLColorCodes.html\""
   ]
  },
  {
   "cell_type": "markdown",
   "metadata": {},
   "source": [
    "Before proceeding to scrape a web site, you need to examine the contents, and the way data is organized on the website. Open the above url in your browser and check how many rows and columns are there in the color table.\n"
   ]
  },
  {
   "cell_type": "code",
   "execution_count": 9,
   "metadata": {},
   "outputs": [],
   "source": [
    "# get the contents of the webpage in text format and store in a variable called data\n",
    "data  = requests.get(url).text"
   ]
  },
  {
   "cell_type": "code",
   "execution_count": 10,
   "metadata": {},
   "outputs": [],
   "source": [
    "soup = BeautifulSoup(data,\"html5lib\")"
   ]
  },
  {
   "cell_type": "code",
   "execution_count": 11,
   "metadata": {},
   "outputs": [],
   "source": [
    "#find a html table in the web page\n",
    "table = soup.find('table') # in html table is represented by the tag <table>"
   ]
  },
  {
   "cell_type": "code",
   "execution_count": 12,
   "metadata": {},
   "outputs": [
    {
     "name": "stdout",
     "output_type": "stream",
     "text": [
      "Color Name--->Hex Code#RRGGBB\n",
      "lightsalmon--->#FFA07A\n",
      "salmon--->#FA8072\n",
      "darksalmon--->#E9967A\n",
      "lightcoral--->#F08080\n",
      "coral--->#FF7F50\n",
      "tomato--->#FF6347\n",
      "orangered--->#FF4500\n",
      "gold--->#FFD700\n",
      "orange--->#FFA500\n",
      "darkorange--->#FF8C00\n",
      "lightyellow--->#FFFFE0\n",
      "lemonchiffon--->#FFFACD\n",
      "papayawhip--->#FFEFD5\n",
      "moccasin--->#FFE4B5\n",
      "peachpuff--->#FFDAB9\n",
      "palegoldenrod--->#EEE8AA\n",
      "khaki--->#F0E68C\n",
      "darkkhaki--->#BDB76B\n",
      "yellow--->#FFFF00\n",
      "lawngreen--->#7CFC00\n",
      "chartreuse--->#7FFF00\n",
      "limegreen--->#32CD32\n",
      "lime--->#00FF00\n",
      "forestgreen--->#228B22\n",
      "green--->#008000\n",
      "powderblue--->#B0E0E6\n",
      "lightblue--->#ADD8E6\n",
      "lightskyblue--->#87CEFA\n",
      "skyblue--->#87CEEB\n",
      "deepskyblue--->#00BFFF\n",
      "lightsteelblue--->#B0C4DE\n",
      "dodgerblue--->#1E90FF\n"
     ]
    }
   ],
   "source": [
    "#Get all rows from the table\n",
    "for row in table.find_all('tr'): # in html table row is represented by the tag <tr>\n",
    "    # Get all columns in each row.\n",
    "    cols = row.find_all('td') # in html a column is represented by the tag <td>\n",
    "    color_name = cols[2].getText() # store the value in column 3 as color_name\n",
    "    color_code = cols[3].getText() # store the value in column 4 as color_code\n",
    "    print(\"{}--->{}\".format(color_name,color_code))"
   ]
  },
  {
   "cell_type": "markdown",
   "metadata": {},
   "source": [
    "## Authors\n"
   ]
  },
  {
   "cell_type": "markdown",
   "metadata": {},
   "source": [
    "Ramesh Sannareddy\n"
   ]
  },
  {
   "cell_type": "markdown",
   "metadata": {},
   "source": [
    "### Other Contributors\n"
   ]
  },
  {
   "cell_type": "markdown",
   "metadata": {},
   "source": [
    "Rav Ahuja\n"
   ]
  },
  {
   "cell_type": "markdown",
   "metadata": {},
   "source": [
    "## Change Log\n"
   ]
  },
  {
   "cell_type": "markdown",
   "metadata": {},
   "source": [
    "| Date (YYYY-MM-DD) | Version | Changed By        | Change Description                 |\n",
    "| ----------------- | ------- | ----------------- | ---------------------------------- |\n",
    "| 2020-10-17        | 0.1     | Ramesh Sannareddy | Created initial version of the lab |\n"
   ]
  },
  {
   "cell_type": "markdown",
   "metadata": {},
   "source": [
    " Copyright © 2020 IBM Corporation. This notebook and its source code are released under the terms of the [MIT License](https://cognitiveclass.ai/mit-license?cm_mmc=Email_Newsletter-_-Developer_Ed%2BTech-_-WW_WW-_-SkillsNetwork-Courses-IBM-DA0321EN-SkillsNetwork-21426264&cm_mmca1=000026UJ&cm_mmca2=10006555&cm_mmca3=M12345678&cvosrc=email.Newsletter.M12345678&cvo_campaign=000026UJ&cm_mmc=Email_Newsletter-_-Developer_Ed%2BTech-_-WW_WW-_-SkillsNetwork-Courses-IBM-DA0321EN-SkillsNetwork-21426264&cm_mmca1=000026UJ&cm_mmca2=10006555&cm_mmca3=M12345678&cvosrc=email.Newsletter.M12345678&cvo_campaign=000026UJ&cm_mmc=Email_Newsletter-_-Developer_Ed%2BTech-_-WW_WW-_-SkillsNetwork-Courses-IBM-DA0321EN-SkillsNetwork-21426264&cm_mmca1=000026UJ&cm_mmca2=10006555&cm_mmca3=M12345678&cvosrc=email.Newsletter.M12345678&cvo_campaign=000026UJ&cm_mmc=Email_Newsletter-_-Developer_Ed%2BTech-_-WW_WW-_-SkillsNetwork-Courses-IBM-DA0321EN-SkillsNetwork-21426264&cm_mmca1=000026UJ&cm_mmca2=10006555&cm_mmca3=M12345678&cvosrc=email.Newsletter.M12345678&cvo_campaign=000026UJ).\n"
   ]
  }
 ],
 "metadata": {
  "kernelspec": {
   "display_name": "Python 3",
   "language": "python",
   "name": "python3"
  },
  "language_info": {
   "codemirror_mode": {
    "name": "ipython",
    "version": 3
   },
   "file_extension": ".py",
   "mimetype": "text/x-python",
   "name": "python",
   "nbconvert_exporter": "python",
   "pygments_lexer": "ipython3",
   "version": "3.8.5"
  }
 },
 "nbformat": 4,
 "nbformat_minor": 4
}
