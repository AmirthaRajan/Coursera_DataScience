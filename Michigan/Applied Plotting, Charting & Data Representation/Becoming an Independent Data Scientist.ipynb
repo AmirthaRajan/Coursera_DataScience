{
 "cells": [
  {
   "cell_type": "code",
   "execution_count": 1,
   "metadata": {},
   "outputs": [],
   "source": [
    "import pandas as pd\n",
    "import re\n",
    "import numpy as np\n",
    "from sklearn import preprocessing\n",
    "from math import pi\n",
    "import matplotlib.pyplot as plt\n",
    "import seaborn as sns"
   ]
  },
  {
   "cell_type": "code",
   "execution_count": 2,
   "metadata": {},
   "outputs": [],
   "source": [
    "df = pd.read_csv('players_stats_by_season_full_details.csv')"
   ]
  },
  {
   "cell_type": "code",
   "execution_count": 3,
   "metadata": {},
   "outputs": [
    {
     "data": {
      "text/html": [
       "<div>\n",
       "<style scoped>\n",
       "    .dataframe tbody tr th:only-of-type {\n",
       "        vertical-align: middle;\n",
       "    }\n",
       "\n",
       "    .dataframe tbody tr th {\n",
       "        vertical-align: top;\n",
       "    }\n",
       "\n",
       "    .dataframe thead th {\n",
       "        text-align: right;\n",
       "    }\n",
       "</style>\n",
       "<table border=\"1\" class=\"dataframe\">\n",
       "  <thead>\n",
       "    <tr style=\"text-align: right;\">\n",
       "      <th></th>\n",
       "      <th>League</th>\n",
       "      <th>Season</th>\n",
       "      <th>Stage</th>\n",
       "      <th>Player</th>\n",
       "      <th>Team</th>\n",
       "      <th>GP</th>\n",
       "      <th>MIN</th>\n",
       "      <th>FGM</th>\n",
       "      <th>FGA</th>\n",
       "      <th>3PM</th>\n",
       "      <th>...</th>\n",
       "      <th>PTS</th>\n",
       "      <th>birth_year</th>\n",
       "      <th>birth_month</th>\n",
       "      <th>birth_date</th>\n",
       "      <th>height</th>\n",
       "      <th>height_cm</th>\n",
       "      <th>weight</th>\n",
       "      <th>weight_kg</th>\n",
       "      <th>nationality</th>\n",
       "      <th>high_school</th>\n",
       "    </tr>\n",
       "  </thead>\n",
       "  <tbody>\n",
       "    <tr>\n",
       "      <th>0</th>\n",
       "      <td>NBA</td>\n",
       "      <td>2019 - 2020</td>\n",
       "      <td>Regular_Season</td>\n",
       "      <td>James Harden</td>\n",
       "      <td>HOU</td>\n",
       "      <td>68</td>\n",
       "      <td>2482.6</td>\n",
       "      <td>672</td>\n",
       "      <td>1514</td>\n",
       "      <td>299</td>\n",
       "      <td>...</td>\n",
       "      <td>2335</td>\n",
       "      <td>1989.0</td>\n",
       "      <td>Aug</td>\n",
       "      <td>Aug 26, 1989</td>\n",
       "      <td>6-5</td>\n",
       "      <td>196.0</td>\n",
       "      <td>220.0</td>\n",
       "      <td>100.0</td>\n",
       "      <td>United States</td>\n",
       "      <td>Artesia High School</td>\n",
       "    </tr>\n",
       "    <tr>\n",
       "      <th>1</th>\n",
       "      <td>NBA</td>\n",
       "      <td>2019 - 2020</td>\n",
       "      <td>Regular_Season</td>\n",
       "      <td>Damian Lillard</td>\n",
       "      <td>POR</td>\n",
       "      <td>66</td>\n",
       "      <td>2473.7</td>\n",
       "      <td>624</td>\n",
       "      <td>1349</td>\n",
       "      <td>270</td>\n",
       "      <td>...</td>\n",
       "      <td>1978</td>\n",
       "      <td>1990.0</td>\n",
       "      <td>Jul</td>\n",
       "      <td>Jul 15, 1990</td>\n",
       "      <td>6-3</td>\n",
       "      <td>191.0</td>\n",
       "      <td>195.0</td>\n",
       "      <td>88.0</td>\n",
       "      <td>United States</td>\n",
       "      <td>Oakland High School</td>\n",
       "    </tr>\n",
       "    <tr>\n",
       "      <th>2</th>\n",
       "      <td>NBA</td>\n",
       "      <td>2019 - 2020</td>\n",
       "      <td>Regular_Season</td>\n",
       "      <td>Devin Booker</td>\n",
       "      <td>PHX</td>\n",
       "      <td>70</td>\n",
       "      <td>2511.8</td>\n",
       "      <td>627</td>\n",
       "      <td>1283</td>\n",
       "      <td>141</td>\n",
       "      <td>...</td>\n",
       "      <td>1863</td>\n",
       "      <td>1996.0</td>\n",
       "      <td>Oct</td>\n",
       "      <td>Oct 30, 1996</td>\n",
       "      <td>6-6</td>\n",
       "      <td>198.0</td>\n",
       "      <td>206.0</td>\n",
       "      <td>93.0</td>\n",
       "      <td>United States</td>\n",
       "      <td>Moss Point High School</td>\n",
       "    </tr>\n",
       "    <tr>\n",
       "      <th>3</th>\n",
       "      <td>NBA</td>\n",
       "      <td>2019 - 2020</td>\n",
       "      <td>Regular_Season</td>\n",
       "      <td>Giannis Antetokounmpo</td>\n",
       "      <td>MIL</td>\n",
       "      <td>63</td>\n",
       "      <td>1916.9</td>\n",
       "      <td>685</td>\n",
       "      <td>1238</td>\n",
       "      <td>89</td>\n",
       "      <td>...</td>\n",
       "      <td>1857</td>\n",
       "      <td>1994.0</td>\n",
       "      <td>Dec</td>\n",
       "      <td>Dec 6, 1994</td>\n",
       "      <td>6-11</td>\n",
       "      <td>211.0</td>\n",
       "      <td>242.0</td>\n",
       "      <td>110.0</td>\n",
       "      <td>Greece / Nigeria</td>\n",
       "      <td>NaN</td>\n",
       "    </tr>\n",
       "    <tr>\n",
       "      <th>4</th>\n",
       "      <td>NBA</td>\n",
       "      <td>2019 - 2020</td>\n",
       "      <td>Regular_Season</td>\n",
       "      <td>Trae Young</td>\n",
       "      <td>ATL</td>\n",
       "      <td>60</td>\n",
       "      <td>2120.1</td>\n",
       "      <td>546</td>\n",
       "      <td>1249</td>\n",
       "      <td>205</td>\n",
       "      <td>...</td>\n",
       "      <td>1778</td>\n",
       "      <td>1998.0</td>\n",
       "      <td>Sep</td>\n",
       "      <td>Sep 19, 1998</td>\n",
       "      <td>6-2</td>\n",
       "      <td>188.0</td>\n",
       "      <td>180.0</td>\n",
       "      <td>82.0</td>\n",
       "      <td>United States</td>\n",
       "      <td>Norman High School</td>\n",
       "    </tr>\n",
       "  </tbody>\n",
       "</table>\n",
       "<p>5 rows × 31 columns</p>\n",
       "</div>"
      ],
      "text/plain": [
       "  League       Season           Stage                 Player Team  GP     MIN  \\\n",
       "0    NBA  2019 - 2020  Regular_Season           James Harden  HOU  68  2482.6   \n",
       "1    NBA  2019 - 2020  Regular_Season         Damian Lillard  POR  66  2473.7   \n",
       "2    NBA  2019 - 2020  Regular_Season           Devin Booker  PHX  70  2511.8   \n",
       "3    NBA  2019 - 2020  Regular_Season  Giannis Antetokounmpo  MIL  63  1916.9   \n",
       "4    NBA  2019 - 2020  Regular_Season             Trae Young  ATL  60  2120.1   \n",
       "\n",
       "   FGM   FGA  3PM  ...   PTS  birth_year  birth_month    birth_date  height  \\\n",
       "0  672  1514  299  ...  2335      1989.0          Aug  Aug 26, 1989     6-5   \n",
       "1  624  1349  270  ...  1978      1990.0          Jul  Jul 15, 1990     6-3   \n",
       "2  627  1283  141  ...  1863      1996.0          Oct  Oct 30, 1996     6-6   \n",
       "3  685  1238   89  ...  1857      1994.0          Dec   Dec 6, 1994    6-11   \n",
       "4  546  1249  205  ...  1778      1998.0          Sep  Sep 19, 1998     6-2   \n",
       "\n",
       "   height_cm  weight  weight_kg       nationality             high_school  \n",
       "0      196.0   220.0      100.0     United States     Artesia High School  \n",
       "1      191.0   195.0       88.0     United States     Oakland High School  \n",
       "2      198.0   206.0       93.0     United States  Moss Point High School  \n",
       "3      211.0   242.0      110.0  Greece / Nigeria                     NaN  \n",
       "4      188.0   180.0       82.0     United States      Norman High School  \n",
       "\n",
       "[5 rows x 31 columns]"
      ]
     },
     "execution_count": 3,
     "metadata": {},
     "output_type": "execute_result"
    }
   ],
   "source": [
    "df.head()"
   ]
  },
  {
   "cell_type": "code",
   "execution_count": 4,
   "metadata": {},
   "outputs": [
    {
     "data": {
      "text/plain": [
       "(53798, 31)"
      ]
     },
     "execution_count": 4,
     "metadata": {},
     "output_type": "execute_result"
    }
   ],
   "source": [
    "df.shape"
   ]
  },
  {
   "cell_type": "code",
   "execution_count": 5,
   "metadata": {},
   "outputs": [],
   "source": [
    "df.drop('high_school',axis=1,inplace=True)"
   ]
  },
  {
   "cell_type": "code",
   "execution_count": 6,
   "metadata": {},
   "outputs": [],
   "source": [
    "df.dropna(inplace=True)"
   ]
  },
  {
   "cell_type": "code",
   "execution_count": 7,
   "metadata": {},
   "outputs": [],
   "source": [
    "df.reset_index(drop=True,inplace=True)"
   ]
  },
  {
   "cell_type": "code",
   "execution_count": 8,
   "metadata": {},
   "outputs": [],
   "source": [
    "#df.set_index('Team',inplace=True)"
   ]
  },
  {
   "cell_type": "code",
   "execution_count": 9,
   "metadata": {},
   "outputs": [],
   "source": [
    "#df.sort_index(inplace=True)"
   ]
  },
  {
   "cell_type": "code",
   "execution_count": 10,
   "metadata": {},
   "outputs": [],
   "source": [
    "df.Season = df.Season.astype(str)"
   ]
  },
  {
   "cell_type": "code",
   "execution_count": 11,
   "metadata": {},
   "outputs": [],
   "source": [
    "df.Season = df.Season.replace('(\\-.\\d.*)$','',regex=True).astype(int)"
   ]
  },
  {
   "cell_type": "code",
   "execution_count": 12,
   "metadata": {},
   "outputs": [],
   "source": [
    "df.sort_values(by=['Team','Season'],ascending=[True,False],inplace=True)"
   ]
  },
  {
   "cell_type": "code",
   "execution_count": 13,
   "metadata": {},
   "outputs": [
    {
     "data": {
      "text/html": [
       "<div>\n",
       "<style scoped>\n",
       "    .dataframe tbody tr th:only-of-type {\n",
       "        vertical-align: middle;\n",
       "    }\n",
       "\n",
       "    .dataframe tbody tr th {\n",
       "        vertical-align: top;\n",
       "    }\n",
       "\n",
       "    .dataframe thead th {\n",
       "        text-align: right;\n",
       "    }\n",
       "</style>\n",
       "<table border=\"1\" class=\"dataframe\">\n",
       "  <thead>\n",
       "    <tr style=\"text-align: right;\">\n",
       "      <th></th>\n",
       "      <th>League</th>\n",
       "      <th>Season</th>\n",
       "      <th>Stage</th>\n",
       "      <th>Player</th>\n",
       "      <th>Team</th>\n",
       "      <th>GP</th>\n",
       "      <th>MIN</th>\n",
       "      <th>FGM</th>\n",
       "      <th>FGA</th>\n",
       "      <th>3PM</th>\n",
       "      <th>...</th>\n",
       "      <th>BLK</th>\n",
       "      <th>PTS</th>\n",
       "      <th>birth_year</th>\n",
       "      <th>birth_month</th>\n",
       "      <th>birth_date</th>\n",
       "      <th>height</th>\n",
       "      <th>height_cm</th>\n",
       "      <th>weight</th>\n",
       "      <th>weight_kg</th>\n",
       "      <th>nationality</th>\n",
       "    </tr>\n",
       "  </thead>\n",
       "  <tbody>\n",
       "    <tr>\n",
       "      <th>33393</th>\n",
       "      <td>Swedish-Basketligan</td>\n",
       "      <td>2012</td>\n",
       "      <td>International</td>\n",
       "      <td>Kodi Augustus</td>\n",
       "      <td>08S</td>\n",
       "      <td>33</td>\n",
       "      <td>835.0</td>\n",
       "      <td>217</td>\n",
       "      <td>405</td>\n",
       "      <td>37</td>\n",
       "      <td>...</td>\n",
       "      <td>56</td>\n",
       "      <td>563</td>\n",
       "      <td>1987.0</td>\n",
       "      <td>Nov</td>\n",
       "      <td>Nov 2, 1987</td>\n",
       "      <td>6-8</td>\n",
       "      <td>203.0</td>\n",
       "      <td>224.0</td>\n",
       "      <td>102.0</td>\n",
       "      <td>United States</td>\n",
       "    </tr>\n",
       "    <tr>\n",
       "      <th>33403</th>\n",
       "      <td>Swedish-Basketligan</td>\n",
       "      <td>2012</td>\n",
       "      <td>International</td>\n",
       "      <td>Isiah Brown</td>\n",
       "      <td>08S</td>\n",
       "      <td>37</td>\n",
       "      <td>819.9</td>\n",
       "      <td>189</td>\n",
       "      <td>299</td>\n",
       "      <td>2</td>\n",
       "      <td>...</td>\n",
       "      <td>42</td>\n",
       "      <td>473</td>\n",
       "      <td>1989.0</td>\n",
       "      <td>Aug</td>\n",
       "      <td>Aug 8, 1989</td>\n",
       "      <td>6-8</td>\n",
       "      <td>203.0</td>\n",
       "      <td>210.0</td>\n",
       "      <td>95.0</td>\n",
       "      <td>United States</td>\n",
       "    </tr>\n",
       "    <tr>\n",
       "      <th>33409</th>\n",
       "      <td>Swedish-Basketligan</td>\n",
       "      <td>2012</td>\n",
       "      <td>International</td>\n",
       "      <td>Joakim Blom</td>\n",
       "      <td>08S</td>\n",
       "      <td>37</td>\n",
       "      <td>1158.8</td>\n",
       "      <td>169</td>\n",
       "      <td>361</td>\n",
       "      <td>32</td>\n",
       "      <td>...</td>\n",
       "      <td>9</td>\n",
       "      <td>433</td>\n",
       "      <td>1976.0</td>\n",
       "      <td>Mar</td>\n",
       "      <td>Mar 16, 1976</td>\n",
       "      <td>6-11</td>\n",
       "      <td>211.0</td>\n",
       "      <td>253.0</td>\n",
       "      <td>115.0</td>\n",
       "      <td>Sweden</td>\n",
       "    </tr>\n",
       "    <tr>\n",
       "      <th>33416</th>\n",
       "      <td>Swedish-Basketligan</td>\n",
       "      <td>2012</td>\n",
       "      <td>International</td>\n",
       "      <td>Nils Hedstrom</td>\n",
       "      <td>08S</td>\n",
       "      <td>35</td>\n",
       "      <td>1109.4</td>\n",
       "      <td>129</td>\n",
       "      <td>274</td>\n",
       "      <td>71</td>\n",
       "      <td>...</td>\n",
       "      <td>1</td>\n",
       "      <td>369</td>\n",
       "      <td>1983.0</td>\n",
       "      <td>May</td>\n",
       "      <td>May 8, 1983</td>\n",
       "      <td>6-3</td>\n",
       "      <td>191.0</td>\n",
       "      <td>195.0</td>\n",
       "      <td>88.0</td>\n",
       "      <td>Sweden</td>\n",
       "    </tr>\n",
       "    <tr>\n",
       "      <th>33426</th>\n",
       "      <td>Swedish-Basketligan</td>\n",
       "      <td>2012</td>\n",
       "      <td>International</td>\n",
       "      <td>Bojan Cvilak</td>\n",
       "      <td>08S</td>\n",
       "      <td>37</td>\n",
       "      <td>831.6</td>\n",
       "      <td>118</td>\n",
       "      <td>253</td>\n",
       "      <td>31</td>\n",
       "      <td>...</td>\n",
       "      <td>8</td>\n",
       "      <td>319</td>\n",
       "      <td>1982.0</td>\n",
       "      <td>Oct</td>\n",
       "      <td>Oct 2, 1982</td>\n",
       "      <td>6-7</td>\n",
       "      <td>201.0</td>\n",
       "      <td>212.0</td>\n",
       "      <td>96.0</td>\n",
       "      <td>Sweden</td>\n",
       "    </tr>\n",
       "  </tbody>\n",
       "</table>\n",
       "<p>5 rows × 30 columns</p>\n",
       "</div>"
      ],
      "text/plain": [
       "                    League  Season          Stage         Player Team  GP  \\\n",
       "33393  Swedish-Basketligan    2012  International  Kodi Augustus  08S  33   \n",
       "33403  Swedish-Basketligan    2012  International    Isiah Brown  08S  37   \n",
       "33409  Swedish-Basketligan    2012  International    Joakim Blom  08S  37   \n",
       "33416  Swedish-Basketligan    2012  International  Nils Hedstrom  08S  35   \n",
       "33426  Swedish-Basketligan    2012  International   Bojan Cvilak  08S  37   \n",
       "\n",
       "          MIN  FGM  FGA  3PM  ...  BLK  PTS  birth_year  birth_month  \\\n",
       "33393   835.0  217  405   37  ...   56  563      1987.0          Nov   \n",
       "33403   819.9  189  299    2  ...   42  473      1989.0          Aug   \n",
       "33409  1158.8  169  361   32  ...    9  433      1976.0          Mar   \n",
       "33416  1109.4  129  274   71  ...    1  369      1983.0          May   \n",
       "33426   831.6  118  253   31  ...    8  319      1982.0          Oct   \n",
       "\n",
       "         birth_date  height  height_cm  weight  weight_kg    nationality  \n",
       "33393   Nov 2, 1987     6-8      203.0   224.0      102.0  United States  \n",
       "33403   Aug 8, 1989     6-8      203.0   210.0       95.0  United States  \n",
       "33409  Mar 16, 1976    6-11      211.0   253.0      115.0         Sweden  \n",
       "33416   May 8, 1983     6-3      191.0   195.0       88.0         Sweden  \n",
       "33426   Oct 2, 1982     6-7      201.0   212.0       96.0         Sweden  \n",
       "\n",
       "[5 rows x 30 columns]"
      ]
     },
     "execution_count": 13,
     "metadata": {},
     "output_type": "execute_result"
    }
   ],
   "source": [
    "df.head()"
   ]
  },
  {
   "cell_type": "code",
   "execution_count": 14,
   "metadata": {},
   "outputs": [],
   "source": [
    "df_19 = df[df['Season'] == 2019]"
   ]
  },
  {
   "cell_type": "code",
   "execution_count": 15,
   "metadata": {},
   "outputs": [],
   "source": [
    "df_19.set_index('Player',inplace=True)"
   ]
  },
  {
   "cell_type": "code",
   "execution_count": 16,
   "metadata": {},
   "outputs": [
    {
     "name": "stderr",
     "output_type": "stream",
     "text": [
      "<ipython-input-16-252f7d7377dd>:1: SettingWithCopyWarning: \n",
      "A value is trying to be set on a copy of a slice from a DataFrame\n",
      "\n",
      "See the caveats in the documentation: https://pandas.pydata.org/pandas-docs/stable/user_guide/indexing.html#returning-a-view-versus-a-copy\n",
      "  df_19.sort_index(inplace=True)\n"
     ]
    }
   ],
   "source": [
    "df_19.sort_index(inplace=True)"
   ]
  },
  {
   "cell_type": "code",
   "execution_count": 17,
   "metadata": {},
   "outputs": [],
   "source": [
    "player_df = df_19.groupby(['Player']).agg({'GP':np.sum,'PTS':np.sum,'BLK':np.sum,'STL':np.sum,'AST':np.sum,'ORB':np.sum,'DRB':np.sum}).sort_values('PTS',ascending=False)"
   ]
  },
  {
   "cell_type": "code",
   "execution_count": 27,
   "metadata": {},
   "outputs": [
    {
     "data": {
      "text/html": [
       "<div>\n",
       "<style scoped>\n",
       "    .dataframe tbody tr th:only-of-type {\n",
       "        vertical-align: middle;\n",
       "    }\n",
       "\n",
       "    .dataframe tbody tr th {\n",
       "        vertical-align: top;\n",
       "    }\n",
       "\n",
       "    .dataframe thead th {\n",
       "        text-align: right;\n",
       "    }\n",
       "</style>\n",
       "<table border=\"1\" class=\"dataframe\">\n",
       "  <thead>\n",
       "    <tr style=\"text-align: right;\">\n",
       "      <th></th>\n",
       "      <th>GP</th>\n",
       "      <th>PTS</th>\n",
       "      <th>BLK</th>\n",
       "      <th>STL</th>\n",
       "      <th>AST</th>\n",
       "      <th>ORB</th>\n",
       "      <th>DRB</th>\n",
       "    </tr>\n",
       "    <tr>\n",
       "      <th>Player</th>\n",
       "      <th></th>\n",
       "      <th></th>\n",
       "      <th></th>\n",
       "      <th></th>\n",
       "      <th></th>\n",
       "      <th></th>\n",
       "      <th></th>\n",
       "    </tr>\n",
       "  </thead>\n",
       "  <tbody>\n",
       "    <tr>\n",
       "      <th>Paul Zipser</th>\n",
       "      <td>82</td>\n",
       "      <td>897</td>\n",
       "      <td>34</td>\n",
       "      <td>38</td>\n",
       "      <td>97</td>\n",
       "      <td>81</td>\n",
       "      <td>243</td>\n",
       "    </tr>\n",
       "    <tr>\n",
       "      <th>Niels Giffey</th>\n",
       "      <td>86</td>\n",
       "      <td>838</td>\n",
       "      <td>18</td>\n",
       "      <td>55</td>\n",
       "      <td>113</td>\n",
       "      <td>71</td>\n",
       "      <td>160</td>\n",
       "    </tr>\n",
       "    <tr>\n",
       "      <th>Landry Nnoko</th>\n",
       "      <td>82</td>\n",
       "      <td>818</td>\n",
       "      <td>75</td>\n",
       "      <td>42</td>\n",
       "      <td>76</td>\n",
       "      <td>186</td>\n",
       "      <td>303</td>\n",
       "    </tr>\n",
       "    <tr>\n",
       "      <th>Luke Sikma</th>\n",
       "      <td>84</td>\n",
       "      <td>811</td>\n",
       "      <td>27</td>\n",
       "      <td>94</td>\n",
       "      <td>367</td>\n",
       "      <td>181</td>\n",
       "      <td>414</td>\n",
       "    </tr>\n",
       "    <tr>\n",
       "      <th>Justin Jackson</th>\n",
       "      <td>83</td>\n",
       "      <td>501</td>\n",
       "      <td>34</td>\n",
       "      <td>41</td>\n",
       "      <td>76</td>\n",
       "      <td>67</td>\n",
       "      <td>203</td>\n",
       "    </tr>\n",
       "  </tbody>\n",
       "</table>\n",
       "</div>"
      ],
      "text/plain": [
       "                GP  PTS  BLK  STL  AST  ORB  DRB\n",
       "Player                                          \n",
       "Paul Zipser     82  897   34   38   97   81  243\n",
       "Niels Giffey    86  838   18   55  113   71  160\n",
       "Landry Nnoko    82  818   75   42   76  186  303\n",
       "Luke Sikma      84  811   27   94  367  181  414\n",
       "Justin Jackson  83  501   34   41   76   67  203"
      ]
     },
     "execution_count": 27,
     "metadata": {},
     "output_type": "execute_result"
    }
   ],
   "source": [
    "player_df[player_df.GP.between(80,90)][1:6]"
   ]
  },
  {
   "cell_type": "code",
   "execution_count": 36,
   "metadata": {},
   "outputs": [],
   "source": [
    "top_df = player_df[player_df.GP.between(80,90)][1:6]"
   ]
  },
  {
   "cell_type": "code",
   "execution_count": 37,
   "metadata": {},
   "outputs": [],
   "source": [
    "norm_df = top_df[['GP','PTS','BLK','STL','AST','ORB','DRB']] / top_df[['GP','PTS','BLK','STL','AST','ORB','DRB']].max()"
   ]
  },
  {
   "cell_type": "code",
   "execution_count": 38,
   "metadata": {},
   "outputs": [],
   "source": [
    "categories = norm_df.columns[2:]"
   ]
  },
  {
   "cell_type": "code",
   "execution_count": 39,
   "metadata": {},
   "outputs": [],
   "source": [
    "N = len(categories)"
   ]
  },
  {
   "cell_type": "code",
   "execution_count": 45,
   "metadata": {},
   "outputs": [],
   "source": [
    "colors = sns.color_palette(None,5)"
   ]
  },
  {
   "cell_type": "code",
   "execution_count": 62,
   "metadata": {},
   "outputs": [
    {
     "data": {
      "image/png": "[encoded data removed]",
      "text/plain": [
       "<Figure size 432x288 with 1 Axes>"
      ]
     },
     "metadata": {},
     "output_type": "display_data"
    }
   ],
   "source": [
    "angles = [n/float(N) * 2 * pi for n in range(N)]\n",
    "angles += angles[:1]\n",
    "ax = plt.subplot(polar=True)\n",
    "plt.xticks(angles[:-1],categories,color='grey',size=12);\n",
    "#ax.set_rlabel_position(4);\n",
    "label_placement = np.linspace(start=0,stop=2*pi,num=6)\n",
    "plt.thetagrids(np.degrees(label_placement))\n",
    "plt.yticks([0,0.2,0.4,0.6,0.8,1]);\n",
    "plt.ylim(0,1);\n",
    "for index,player in enumerate(norm_df.index):\n",
    "    values = norm_df.loc[player].values[2:].tolist()\n",
    "    values += values[:1]\n",
    "    ax.plot(label_placement,values,linewidth=1,linestyle='solid',label=player,color=colors[index])\n",
    "    #ax.fill(angles,values,colors[index],alpha=0.4)\n",
    "plt.legend(loc='upper right', bbox_to_anchor=(0.1, 0.1));\n",
    "plt.title(\"Top 5 NBA Player Stats Comparison for Season 2019-20\\n who Played 80-90 Games \");"
   ]
  },
  {
   "cell_type": "code",
   "execution_count": null,
   "metadata": {},
   "outputs": [],
   "source": []
  },
  {
   "cell_type": "code",
   "execution_count": null,
   "metadata": {},
   "outputs": [],
   "source": []
  }
 ],
 "metadata": {
  "kernelspec": {
   "display_name": "Python 3",
   "language": "python",
   "name": "python3"
  },
  "language_info": {
   "codemirror_mode": {
    "name": "ipython",
    "version": 3
   },
   "file_extension": ".py",
   "mimetype": "text/x-python",
   "name": "python",
   "nbconvert_exporter": "python",
   "pygments_lexer": "ipython3",
   "version": "3.8.3"
  }
 },
 "nbformat": 4,
 "nbformat_minor": 4
}
