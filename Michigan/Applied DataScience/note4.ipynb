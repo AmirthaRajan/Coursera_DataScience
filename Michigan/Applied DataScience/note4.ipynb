{
 "cells": [
  {
   "cell_type": "code",
   "execution_count": 27,
   "metadata": {},
   "outputs": [],
   "source": [
    "import pandas as pd\n",
    "import numpy as np\n",
    "import scipy.stats as stats\n",
    "import re"
   ]
  },
  {
   "cell_type": "code",
   "execution_count": 122,
   "metadata": {},
   "outputs": [
    {
     "data": {
      "text/plain": [
       "array([], shape=(0, 0), dtype=int32)"
      ]
     },
     "execution_count": 122,
     "metadata": {},
     "output_type": "execute_result"
    }
   ],
   "source": [
    "n = 4\n",
    "\n",
    "np.tile( [ [ 0, 1], [ 1, 0] ], ( 1//2, 1//2) ) \n",
    "\n"
   ]
  },
  {
   "cell_type": "code",
   "execution_count": 44,
   "metadata": {},
   "outputs": [
    {
     "data": {
      "text/plain": [
       "array([], dtype=int32)"
      ]
     },
     "execution_count": 44,
     "metadata": {},
     "output_type": "execute_result"
    }
   ],
   "source": [
    "np.arange(10,2,5)"
   ]
  },
  {
   "cell_type": "code",
   "execution_count": 11,
   "metadata": {},
   "outputs": [
    {
     "ename": "AttributeError",
     "evalue": "'list' object has no attribute 'filter'",
     "output_type": "error",
     "traceback": [
      "\u001b[1;31m---------------------------------------------------------------------------\u001b[0m",
      "\u001b[1;31mAttributeError\u001b[0m                            Traceback (most recent call last)",
      "\u001b[1;32m<ipython-input-11-a333f4c926a6>\u001b[0m in \u001b[0;36m<module>\u001b[1;34m\u001b[0m\n\u001b[1;32m----> 1\u001b[1;33m \u001b[1;33m[\u001b[0m\u001b[1;36m0\u001b[0m\u001b[1;33m,\u001b[0m\u001b[1;36m3\u001b[0m\u001b[1;33m,\u001b[0m\u001b[1;36m5\u001b[0m\u001b[1;33m,\u001b[0m\u001b[1;36m6\u001b[0m\u001b[1;33m,\u001b[0m\u001b[1;36m7\u001b[0m\u001b[1;33m,\u001b[0m\u001b[1;36m8\u001b[0m\u001b[1;33m]\u001b[0m\u001b[1;33m.\u001b[0m\u001b[0mfilter\u001b[0m\u001b[1;33m(\u001b[0m\u001b[1;32mlambda\u001b[0m \u001b[0mx\u001b[0m\u001b[1;33m:\u001b[0m \u001b[0mx\u001b[0m\u001b[1;33m%\u001b[0m\u001b[1;36m2\u001b[0m \u001b[1;33m==\u001b[0m \u001b[1;36m0\u001b[0m\u001b[1;33m)\u001b[0m\u001b[1;33m\u001b[0m\u001b[1;33m\u001b[0m\u001b[0m\n\u001b[0m",
      "\u001b[1;31mAttributeError\u001b[0m: 'list' object has no attribute 'filter'"
     ]
    }
   ],
   "source": [
    "[0,3,5,6,7,8].filter(lambda x: x%2 == 0)"
   ]
  },
  {
   "cell_type": "code",
   "execution_count": 26,
   "metadata": {},
   "outputs": [],
   "source": [
    "nhl_df=pd.read_csv(\"assets/nhl.csv\")\n",
    "cities=pd.read_html(\"assets/wikipedia_data.html\")[1]\n",
    "cities=cities.iloc[:-1,[0,3,5,6,7,8]]"
   ]
  },
  {
   "cell_type": "code",
   "execution_count": 2,
   "metadata": {},
   "outputs": [],
   "source": [
    "nhl_df = nhl_df[nhl_df['year'] == 2018]"
   ]
  },
  {
   "cell_type": "code",
   "execution_count": 3,
   "metadata": {},
   "outputs": [
    {
     "data": {
      "text/html": [
       "<div>\n",
       "<style scoped>\n",
       "    .dataframe tbody tr th:only-of-type {\n",
       "        vertical-align: middle;\n",
       "    }\n",
       "\n",
       "    .dataframe tbody tr th {\n",
       "        vertical-align: top;\n",
       "    }\n",
       "\n",
       "    .dataframe thead th {\n",
       "        text-align: right;\n",
       "    }\n",
       "</style>\n",
       "<table border=\"1\" class=\"dataframe\">\n",
       "  <thead>\n",
       "    <tr style=\"text-align: right;\">\n",
       "      <th></th>\n",
       "      <th>Metropolitan area</th>\n",
       "      <th>Population (2016 est.)[8]</th>\n",
       "      <th>NFL</th>\n",
       "      <th>MLB</th>\n",
       "      <th>NBA</th>\n",
       "      <th>NHL</th>\n",
       "    </tr>\n",
       "  </thead>\n",
       "  <tbody>\n",
       "    <tr>\n",
       "      <th>0</th>\n",
       "      <td>New York City</td>\n",
       "      <td>20153634</td>\n",
       "      <td>GiantsJets[note 1]</td>\n",
       "      <td>YankeesMets[note 2]</td>\n",
       "      <td>KnicksNets</td>\n",
       "      <td>RangersIslandersDevils[note 3]</td>\n",
       "    </tr>\n",
       "    <tr>\n",
       "      <th>1</th>\n",
       "      <td>Los Angeles</td>\n",
       "      <td>13310447</td>\n",
       "      <td>RamsChargers[note 4]</td>\n",
       "      <td>DodgersAngels</td>\n",
       "      <td>LakersClippers</td>\n",
       "      <td>KingsDucks</td>\n",
       "    </tr>\n",
       "    <tr>\n",
       "      <th>2</th>\n",
       "      <td>San Francisco Bay Area</td>\n",
       "      <td>6657982</td>\n",
       "      <td>49ersRaiders[note 6]</td>\n",
       "      <td>GiantsAthletics</td>\n",
       "      <td>Warriors</td>\n",
       "      <td>Sharks[note 7]</td>\n",
       "    </tr>\n",
       "    <tr>\n",
       "      <th>3</th>\n",
       "      <td>Chicago</td>\n",
       "      <td>9512999</td>\n",
       "      <td>Bears[note 8]</td>\n",
       "      <td>CubsWhite Sox</td>\n",
       "      <td>Bulls[note 9]</td>\n",
       "      <td>Blackhawks</td>\n",
       "    </tr>\n",
       "    <tr>\n",
       "      <th>4</th>\n",
       "      <td>Dallas–Fort Worth</td>\n",
       "      <td>7233323</td>\n",
       "      <td>Cowboys</td>\n",
       "      <td>Rangers</td>\n",
       "      <td>Mavericks</td>\n",
       "      <td>Stars</td>\n",
       "    </tr>\n",
       "    <tr>\n",
       "      <th>5</th>\n",
       "      <td>Washington, D.C.</td>\n",
       "      <td>6131977</td>\n",
       "      <td>Redskins</td>\n",
       "      <td>Nationals[note 10]</td>\n",
       "      <td>Wizards[note 11]</td>\n",
       "      <td>Capitals</td>\n",
       "    </tr>\n",
       "    <tr>\n",
       "      <th>6</th>\n",
       "      <td>Philadelphia</td>\n",
       "      <td>6070500</td>\n",
       "      <td>Eagles</td>\n",
       "      <td>Phillies[note 12]</td>\n",
       "      <td>76ers</td>\n",
       "      <td>Flyers[note 13]</td>\n",
       "    </tr>\n",
       "    <tr>\n",
       "      <th>7</th>\n",
       "      <td>Boston</td>\n",
       "      <td>4794447</td>\n",
       "      <td>Patriots[note 14]</td>\n",
       "      <td>Red Sox[note 15]</td>\n",
       "      <td>Celtics</td>\n",
       "      <td>Bruins</td>\n",
       "    </tr>\n",
       "    <tr>\n",
       "      <th>8</th>\n",
       "      <td>Minneapolis–Saint Paul</td>\n",
       "      <td>3551036</td>\n",
       "      <td>Vikings</td>\n",
       "      <td>Twins</td>\n",
       "      <td>Timberwolves</td>\n",
       "      <td>Wild[note 16]</td>\n",
       "    </tr>\n",
       "    <tr>\n",
       "      <th>9</th>\n",
       "      <td>Denver</td>\n",
       "      <td>2853077</td>\n",
       "      <td>Broncos</td>\n",
       "      <td>Rockies</td>\n",
       "      <td>Nuggets[note 17]</td>\n",
       "      <td>Avalanche[note 18]</td>\n",
       "    </tr>\n",
       "    <tr>\n",
       "      <th>10</th>\n",
       "      <td>Miami–Fort Lauderdale</td>\n",
       "      <td>6066387</td>\n",
       "      <td>Dolphins</td>\n",
       "      <td>Marlins</td>\n",
       "      <td>Heat</td>\n",
       "      <td>Panthers</td>\n",
       "    </tr>\n",
       "    <tr>\n",
       "      <th>11</th>\n",
       "      <td>Phoenix</td>\n",
       "      <td>4661537</td>\n",
       "      <td>Cardinals</td>\n",
       "      <td>Diamondbacks</td>\n",
       "      <td>Suns</td>\n",
       "      <td>Coyotes</td>\n",
       "    </tr>\n",
       "    <tr>\n",
       "      <th>12</th>\n",
       "      <td>Detroit</td>\n",
       "      <td>4297617</td>\n",
       "      <td>Lions</td>\n",
       "      <td>Tigers[note 20]</td>\n",
       "      <td>Pistons[note 21]</td>\n",
       "      <td>Red Wings</td>\n",
       "    </tr>\n",
       "    <tr>\n",
       "      <th>13</th>\n",
       "      <td>Toronto</td>\n",
       "      <td>5928040</td>\n",
       "      <td>— [note 22]</td>\n",
       "      <td>Blue Jays</td>\n",
       "      <td>Raptors[note 23]</td>\n",
       "      <td>Maple Leafs</td>\n",
       "    </tr>\n",
       "    <tr>\n",
       "      <th>14</th>\n",
       "      <td>Houston</td>\n",
       "      <td>6772470</td>\n",
       "      <td>Texans[note 24]</td>\n",
       "      <td>Astros</td>\n",
       "      <td>Rockets</td>\n",
       "      <td>—</td>\n",
       "    </tr>\n",
       "    <tr>\n",
       "      <th>15</th>\n",
       "      <td>Atlanta</td>\n",
       "      <td>5789700</td>\n",
       "      <td>Falcons</td>\n",
       "      <td>Braves</td>\n",
       "      <td>Hawks</td>\n",
       "      <td>[note 25]</td>\n",
       "    </tr>\n",
       "    <tr>\n",
       "      <th>16</th>\n",
       "      <td>Tampa Bay Area</td>\n",
       "      <td>3032171</td>\n",
       "      <td>Buccaneers</td>\n",
       "      <td>Rays</td>\n",
       "      <td>—</td>\n",
       "      <td>Lightning</td>\n",
       "    </tr>\n",
       "    <tr>\n",
       "      <th>17</th>\n",
       "      <td>Pittsburgh</td>\n",
       "      <td>2342299</td>\n",
       "      <td>Steelers</td>\n",
       "      <td>Pirates</td>\n",
       "      <td>[note 27]</td>\n",
       "      <td>Penguins[note 28]</td>\n",
       "    </tr>\n",
       "    <tr>\n",
       "      <th>18</th>\n",
       "      <td>Cleveland</td>\n",
       "      <td>2055612</td>\n",
       "      <td>Browns[note 29]</td>\n",
       "      <td>Indians[note 30]</td>\n",
       "      <td>Cavaliers[note 31]</td>\n",
       "      <td>[note 32]</td>\n",
       "    </tr>\n",
       "    <tr>\n",
       "      <th>19</th>\n",
       "      <td>Seattle</td>\n",
       "      <td>3798902</td>\n",
       "      <td>Seahawks</td>\n",
       "      <td>Mariners</td>\n",
       "      <td>[note 33]</td>\n",
       "      <td>[note 34]</td>\n",
       "    </tr>\n",
       "    <tr>\n",
       "      <th>20</th>\n",
       "      <td>Cincinnati</td>\n",
       "      <td>2165139</td>\n",
       "      <td>Bengals</td>\n",
       "      <td>Reds[note 35]</td>\n",
       "      <td>[note 36]</td>\n",
       "      <td>—</td>\n",
       "    </tr>\n",
       "    <tr>\n",
       "      <th>21</th>\n",
       "      <td>Kansas City</td>\n",
       "      <td>2104509</td>\n",
       "      <td>Chiefs</td>\n",
       "      <td>Royals[note 37]</td>\n",
       "      <td>[note 38]</td>\n",
       "      <td>[note 39]</td>\n",
       "    </tr>\n",
       "    <tr>\n",
       "      <th>22</th>\n",
       "      <td>St. Louis</td>\n",
       "      <td>2807002</td>\n",
       "      <td>[note 40]</td>\n",
       "      <td>Cardinals[note 41]</td>\n",
       "      <td>[note 42]</td>\n",
       "      <td>Blues[note 43]</td>\n",
       "    </tr>\n",
       "    <tr>\n",
       "      <th>23</th>\n",
       "      <td>Baltimore</td>\n",
       "      <td>2798886</td>\n",
       "      <td>Ravens[note 45]</td>\n",
       "      <td>Orioles[note 46]</td>\n",
       "      <td>[note 47]</td>\n",
       "      <td>—</td>\n",
       "    </tr>\n",
       "    <tr>\n",
       "      <th>24</th>\n",
       "      <td>Charlotte</td>\n",
       "      <td>2474314</td>\n",
       "      <td>Panthers</td>\n",
       "      <td>—</td>\n",
       "      <td>Hornets[note 49]</td>\n",
       "      <td>—</td>\n",
       "    </tr>\n",
       "    <tr>\n",
       "      <th>25</th>\n",
       "      <td>Indianapolis</td>\n",
       "      <td>2004230</td>\n",
       "      <td>Colts</td>\n",
       "      <td>[note 50]</td>\n",
       "      <td>Pacers[note 51]</td>\n",
       "      <td>—</td>\n",
       "    </tr>\n",
       "    <tr>\n",
       "      <th>26</th>\n",
       "      <td>Nashville</td>\n",
       "      <td>1865298</td>\n",
       "      <td>Titans</td>\n",
       "      <td>—</td>\n",
       "      <td>—</td>\n",
       "      <td>Predators</td>\n",
       "    </tr>\n",
       "    <tr>\n",
       "      <th>27</th>\n",
       "      <td>Milwaukee</td>\n",
       "      <td>1572482</td>\n",
       "      <td>[note 53]</td>\n",
       "      <td>Brewers[note 54]</td>\n",
       "      <td>Bucks</td>\n",
       "      <td>—</td>\n",
       "    </tr>\n",
       "    <tr>\n",
       "      <th>28</th>\n",
       "      <td>New Orleans</td>\n",
       "      <td>1268883</td>\n",
       "      <td>Saints</td>\n",
       "      <td>—</td>\n",
       "      <td>Pelicans[note 55]</td>\n",
       "      <td>—</td>\n",
       "    </tr>\n",
       "    <tr>\n",
       "      <th>29</th>\n",
       "      <td>Buffalo</td>\n",
       "      <td>1132804</td>\n",
       "      <td>Bills[note 56]</td>\n",
       "      <td>[note 57]</td>\n",
       "      <td>[note 58]</td>\n",
       "      <td>Sabres</td>\n",
       "    </tr>\n",
       "    <tr>\n",
       "      <th>30</th>\n",
       "      <td>Montreal</td>\n",
       "      <td>4098927</td>\n",
       "      <td>—</td>\n",
       "      <td>[note 59]</td>\n",
       "      <td>—</td>\n",
       "      <td>Canadiens</td>\n",
       "    </tr>\n",
       "    <tr>\n",
       "      <th>31</th>\n",
       "      <td>Vancouver</td>\n",
       "      <td>2463431</td>\n",
       "      <td>—</td>\n",
       "      <td>—</td>\n",
       "      <td>[note 60]</td>\n",
       "      <td>Canucks</td>\n",
       "    </tr>\n",
       "    <tr>\n",
       "      <th>32</th>\n",
       "      <td>Orlando</td>\n",
       "      <td>2441257</td>\n",
       "      <td>—</td>\n",
       "      <td>—</td>\n",
       "      <td>Magic</td>\n",
       "      <td>—</td>\n",
       "    </tr>\n",
       "    <tr>\n",
       "      <th>33</th>\n",
       "      <td>Portland</td>\n",
       "      <td>2424955</td>\n",
       "      <td>—</td>\n",
       "      <td>—</td>\n",
       "      <td>Trail Blazers</td>\n",
       "      <td>—</td>\n",
       "    </tr>\n",
       "    <tr>\n",
       "      <th>34</th>\n",
       "      <td>Columbus</td>\n",
       "      <td>2041520</td>\n",
       "      <td>—</td>\n",
       "      <td>—</td>\n",
       "      <td>—</td>\n",
       "      <td>Blue Jackets</td>\n",
       "    </tr>\n",
       "    <tr>\n",
       "      <th>35</th>\n",
       "      <td>Calgary</td>\n",
       "      <td>1392609</td>\n",
       "      <td>—</td>\n",
       "      <td>—</td>\n",
       "      <td>—</td>\n",
       "      <td>Flames</td>\n",
       "    </tr>\n",
       "    <tr>\n",
       "      <th>36</th>\n",
       "      <td>Ottawa</td>\n",
       "      <td>1323783</td>\n",
       "      <td>—</td>\n",
       "      <td>—</td>\n",
       "      <td>—</td>\n",
       "      <td>Senators</td>\n",
       "    </tr>\n",
       "    <tr>\n",
       "      <th>37</th>\n",
       "      <td>Edmonton</td>\n",
       "      <td>1321426</td>\n",
       "      <td>—</td>\n",
       "      <td>—</td>\n",
       "      <td>—</td>\n",
       "      <td>Oilers</td>\n",
       "    </tr>\n",
       "    <tr>\n",
       "      <th>38</th>\n",
       "      <td>Salt Lake City</td>\n",
       "      <td>1186187</td>\n",
       "      <td>—</td>\n",
       "      <td>—</td>\n",
       "      <td>Jazz</td>\n",
       "      <td>—</td>\n",
       "    </tr>\n",
       "    <tr>\n",
       "      <th>39</th>\n",
       "      <td>Winnipeg</td>\n",
       "      <td>778489</td>\n",
       "      <td>—</td>\n",
       "      <td>—</td>\n",
       "      <td>—</td>\n",
       "      <td>Jets[note 61]</td>\n",
       "    </tr>\n",
       "    <tr>\n",
       "      <th>40</th>\n",
       "      <td>San Diego</td>\n",
       "      <td>3317749</td>\n",
       "      <td>[note 62]</td>\n",
       "      <td>Padres</td>\n",
       "      <td>[note 63]</td>\n",
       "      <td>—</td>\n",
       "    </tr>\n",
       "    <tr>\n",
       "      <th>41</th>\n",
       "      <td>San Antonio</td>\n",
       "      <td>2429609</td>\n",
       "      <td>[note 64]</td>\n",
       "      <td>—</td>\n",
       "      <td>Spurs</td>\n",
       "      <td>—</td>\n",
       "    </tr>\n",
       "    <tr>\n",
       "      <th>42</th>\n",
       "      <td>Sacramento</td>\n",
       "      <td>2296418</td>\n",
       "      <td>—</td>\n",
       "      <td>—</td>\n",
       "      <td>Kings</td>\n",
       "      <td>—</td>\n",
       "    </tr>\n",
       "    <tr>\n",
       "      <th>43</th>\n",
       "      <td>Las Vegas</td>\n",
       "      <td>2155664</td>\n",
       "      <td>[note 6]</td>\n",
       "      <td>—</td>\n",
       "      <td>—</td>\n",
       "      <td>Golden Knights</td>\n",
       "    </tr>\n",
       "    <tr>\n",
       "      <th>44</th>\n",
       "      <td>Jacksonville</td>\n",
       "      <td>1478212</td>\n",
       "      <td>Jaguars</td>\n",
       "      <td>—</td>\n",
       "      <td>—</td>\n",
       "      <td>—</td>\n",
       "    </tr>\n",
       "    <tr>\n",
       "      <th>45</th>\n",
       "      <td>Oklahoma City</td>\n",
       "      <td>1373211</td>\n",
       "      <td>—</td>\n",
       "      <td>—</td>\n",
       "      <td>Thunder[note 68]</td>\n",
       "      <td>—</td>\n",
       "    </tr>\n",
       "    <tr>\n",
       "      <th>46</th>\n",
       "      <td>Memphis</td>\n",
       "      <td>1342842</td>\n",
       "      <td>[note 69]</td>\n",
       "      <td>—</td>\n",
       "      <td>Grizzlies</td>\n",
       "      <td>—</td>\n",
       "    </tr>\n",
       "    <tr>\n",
       "      <th>47</th>\n",
       "      <td>Raleigh</td>\n",
       "      <td>1302946</td>\n",
       "      <td>—</td>\n",
       "      <td>—</td>\n",
       "      <td>—</td>\n",
       "      <td>Hurricanes</td>\n",
       "    </tr>\n",
       "    <tr>\n",
       "      <th>48</th>\n",
       "      <td>Green Bay</td>\n",
       "      <td>318236</td>\n",
       "      <td>Packers</td>\n",
       "      <td>—</td>\n",
       "      <td>—</td>\n",
       "      <td>—</td>\n",
       "    </tr>\n",
       "    <tr>\n",
       "      <th>49</th>\n",
       "      <td>Hamilton</td>\n",
       "      <td>747545</td>\n",
       "      <td>—</td>\n",
       "      <td>—</td>\n",
       "      <td>—</td>\n",
       "      <td>[note 71]</td>\n",
       "    </tr>\n",
       "    <tr>\n",
       "      <th>50</th>\n",
       "      <td>Regina</td>\n",
       "      <td>236481</td>\n",
       "      <td>—</td>\n",
       "      <td>—</td>\n",
       "      <td>—</td>\n",
       "      <td>—</td>\n",
       "    </tr>\n",
       "  </tbody>\n",
       "</table>\n",
       "</div>"
      ],
      "text/plain": [
       "         Metropolitan area Population (2016 est.)[8]                   NFL  \\\n",
       "0            New York City                  20153634    GiantsJets[note 1]   \n",
       "1              Los Angeles                  13310447  RamsChargers[note 4]   \n",
       "2   San Francisco Bay Area                   6657982  49ersRaiders[note 6]   \n",
       "3                  Chicago                   9512999         Bears[note 8]   \n",
       "4        Dallas–Fort Worth                   7233323               Cowboys   \n",
       "5         Washington, D.C.                   6131977              Redskins   \n",
       "6             Philadelphia                   6070500                Eagles   \n",
       "7                   Boston                   4794447     Patriots[note 14]   \n",
       "8   Minneapolis–Saint Paul                   3551036               Vikings   \n",
       "9                   Denver                   2853077               Broncos   \n",
       "10   Miami–Fort Lauderdale                   6066387              Dolphins   \n",
       "11                 Phoenix                   4661537             Cardinals   \n",
       "12                 Detroit                   4297617                 Lions   \n",
       "13                 Toronto                   5928040           — [note 22]   \n",
       "14                 Houston                   6772470       Texans[note 24]   \n",
       "15                 Atlanta                   5789700               Falcons   \n",
       "16          Tampa Bay Area                   3032171            Buccaneers   \n",
       "17              Pittsburgh                   2342299              Steelers   \n",
       "18               Cleveland                   2055612       Browns[note 29]   \n",
       "19                 Seattle                   3798902              Seahawks   \n",
       "20              Cincinnati                   2165139               Bengals   \n",
       "21             Kansas City                   2104509                Chiefs   \n",
       "22               St. Louis                   2807002             [note 40]   \n",
       "23               Baltimore                   2798886       Ravens[note 45]   \n",
       "24               Charlotte                   2474314              Panthers   \n",
       "25            Indianapolis                   2004230                 Colts   \n",
       "26               Nashville                   1865298                Titans   \n",
       "27               Milwaukee                   1572482             [note 53]   \n",
       "28             New Orleans                   1268883                Saints   \n",
       "29                 Buffalo                   1132804        Bills[note 56]   \n",
       "30                Montreal                   4098927                     —   \n",
       "31               Vancouver                   2463431                     —   \n",
       "32                 Orlando                   2441257                     —   \n",
       "33                Portland                   2424955                     —   \n",
       "34                Columbus                   2041520                     —   \n",
       "35                 Calgary                   1392609                     —   \n",
       "36                  Ottawa                   1323783                     —   \n",
       "37                Edmonton                   1321426                     —   \n",
       "38          Salt Lake City                   1186187                     —   \n",
       "39                Winnipeg                    778489                     —   \n",
       "40               San Diego                   3317749             [note 62]   \n",
       "41             San Antonio                   2429609             [note 64]   \n",
       "42              Sacramento                   2296418                     —   \n",
       "43               Las Vegas                   2155664              [note 6]   \n",
       "44            Jacksonville                   1478212               Jaguars   \n",
       "45           Oklahoma City                   1373211                     —   \n",
       "46                 Memphis                   1342842             [note 69]   \n",
       "47                 Raleigh                   1302946                     —   \n",
       "48               Green Bay                    318236               Packers   \n",
       "49                Hamilton                    747545                     —   \n",
       "50                  Regina                    236481                     —   \n",
       "\n",
       "                    MLB                 NBA                             NHL  \n",
       "0   YankeesMets[note 2]          KnicksNets  RangersIslandersDevils[note 3]  \n",
       "1         DodgersAngels      LakersClippers                      KingsDucks  \n",
       "2       GiantsAthletics            Warriors                  Sharks[note 7]  \n",
       "3         CubsWhite Sox       Bulls[note 9]                      Blackhawks  \n",
       "4               Rangers           Mavericks                           Stars  \n",
       "5    Nationals[note 10]    Wizards[note 11]                        Capitals  \n",
       "6     Phillies[note 12]               76ers                 Flyers[note 13]  \n",
       "7      Red Sox[note 15]             Celtics                          Bruins  \n",
       "8                 Twins        Timberwolves                   Wild[note 16]  \n",
       "9               Rockies    Nuggets[note 17]              Avalanche[note 18]  \n",
       "10              Marlins                Heat                        Panthers  \n",
       "11         Diamondbacks                Suns                         Coyotes  \n",
       "12      Tigers[note 20]    Pistons[note 21]                       Red Wings  \n",
       "13            Blue Jays    Raptors[note 23]                     Maple Leafs  \n",
       "14               Astros             Rockets                               —  \n",
       "15               Braves               Hawks                       [note 25]  \n",
       "16                 Rays                   —                       Lightning  \n",
       "17              Pirates           [note 27]               Penguins[note 28]  \n",
       "18     Indians[note 30]  Cavaliers[note 31]                       [note 32]  \n",
       "19             Mariners           [note 33]                       [note 34]  \n",
       "20        Reds[note 35]           [note 36]                               —  \n",
       "21      Royals[note 37]           [note 38]                       [note 39]  \n",
       "22   Cardinals[note 41]           [note 42]                  Blues[note 43]  \n",
       "23     Orioles[note 46]           [note 47]                               —  \n",
       "24                    —    Hornets[note 49]                               —  \n",
       "25            [note 50]     Pacers[note 51]                               —  \n",
       "26                    —                   —                       Predators  \n",
       "27     Brewers[note 54]               Bucks                               —  \n",
       "28                    —   Pelicans[note 55]                               —  \n",
       "29            [note 57]           [note 58]                          Sabres  \n",
       "30            [note 59]                   —                       Canadiens  \n",
       "31                    —           [note 60]                         Canucks  \n",
       "32                    —               Magic                               —  \n",
       "33                    —       Trail Blazers                               —  \n",
       "34                    —                   —                    Blue Jackets  \n",
       "35                    —                   —                          Flames  \n",
       "36                    —                   —                        Senators  \n",
       "37                    —                   —                          Oilers  \n",
       "38                    —                Jazz                               —  \n",
       "39                    —                   —                   Jets[note 61]  \n",
       "40               Padres           [note 63]                               —  \n",
       "41                    —               Spurs                               —  \n",
       "42                    —               Kings                               —  \n",
       "43                    —                   —                  Golden Knights  \n",
       "44                    —                   —                               —  \n",
       "45                    —    Thunder[note 68]                               —  \n",
       "46                    —           Grizzlies                               —  \n",
       "47                    —                   —                      Hurricanes  \n",
       "48                    —                   —                               —  \n",
       "49                    —                   —                       [note 71]  \n",
       "50                    —                   —                               —  "
      ]
     },
     "execution_count": 3,
     "metadata": {},
     "output_type": "execute_result"
    }
   ],
   "source": [
    "cities"
   ]
  },
  {
   "cell_type": "code",
   "execution_count": 4,
   "metadata": {},
   "outputs": [],
   "source": [
    "nhl_df = nhl_df[~nhl_df['GP'].str.contains('Division',regex=False)]"
   ]
  },
  {
   "cell_type": "code",
   "execution_count": 5,
   "metadata": {},
   "outputs": [],
   "source": [
    "nhl_df[['W','L']] = nhl_df[['W','L']].astype(int)\n",
    "nhl_df['team'] = nhl_df['team'].astype(str)\n",
    "cities['NHL'] = cities['NHL'].astype(str)\n",
    "cities['Population (2016 est.)[8]'] = cities['Population (2016 est.)[8]'].astype(int)"
   ]
  },
  {
   "cell_type": "code",
   "execution_count": 6,
   "metadata": {},
   "outputs": [],
   "source": [
    "nhl_df['wl_ratio'] = nhl_df['W'] / (nhl_df['W']+nhl_df['L'])"
   ]
  },
  {
   "cell_type": "code",
   "execution_count": 7,
   "metadata": {},
   "outputs": [],
   "source": [
    "cities['NHL'].replace(\"\\[\\w.*\\]\",\"\",regex=True,inplace=True)"
   ]
  },
  {
   "cell_type": "code",
   "execution_count": 8,
   "metadata": {},
   "outputs": [],
   "source": [
    "nhl_df['team'].replace(\"\\*$\",\"\",regex=True,inplace=True)"
   ]
  },
  {
   "cell_type": "code",
   "execution_count": 9,
   "metadata": {},
   "outputs": [],
   "source": [
    "NHL_cities = (cities['NHL'] != '') & (cities['NHL'] != '—')"
   ]
  },
  {
   "cell_type": "code",
   "execution_count": 10,
   "metadata": {},
   "outputs": [],
   "source": [
    "# cities.loc[NHL_cities,'NHL'] = cities.loc[NHL_cities,'NHL']\\\n",
    "#     .apply(lambda x: re.findall(f\"(?!\\d.\\s*)\\w.*{x}\",str(nhl_df['team']))[0]\\\n",
    "#          if bool(re.search(f\"(?!\\d.\\s*)\\w.*{x}\",str(nhl_df['team'])))\\\n",
    "#               else  next((re.findall(f\"(?!\\d.\\s*)\\w.*{sub}\",str(nhl_df['team'])) for sub in re.findall('[A-Z]{1}[a-z]*',x)),None)[0] )"
   ]
  },
  {
   "cell_type": "code",
   "execution_count": 11,
   "metadata": {},
   "outputs": [],
   "source": [
    "cities.loc[NHL_cities,'NHL'] = cities.loc[NHL_cities,'NHL']\\\n",
    "    .apply(lambda x: re.findall(f\"(?!\\d.\\s*)\\w.*{x}\",str(nhl_df['team']))[0]\\\n",
    "         if bool(re.search(f\"(?!\\d.\\s*)\\w.*{x}\",str(nhl_df['team'])))\\\n",
    "              else  next((re.findall(f\"(?!\\d.\\s*)\\w.*{sub}\",str(nhl_df['team'])) for sub in ['Devils','Ducks'] if sub in x),None)[0] )"
   ]
  },
  {
   "cell_type": "code",
   "execution_count": 12,
   "metadata": {},
   "outputs": [],
   "source": [
    "nhl_metro = cities[['Metropolitan area','Population (2016 est.)[8]','NHL']]"
   ]
  },
  {
   "cell_type": "code",
   "execution_count": 13,
   "metadata": {},
   "outputs": [],
   "source": [
    "nhl_c = pd.merge(nhl_df,nhl_metro,left_on='team',right_on='NHL',how='left')"
   ]
  },
  {
   "cell_type": "code",
   "execution_count": 14,
   "metadata": {},
   "outputs": [],
   "source": [
    "nhl_c.loc[14:15,['Metropolitan area','Population (2016 est.)[8]','NHL']] = nhl_c.loc[12,['Metropolitan area','Population (2016 est.)[8]','team']].values"
   ]
  },
  {
   "cell_type": "code",
   "execution_count": 15,
   "metadata": {},
   "outputs": [],
   "source": [
    "nhl_c.loc[26,['Metropolitan area','Population (2016 est.)[8]','NHL']] = nhl_c.loc[24,['Metropolitan area','Population (2016 est.)[8]','team']].values"
   ]
  },
  {
   "cell_type": "code",
   "execution_count": 16,
   "metadata": {},
   "outputs": [],
   "source": [
    "nhl_c = nhl_c[['team','wl_ratio','Metropolitan area','Population (2016 est.)[8]']]"
   ]
  },
  {
   "cell_type": "code",
   "execution_count": 17,
   "metadata": {},
   "outputs": [
    {
     "data": {
      "text/plain": [
       "0       Tampa Bay Lightning\n",
       "1             Boston Bruins\n",
       "2       Toronto Maple Leafs\n",
       "3          Florida Panthers\n",
       "4         Detroit Red Wings\n",
       "5        Montreal Canadiens\n",
       "6           Ottawa Senators\n",
       "7            Buffalo Sabres\n",
       "8       Washington Capitals\n",
       "9       Pittsburgh Penguins\n",
       "10      Philadelphia Flyers\n",
       "11    Columbus Blue Jackets\n",
       "12        New Jersey Devils\n",
       "13      Carolina Hurricanes\n",
       "14       New York Islanders\n",
       "15         New York Rangers\n",
       "16      Nashville Predators\n",
       "17            Winnipeg Jets\n",
       "18           Minnesota Wild\n",
       "19       Colorado Avalanche\n",
       "20          St. Louis Blues\n",
       "21             Dallas Stars\n",
       "22       Chicago Blackhawks\n",
       "23     Vegas Golden Knights\n",
       "24            Anaheim Ducks\n",
       "25          San Jose Sharks\n",
       "26        Los Angeles Kings\n",
       "27           Calgary Flames\n",
       "28          Edmonton Oilers\n",
       "29        Vancouver Canucks\n",
       "30          Arizona Coyotes\n",
       "Name: team, dtype: object"
      ]
     },
     "execution_count": 17,
     "metadata": {},
     "output_type": "execute_result"
    }
   ],
   "source": [
    "nhl_c['team']"
   ]
  },
  {
   "cell_type": "code",
   "execution_count": 18,
   "metadata": {},
   "outputs": [],
   "source": [
    "nhl_grp = nhl_c.groupby('Metropolitan area')['wl_ratio','Population (2016 est.)[8]'].mean()\n",
    "nhl_grp['Population (2016 est.)[8]'] = nhl_grp['Population (2016 est.)[8]'].astype(int)"
   ]
  },
  {
   "cell_type": "code",
   "execution_count": 19,
   "metadata": {},
   "outputs": [
    {
     "data": {
      "text/plain": [
       "Metropolitan area\n",
       "Boston                     4794447\n",
       "Buffalo                    1132804\n",
       "Calgary                    1392609\n",
       "Chicago                    9512999\n",
       "Columbus                   2041520\n",
       "Dallas–Fort Worth          7233323\n",
       "Denver                     2853077\n",
       "Detroit                    4297617\n",
       "Edmonton                   1321426\n",
       "Las Vegas                  2155664\n",
       "Los Angeles               13310447\n",
       "Miami–Fort Lauderdale      6066387\n",
       "Minneapolis–Saint Paul     3551036\n",
       "Montreal                   4098927\n",
       "Nashville                  1865298\n",
       "New York City             20153634\n",
       "Ottawa                     1323783\n",
       "Philadelphia               6070500\n",
       "Phoenix                    4661537\n",
       "Pittsburgh                 2342299\n",
       "Raleigh                    1302946\n",
       "San Francisco Bay Area     6657982\n",
       "St. Louis                  2807002\n",
       "Tampa Bay Area             3032171\n",
       "Toronto                    5928040\n",
       "Vancouver                  2463431\n",
       "Washington, D.C.           6131977\n",
       "Winnipeg                    778489\n",
       "Name: Population (2016 est.)[8], dtype: int32"
      ]
     },
     "execution_count": 19,
     "metadata": {},
     "output_type": "execute_result"
    }
   ],
   "source": [
    "nhl_grp['Population (2016 est.)[8]']"
   ]
  },
  {
   "cell_type": "code",
   "execution_count": 20,
   "metadata": {},
   "outputs": [
    {
     "data": {
      "text/plain": [
       "(0.012486162921209923, 0.9497182859911781)"
      ]
     },
     "execution_count": 20,
     "metadata": {},
     "output_type": "execute_result"
    }
   ],
   "source": [
    "nhl_df=pd.read_csv(\"assets/nhl.csv\")\n",
    "cities=pd.read_html(\"assets/wikipedia_data.html\")[1]\n",
    "cities=cities.iloc[:-1,[0,3,5,6,7,8]]\n",
    "nhl_df = nhl_df[nhl_df['year'] == 2018]\n",
    "nhl_df = nhl_df[~nhl_df['GP'].str.contains('Division',regex=False)]\n",
    "nhl_df[['W','L']] = nhl_df[['W','L']].astype(int)\n",
    "nhl_df['team'] = nhl_df['team'].astype(str)\n",
    "cities['NHL'] = cities['NHL'].astype(str)\n",
    "cities['Population (2016 est.)[8]'] = cities['Population (2016 est.)[8]'].astype(int)\n",
    "nhl_df['wl_ratio'] = nhl_df['W'] / (nhl_df['W']+nhl_df['L'])\n",
    "cities['NHL'].replace(\"\\[\\w.*\\]\",\"\",regex=True,inplace=True)\n",
    "nhl_df['team'].replace(\"\\*$\",\"\",regex=True,inplace=True)\n",
    "NHL_cities = (cities['NHL'] != '') & (cities['NHL'] != '—')\n",
    "cities.loc[NHL_cities,'NHL'] = cities.loc[NHL_cities,'NHL']\\\n",
    ".apply(lambda x: re.findall(f\"(?!\\d.\\s*)\\w.*{x}\",str(nhl_df['team']))[0]\\\n",
    "        if bool(re.search(f\"(?!\\d.\\s*)\\w.*{x}\",str(nhl_df['team'])))\\\n",
    "            else  next((re.findall(f\"(?!\\d.\\s*)\\w.*{sub}\",str(nhl_df['team'])) for sub in ['Devils','Ducks'] if sub in x),None)[0] )\n",
    "nhl_metro = cities[['Metropolitan area','Population (2016 est.)[8]','NHL']]\n",
    "nhl_c = pd.merge(nhl_df,nhl_metro,left_on='team',right_on='NHL',how='left')\n",
    "nhl_c.loc[14:15,['Metropolitan area','Population (2016 est.)[8]','NHL']] = nhl_c.loc[12,['Metropolitan area','Population (2016 est.)[8]','team']].values\n",
    "nhl_c.loc[26,['Metropolitan area','Population (2016 est.)[8]','NHL']] = nhl_c.loc[24,['Metropolitan area','Population (2016 est.)[8]','team']].values\n",
    "nhl_c = nhl_c[['team','wl_ratio','Metropolitan area','Population (2016 est.)[8]']]\n",
    "nhl_grp = nhl_c.groupby('Metropolitan area')['wl_ratio','Population (2016 est.)[8]'].mean()\n",
    "nhl_grp['Population (2016 est.)[8]'] = nhl_grp['Population (2016 est.)[8]'].astype(int)\n",
    "population_by_region = nhl_grp['Population (2016 est.)[8]'] # pass in metropolitan area population from cities\n",
    "win_loss_by_region = nhl_grp['wl_ratio'] # pass in win/loss ratio from nhl_df in the same order as cities[\"Metropolitan area\"]\n",
    "\n",
    "assert len(population_by_region) == len(win_loss_by_region), \"Q1: Your lists must be the same length\"\n",
    "assert len(population_by_region) == 28, \"Q1: There should be 28 teams being analysed for NHL\"\n",
    "stats.pearsonr(population_by_region, win_loss_by_region)"
   ]
  },
  {
   "cell_type": "code",
   "execution_count": 21,
   "metadata": {},
   "outputs": [],
   "source": [
    "nba_df=pd.read_csv(\"assets/nba.csv\")"
   ]
  },
  {
   "cell_type": "code",
   "execution_count": 22,
   "metadata": {},
   "outputs": [],
   "source": [
    "nba_df = nba_df[nba_df['year'] == 2018]"
   ]
  },
  {
   "cell_type": "code",
   "execution_count": 23,
   "metadata": {},
   "outputs": [],
   "source": [
    "nba_df[['W','L']] = nba_df[['W','L']].astype(int)\n",
    "nba_df['team'] = nba_df['team'].astype(str)\n",
    "cities['NBA'] = cities['NBA'].astype(str)\n",
    "cities['Population (2016 est.)[8]'] = cities['Population (2016 est.)[8]'].astype(int)"
   ]
  },
  {
   "cell_type": "code",
   "execution_count": 24,
   "metadata": {},
   "outputs": [],
   "source": [
    "cities['NBA'].replace(\"\\[\\w.*\\]\",\"\",regex=True,inplace=True)\n",
    "nba_df['team'].replace(\"\\**\\s\\(\\d*\\)$\",\"\",regex=True,inplace=True)"
   ]
  },
  {
   "cell_type": "code",
   "execution_count": 25,
   "metadata": {},
   "outputs": [],
   "source": [
    "nba_df['wl_ratio'] = nba_df['W'] / (nba_df['W']+nba_df['L'])"
   ]
  },
  {
   "cell_type": "code",
   "execution_count": 26,
   "metadata": {},
   "outputs": [],
   "source": [
    "NBA_cities = (cities['NBA'] != '') & (cities['NBA'] != '—')"
   ]
  },
  {
   "cell_type": "code",
   "execution_count": 27,
   "metadata": {},
   "outputs": [],
   "source": [
    "cities.loc[NBA_cities,'NBA'] = cities.loc[NBA_cities,'NBA']\\\n",
    ".apply(lambda x: re.findall(f\"(?!\\d.\\s*)\\w.*{x}\",str(nba_df['team']))[0]\\\n",
    "        if bool(re.search(f\"(?!\\d.\\s*)\\w.*{x}\",str(nba_df['team'])))\\\n",
    "            else  next((re.findall(f\"(?!\\d.\\s*)\\w.*{sub}\",str(nba_df['team'])) for sub in ['Nets','Clippers'] if sub in x),None)[0] )"
   ]
  },
  {
   "cell_type": "code",
   "execution_count": 28,
   "metadata": {},
   "outputs": [],
   "source": [
    "nba_metro = cities[['Metropolitan area','Population (2016 est.)[8]','NBA']]"
   ]
  },
  {
   "cell_type": "code",
   "execution_count": 29,
   "metadata": {},
   "outputs": [],
   "source": [
    "nba_mg = pd.merge(nba_df,nba_metro,left_on='team',right_on='NBA',how='left')"
   ]
  },
  {
   "cell_type": "code",
   "execution_count": 30,
   "metadata": {},
   "outputs": [],
   "source": [
    "nba_mg.loc[10,['Metropolitan area','Population (2016 est.)[8]','NBA']] = nba_mg.loc[11,['Metropolitan area','Population (2016 est.)[8]','team']].values\n",
    "nba_mg.loc[25,['Metropolitan area','Population (2016 est.)[8]','NBA']] = nba_mg.loc[24,['Metropolitan area','Population (2016 est.)[8]','team']].values"
   ]
  },
  {
   "cell_type": "code",
   "execution_count": 31,
   "metadata": {},
   "outputs": [],
   "source": [
    "nba_mg = nba_mg[['team','wl_ratio','Metropolitan area','Population (2016 est.)[8]']]\n",
    "nba_grp = nba_mg.groupby('Metropolitan area')['wl_ratio','Population (2016 est.)[8]'].mean()\n",
    "nba_grp['Population (2016 est.)[8]'] = nba_grp['Population (2016 est.)[8]'].astype(int)\n",
    "population_by_region = nba_grp['Population (2016 est.)[8]'] # pass in metropolitan area population from cities\n",
    "win_loss_by_region = nba_grp['wl_ratio'] # pass in win/loss ratio from nba_df in the same order as cities[\"Metropolitan area\"]"
   ]
  },
  {
   "cell_type": "code",
   "execution_count": 32,
   "metadata": {},
   "outputs": [
    {
     "data": {
      "text/plain": [
       "(-0.17657160252844623, 0.3687474160446294)"
      ]
     },
     "execution_count": 32,
     "metadata": {},
     "output_type": "execute_result"
    }
   ],
   "source": [
    "assert len(population_by_region) == len(win_loss_by_region), \"Q2: Your lists must be the same length\"\n",
    "assert len(population_by_region) == 28, \"Q2: There should be 28 teams being analysed for NBA\"\n",
    "\n",
    "stats.pearsonr(population_by_region, win_loss_by_region)"
   ]
  },
  {
   "cell_type": "code",
   "execution_count": 33,
   "metadata": {},
   "outputs": [],
   "source": [
    "mlb_df=pd.read_csv(\"assets/mlb.csv\")\n",
    "cities=pd.read_html(\"assets/wikipedia_data.html\")[1]\n",
    "cities=cities.iloc[:-1,[0,3,5,6,7,8]]\n",
    "mlb_df = mlb_df[mlb_df['year'] == 2018]\n",
    "mlb_df[['W','L']] = mlb_df[['W','L']].astype(int)\n",
    "mlb_df['team'] = mlb_df['team'].astype(str)\n",
    "cities['MLB'] = cities['MLB'].astype(str)\n",
    "cities['Population (2016 est.)[8]'] = cities['Population (2016 est.)[8]'].astype(int)\n",
    "cities['MLB'].replace(\"\\[\\w.*\\]\",\"\",regex=True,inplace=True)\n",
    "mlb_df['team'].replace(\"\\**\\s\\(\\d*\\)$\",\"\",regex=True,inplace=True)\n",
    "mlb_df['wl_ratio'] = mlb_df['W'] / (mlb_df['W']+mlb_df['L'])\n",
    "MLB_cities = (cities['MLB'] != '') & (cities['MLB'] != '—')"
   ]
  },
  {
   "cell_type": "code",
   "execution_count": 34,
   "metadata": {},
   "outputs": [],
   "source": [
    "cities.loc[MLB_cities,'MLB'] = cities.loc[MLB_cities,'MLB']\\\n",
    ".apply(lambda x: re.findall(f\"(?!\\d.\\s*)\\w.*{x}\",str(mlb_df['team']))[0]\\\n",
    "        if bool(re.search(f\"(?!\\d.\\s*)\\w.*{x}\",str(mlb_df['team'])))\\\n",
    "            else  next((re.findall(f\"(?!\\d.\\s*)\\w.*{sub}\",str(mlb_df['team']))\\\n",
    "                 for sub in ['Mets','White Sox','Angels','Athletics'] if sub in x),None)[0] )"
   ]
  },
  {
   "cell_type": "code",
   "execution_count": 36,
   "metadata": {},
   "outputs": [],
   "source": [
    "mlb_metro = cities[['Metropolitan area','Population (2016 est.)[8]','MLB']]\n",
    "mlb_mg = pd.merge(mlb_df,mlb_metro,left_on='team',right_on='MLB',how='left')"
   ]
  },
  {
   "cell_type": "code",
   "execution_count": 37,
   "metadata": {},
   "outputs": [],
   "source": [
    "mlb_mg.loc[1,['Metropolitan area','Population (2016 est.)[8]','MLB']] = mlb_mg.loc[18,['Metropolitan area','Population (2016 est.)[8]','team']].values\n",
    "mlb_mg.loc[25,['Metropolitan area','Population (2016 est.)[8]','MLB']] = mlb_mg.loc[13,['Metropolitan area','Population (2016 est.)[8]','team']].values\n",
    "mlb_mg.loc[28,['Metropolitan area','Population (2016 est.)[8]','MLB']] = mlb_mg.loc[11,['Metropolitan area','Population (2016 est.)[8]','team']].values\n",
    "mlb_mg.loc[21,['Metropolitan area','Population (2016 est.)[8]','MLB']] = mlb_mg.loc[8,['Metropolitan area','Population (2016 est.)[8]','team']].values"
   ]
  },
  {
   "cell_type": "code",
   "execution_count": 38,
   "metadata": {},
   "outputs": [],
   "source": [
    "mlb_mg = mlb_mg[['team','wl_ratio','Metropolitan area','Population (2016 est.)[8]']]\n",
    "mlb_grp = mlb_mg.groupby('Metropolitan area')['wl_ratio','Population (2016 est.)[8]'].mean()\n",
    "mlb_grp['Population (2016 est.)[8]'] = mlb_grp['Population (2016 est.)[8]'].astype(int)\n",
    "population_by_region = mlb_grp['Population (2016 est.)[8]'] # pass in metropolitan area population from cities\n",
    "win_loss_by_region = mlb_grp['wl_ratio'] # pass in win/loss ratio from mlb_df in the same order as cities[\"Metropolitan area\"]"
   ]
  },
  {
   "cell_type": "code",
   "execution_count": 39,
   "metadata": {},
   "outputs": [
    {
     "data": {
      "text/plain": [
       "(0.15027698302669307, 0.46370703378875583)"
      ]
     },
     "execution_count": 39,
     "metadata": {},
     "output_type": "execute_result"
    }
   ],
   "source": [
    "assert len(population_by_region) == len(win_loss_by_region), \"Q2: Your lists must be the same length\"\n",
    "assert len(population_by_region) == 26, \"Q2: There should be 28 teams being analysed for NBA\"\n",
    "\n",
    "stats.pearsonr(population_by_region, win_loss_by_region)"
   ]
  },
  {
   "cell_type": "code",
   "execution_count": 40,
   "metadata": {},
   "outputs": [],
   "source": [
    "nfl_df=pd.read_csv(\"assets/nfl.csv\")\n",
    "cities=pd.read_html(\"assets/wikipedia_data.html\")[1]\n",
    "cities=cities.iloc[:-1,[0,3,5,6,7,8]]\n",
    "nfl_df = nfl_df[nfl_df['year'] == 2018]\n",
    "nfl_df = nfl_df[~nfl_df['W'].str.contains('[FC]',regex=True)]\n",
    "nfl_df[['W','L']] = nfl_df[['W','L']].astype(int)\n",
    "nfl_df['team'] = nfl_df['team'].astype(str)\n",
    "cities['NFL'] = cities['NFL'].astype(str)\n",
    "cities['Population (2016 est.)[8]'] = cities['Population (2016 est.)[8]'].astype(int)\n",
    "cities['NFL'].replace(\"\\[\\w.*\\]\",\"\",regex=True,inplace=True)\n",
    "nfl_df['team'].replace(\"\\**\\+*\",\"\",regex=True,inplace=True)\n",
    "nfl_df['wl_ratio'] = nfl_df['W'] / (nfl_df['W']+nfl_df['L'])\n",
    "NFL_cities = (cities['NFL'] != '') & (~cities['NFL'].str.contains('[—]',regex=True))"
   ]
  },
  {
   "cell_type": "code",
   "execution_count": 41,
   "metadata": {},
   "outputs": [],
   "source": [
    "cities.loc[NFL_cities,'NFL'] = cities.loc[NFL_cities,'NFL']\\\n",
    ".apply(lambda x: re.findall(f\"(?!\\d.\\s*)\\w.*{x}\",str(nfl_df['team']))[0]\\\n",
    "        if bool(re.search(f\"(?!\\d.\\s*)\\w.*{x}\",str(nfl_df['team'])))\\\n",
    "            else  next((re.findall(f\"(?!\\d.\\s*)\\w.*{sub}\",str(nfl_df['team']))\\\n",
    "                 for sub in ['Jets','Chargers','Raiders'] if sub in x),None)[0] )"
   ]
  },
  {
   "cell_type": "code",
   "execution_count": 42,
   "metadata": {},
   "outputs": [],
   "source": [
    "nfl_metro = cities[['Metropolitan area','Population (2016 est.)[8]','NFL']]\n",
    "nfl_mg = pd.merge(nfl_df,nfl_metro,left_on='team',right_on='NFL',how='left')"
   ]
  },
  {
   "cell_type": "code",
   "execution_count": 43,
   "metadata": {},
   "outputs": [],
   "source": [
    "nfl_mg.loc[30,['Metropolitan area','Population (2016 est.)[8]','NFL']] = nfl_mg.loc[15,['Metropolitan area','Population (2016 est.)[8]','team']].values\n",
    "nfl_mg.loc[28,['Metropolitan area','Population (2016 est.)[8]','NFL']] = nfl_mg.loc[13,['Metropolitan area','Population (2016 est.)[8]','team']].values\n",
    "nfl_mg.loc[19,['Metropolitan area','Population (2016 est.)[8]','NFL']] = nfl_mg.loc[3,['Metropolitan area','Population (2016 est.)[8]','team']].values"
   ]
  },
  {
   "cell_type": "code",
   "execution_count": 44,
   "metadata": {},
   "outputs": [],
   "source": [
    "nfl_mg = nfl_mg[['team','wl_ratio','Metropolitan area','Population (2016 est.)[8]']]\n",
    "nfl_grp = nfl_mg.groupby('Metropolitan area')['wl_ratio','Population (2016 est.)[8]'].mean()\n",
    "nfl_grp['Population (2016 est.)[8]'] = nfl_grp['Population (2016 est.)[8]'].astype(int)\n",
    "population_by_region = nfl_grp['Population (2016 est.)[8]'] # pass in metropolitan area population from cities\n",
    "win_loss_by_region = nfl_grp['wl_ratio'] # pass in win/loss ratio from mlb_df in the same order as cities[\"Metropolitan area\"]"
   ]
  },
  {
   "cell_type": "code",
   "execution_count": 45,
   "metadata": {},
   "outputs": [
    {
     "data": {
      "text/plain": [
       "(0.004922112149349409, 0.9797833458363694)"
      ]
     },
     "execution_count": 45,
     "metadata": {},
     "output_type": "execute_result"
    }
   ],
   "source": [
    "assert len(population_by_region) == len(win_loss_by_region), \"Q4: Your lists must be the same length\"\n",
    "assert len(population_by_region) == 29, \"Q4: There should be 29 teams being analysed for NFL\"\n",
    "\n",
    "stats.pearsonr(population_by_region, win_loss_by_region)"
   ]
  },
  {
   "cell_type": "code",
   "execution_count": 46,
   "metadata": {},
   "outputs": [],
   "source": [
    "mlb_df=pd.read_csv(\"assets/mlb.csv\")\n",
    "nhl_df=pd.read_csv(\"assets/nhl.csv\")\n",
    "nba_df=pd.read_csv(\"assets/nba.csv\")\n",
    "nfl_df=pd.read_csv(\"assets/nfl.csv\")\n",
    "cities=pd.read_html(\"assets/wikipedia_data.html\")[1]\n",
    "cities=cities.iloc[:-1,[0,3,5,6,7,8]]"
   ]
  },
  {
   "cell_type": "code",
   "execution_count": 47,
   "metadata": {},
   "outputs": [],
   "source": [
    "sports = ['NFL', 'NBA', 'NHL', 'MLB']\n",
    "p_values = pd.DataFrame({k:np.nan for k in sports}, index=sports)"
   ]
  },
  {
   "cell_type": "code",
   "execution_count": 84,
   "metadata": {},
   "outputs": [],
   "source": [
    "df = pd.merge(nba_grp['wl_ratio'], nfl_grp['wl_ratio'], on='Metropolitan area').merge(mlb_grp['wl_ratio'],on='Metropolitan area').merge(nhl_grp['wl_ratio'],on='Metropolitan area')\n",
    "df.columns = ['NBA','NFL','MLB','NHL']\n",
    "#next_df = stats.ttest_rel(df_nba_nhl['w_l ratio_x'], df_nba_nhl['w_l ratio_y'])"
   ]
  },
  {
   "cell_type": "code",
   "execution_count": 85,
   "metadata": {},
   "outputs": [],
   "source": [
    "for col1 in df.columns:\n",
    "    for col2 in df.columns:\n",
    "         p_values.loc[col1,col2]  = stats.ttest_rel(df[col1],df[col2])[0]"
   ]
  },
  {
   "cell_type": "code",
   "execution_count": 88,
   "metadata": {},
   "outputs": [
    {
     "data": {
      "text/plain": [
       "Ttest_relResult(statistic=0.29655494651389214, pvalue=0.7718764122646871)"
      ]
     },
     "execution_count": 88,
     "metadata": {},
     "output_type": "execute_result"
    }
   ],
   "source": [
    "stats.ttest_rel(df['MLB'],df['NFL'])"
   ]
  },
  {
   "cell_type": "code",
   "execution_count": 89,
   "metadata": {},
   "outputs": [],
   "source": [
    "import numpy as np\n",
    "\n",
    "a = np.arange(8)\n",
    "b = a[4:6]\n",
    "b[:] = 40\n",
    "c = a[4] + a[6]"
   ]
  },
  {
   "cell_type": "code",
   "execution_count": 90,
   "metadata": {},
   "outputs": [
    {
     "data": {
      "text/plain": [
       "46"
      ]
     },
     "execution_count": 90,
     "metadata": {},
     "output_type": "execute_result"
    }
   ],
   "source": [
    "c"
   ]
  },
  {
   "cell_type": "code",
   "execution_count": 91,
   "metadata": {},
   "outputs": [],
   "source": [
    "import re\n",
    "s = 'ABCAC'"
   ]
  },
  {
   "cell_type": "code",
   "execution_count": 96,
   "metadata": {},
   "outputs": [
    {
     "data": {
      "text/plain": [
       "True"
      ]
     },
     "execution_count": 96,
     "metadata": {},
     "output_type": "execute_result"
    }
   ],
   "source": [
    "bool(re.match('A', s)) == True"
   ]
  },
  {
   "cell_type": "code",
   "execution_count": 97,
   "metadata": {},
   "outputs": [],
   "source": [
    "    s = 'ACAABAACAAABACDBADDDFSDDDFFSSSASDAFAAACBAAAFASD'\n"
   ]
  },
  {
   "cell_type": "code",
   "execution_count": 131,
   "metadata": {},
   "outputs": [
    {
     "data": {
      "text/plain": [
       "<callable_iterator at 0x2c848234b20>"
      ]
     },
     "execution_count": 131,
     "metadata": {},
     "output_type": "execute_result"
    }
   ],
   "source": [
    "re.finditer('((?<=AAA).)',s)"
   ]
  },
  {
   "cell_type": "code",
   "execution_count": 132,
   "metadata": {},
   "outputs": [
    {
     "name": "stdout",
     "output_type": "stream",
     "text": [
      "B\n",
      "C\n",
      "F\n"
     ]
    }
   ],
   "source": [
    "for item in re.finditer('((?<=AAA).)', s):\n",
    "      # identify the group number below.\n",
    "      print(item.group())"
   ]
  },
  {
   "cell_type": "code",
   "execution_count": 174,
   "metadata": {},
   "outputs": [],
   "source": [
    "df = pd.Series([4,5,-7,3],index=['d','b','a','c'])"
   ]
  },
  {
   "cell_type": "code",
   "execution_count": 179,
   "metadata": {},
   "outputs": [
    {
     "data": {
      "text/plain": [
       "4"
      ]
     },
     "execution_count": 179,
     "metadata": {},
     "output_type": "execute_result"
    }
   ],
   "source": [
    "df[0]"
   ]
  },
  {
   "cell_type": "code",
   "execution_count": 148,
   "metadata": {},
   "outputs": [],
   "source": [
    "df = pd.DataFrame(np.arange(1,10,1).reshape(3,3))"
   ]
  },
  {
   "cell_type": "code",
   "execution_count": 149,
   "metadata": {},
   "outputs": [
    {
     "data": {
      "text/html": [
       "<div>\n",
       "<style scoped>\n",
       "    .dataframe tbody tr th:only-of-type {\n",
       "        vertical-align: middle;\n",
       "    }\n",
       "\n",
       "    .dataframe tbody tr th {\n",
       "        vertical-align: top;\n",
       "    }\n",
       "\n",
       "    .dataframe thead th {\n",
       "        text-align: right;\n",
       "    }\n",
       "</style>\n",
       "<table border=\"1\" class=\"dataframe\">\n",
       "  <thead>\n",
       "    <tr style=\"text-align: right;\">\n",
       "      <th></th>\n",
       "      <th>0</th>\n",
       "      <th>1</th>\n",
       "      <th>2</th>\n",
       "    </tr>\n",
       "  </thead>\n",
       "  <tbody>\n",
       "    <tr>\n",
       "      <th>0</th>\n",
       "      <td>1</td>\n",
       "      <td>2</td>\n",
       "      <td>3</td>\n",
       "    </tr>\n",
       "    <tr>\n",
       "      <th>1</th>\n",
       "      <td>4</td>\n",
       "      <td>5</td>\n",
       "      <td>6</td>\n",
       "    </tr>\n",
       "    <tr>\n",
       "      <th>2</th>\n",
       "      <td>7</td>\n",
       "      <td>8</td>\n",
       "      <td>9</td>\n",
       "    </tr>\n",
       "  </tbody>\n",
       "</table>\n",
       "</div>"
      ],
      "text/plain": [
       "   0  1  2\n",
       "0  1  2  3\n",
       "1  4  5  6\n",
       "2  7  8  9"
      ]
     },
     "execution_count": 149,
     "metadata": {},
     "output_type": "execute_result"
    }
   ],
   "source": [
    "df"
   ]
  },
  {
   "cell_type": "code",
   "execution_count": 150,
   "metadata": {},
   "outputs": [],
   "source": [
    "f = lambda x: x.max() + x.min()\n",
    "df_new = df.apply(f)"
   ]
  },
  {
   "cell_type": "code",
   "execution_count": 152,
   "metadata": {},
   "outputs": [
    {
     "data": {
      "text/plain": [
       "8"
      ]
     },
     "execution_count": 152,
     "metadata": {},
     "output_type": "execute_result"
    }
   ],
   "source": [
    "df_new[0]"
   ]
  },
  {
   "cell_type": "code",
   "execution_count": 172,
   "metadata": {},
   "outputs": [],
   "source": [
    "def result():\n",
    "    s = 'ACAABAACAAABACDBADDDFSDDDFFSSSASDAFAAACBAAAFASD'\n",
    "\n",
    "    result = []\n",
    "    # compete the pattern below\n",
    "    pattern = '((?<=AAA).)'\n",
    "    for item in re.finditer(pattern, s):\n",
    "      # identify the group number below.\n",
    "      result.append(item.group(0))\n",
    "      \n",
    "    return result"
   ]
  },
  {
   "cell_type": "code",
   "execution_count": 173,
   "metadata": {},
   "outputs": [
    {
     "data": {
      "text/plain": [
       "['B', 'C', 'F']"
      ]
     },
     "execution_count": 173,
     "metadata": {},
     "output_type": "execute_result"
    }
   ],
   "source": [
    "result()"
   ]
  },
  {
   "cell_type": "code",
   "execution_count": 180,
   "metadata": {},
   "outputs": [],
   "source": [
    "s1 = pd.Series([20,15,18,31],index=['M','S','B','V'])\n",
    "s2 = pd.Series([20,30,15,20,20],index=['S','V','B','M','P'])"
   ]
  },
  {
   "cell_type": "code",
   "execution_count": 181,
   "metadata": {},
   "outputs": [],
   "source": [
    "s3= s1.add(s2)"
   ]
  },
  {
   "cell_type": "code",
   "execution_count": 188,
   "metadata": {},
   "outputs": [
    {
     "data": {
      "text/plain": [
       "False"
      ]
     },
     "execution_count": 188,
     "metadata": {},
     "output_type": "execute_result"
    }
   ],
   "source": [
    "s3['P'] >= s3['M']"
   ]
  },
  {
   "cell_type": "code",
   "execution_count": 189,
   "metadata": {},
   "outputs": [],
   "source": [
    "S = pd.Series(np.arange(5), index=['a', 'b', 'c', 'd', 'e'])"
   ]
  },
  {
   "cell_type": "code",
   "execution_count": 193,
   "metadata": {},
   "outputs": [
    {
     "data": {
      "text/plain": [
       "b    1\n",
       "c    2\n",
       "d    3\n",
       "dtype: int32"
      ]
     },
     "execution_count": 193,
     "metadata": {},
     "output_type": "execute_result"
    }
   ],
   "source": [
    "S[1:4]"
   ]
  },
  {
   "cell_type": "code",
   "execution_count": null,
   "metadata": {},
   "outputs": [],
   "source": []
  }
 ],
 "metadata": {
  "kernelspec": {
   "display_name": "Python 3",
   "language": "python",
   "name": "python3"
  },
  "language_info": {
   "codemirror_mode": {
    "name": "ipython",
    "version": 3
   },
   "file_extension": ".py",
   "mimetype": "text/x-python",
   "name": "python",
   "nbconvert_exporter": "python",
   "pygments_lexer": "ipython3",
   "version": "3.8.3"
  }
 },
 "nbformat": 4,
 "nbformat_minor": 2
}
