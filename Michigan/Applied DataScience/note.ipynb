{
 "metadata": {
  "language_info": {
   "codemirror_mode": {
    "name": "ipython",
    "version": 3
   },
   "file_extension": ".py",
   "mimetype": "text/x-python",
   "name": "python",
   "nbconvert_exporter": "python",
   "pygments_lexer": "ipython3",
   "version": "3.8.5-final"
  },
  "orig_nbformat": 2,
  "kernelspec": {
   "name": "Python 3.8.5 64-bit ('hybrisflask': conda)",
   "display_name": "Python 3.8.5 64-bit ('hybrisflask': conda)",
   "metadata": {
    "interpreter": {
     "hash": "b7791043cccd1c69564b94815d896bf26f587d259b732183035a68a4dd620c91"
    }
   }
  }
 },
 "nbformat": 4,
 "nbformat_minor": 2,
 "cells": [
  {
   "cell_type": "code",
   "execution_count": 53,
   "metadata": {},
   "outputs": [],
   "source": [
    "from PIL import Image\n",
    "from IPython.display import display\n",
    "import numpy as np\n",
    "import pandas as pd"
   ]
  },
  {
   "cell_type": "code",
   "execution_count": 14,
   "metadata": {},
   "outputs": [
    {
     "output_type": "display_data",
     "data": {
      "text/plain": "<PIL.PngImagePlugin.PngImageFile image mode=RGBA size=640x480 at 0x2029B50DEB0>",
      "image/png": "[encoded data removed]"
     },
     "metadata": {}
    }
   ],
   "source": [
    "im = Image.open('order_total_in_months.png')\n",
    "display(im)"
   ]
  },
  {
   "cell_type": "code",
   "execution_count": 16,
   "metadata": {},
   "outputs": [
    {
     "output_type": "stream",
     "name": "stdout",
     "text": [
      "(480, 640, 4)\n"
     ]
    }
   ],
   "source": [
    "array = np.array(im)\n",
    "print(array.shape)"
   ]
  },
  {
   "cell_type": "code",
   "execution_count": 17,
   "metadata": {},
   "outputs": [
    {
     "output_type": "execute_result",
     "data": {
      "text/plain": [
       "'RGBA'"
      ]
     },
     "metadata": {},
     "execution_count": 17
    }
   ],
   "source": [
    "im.mode"
   ]
  },
  {
   "cell_type": "code",
   "execution_count": 18,
   "metadata": {},
   "outputs": [
    {
     "output_type": "stream",
     "name": "stdout",
     "text": [
      "['bat', 'bot']\n"
     ]
    }
   ],
   "source": [
    "import re\n",
    "string = 'bat, lat, mat, bet, let, met, bit, lit, mit, bot, lot, mot'\n",
    "result = re.findall('b[ao]t', string)\n",
    "print(result)"
   ]
  },
  {
   "cell_type": "code",
   "execution_count": 21,
   "metadata": {},
   "outputs": [],
   "source": [
    "a = np.arange(1,101,1).reshape(10,10)\n",
    "b = np.linspace(1,10,100).reshape(10,10)"
   ]
  },
  {
   "cell_type": "code",
   "execution_count": 25,
   "metadata": {},
   "outputs": [
    {
     "output_type": "display_data",
     "data": {
      "text/plain": "(10, 10)"
     },
     "metadata": {}
    },
    {
     "output_type": "display_data",
     "data": {
      "text/plain": "(10, 10)"
     },
     "metadata": {}
    }
   ],
   "source": [
    "display(a.shape)\n",
    "display(b.shape)"
   ]
  },
  {
   "cell_type": "code",
   "execution_count": 23,
   "metadata": {},
   "outputs": [],
   "source": [
    "def l2_dist(a, b):\n",
    "    result = ((a - b) * (a - b)).sum()\n",
    "    result = result ** 0.5\n",
    "    return result"
   ]
  },
  {
   "cell_type": "code",
   "execution_count": 35,
   "metadata": {},
   "outputs": [],
   "source": [
    "a1 = np.random.rand(4)\n",
    "a2 = np.random.rand(4, 1)\n",
    "a3 = np.array([[1, 2, 3, 4]])\n",
    "a4 = np.arange(1, 4, 1)\n",
    "a5 = np.linspace(1 ,4, 4)"
   ]
  },
  {
   "cell_type": "code",
   "execution_count": 39,
   "metadata": {},
   "outputs": [
    {
     "output_type": "execute_result",
     "data": {
      "text/plain": [
       "array([0.22168726, 0.48745047, 0.58127425, 0.2451155 ])"
      ]
     },
     "metadata": {},
     "execution_count": 39
    }
   ],
   "source": [
    "a1"
   ]
  },
  {
   "cell_type": "code",
   "execution_count": 40,
   "metadata": {},
   "outputs": [
    {
     "output_type": "stream",
     "name": "stdout",
     "text": [
      "[[0 0 1]\n [1 1 1]]\n"
     ]
    }
   ],
   "source": [
    "old = np.array([[1, 1, 1], [1, 1, 1]])\n",
    "new = old\n",
    "new[0, :2] = 0\n",
    "print(old)"
   ]
  },
  {
   "cell_type": "code",
   "execution_count": 41,
   "metadata": {},
   "outputs": [],
   "source": [
    "import re\n",
    "\n",
    "s = 'ACAABAACAAAB'\n",
    "result = re.findall('A{1,2}', s)\n",
    "L = len(result)"
   ]
  },
  {
   "cell_type": "code",
   "execution_count": 43,
   "metadata": {},
   "outputs": [
    {
     "output_type": "execute_result",
     "data": {
      "text/plain": [
       "['A', 'AA', 'AA', 'AA', 'A']"
      ]
     },
     "metadata": {},
     "execution_count": 43
    }
   ],
   "source": [
    "result"
   ]
  },
  {
   "cell_type": "code",
   "execution_count": 46,
   "metadata": {},
   "outputs": [
    {
     "output_type": "execute_result",
     "data": {
      "text/plain": [
       "['Amy', 'Mary', 'Ruth', 'Peter']"
      ]
     },
     "metadata": {},
     "execution_count": 46
    }
   ],
   "source": [
    "\n",
    "simple_string = \"\"\"Amy is 5 years old, and her sister Mary is 2 years old. \n",
    "Ruth and Peter, their parents, have 3 kids.\"\"\"\n",
    "\n",
    "# YOUR CODE HERE\n",
    "re.findall(\"[A-Z]\\w+\",simple_string)\n"
   ]
  },
  {
   "cell_type": "code",
   "execution_count": 181,
   "metadata": {},
   "outputs": [
    {
     "output_type": "execute_result",
     "data": {
      "text/plain": [
       "['Bell Kassulke',\n",
       " 'Simon Loidl',\n",
       " 'Elias Jovanovic',\n",
       " 'Hakim Botros',\n",
       " 'Emilie Lorentsen',\n",
       " 'Jake Wood',\n",
       " 'Fatemeh Akhtar',\n",
       " 'Kim Weston',\n",
       " 'Yasmin Dar',\n",
       " 'Viswamitra Upandhye',\n",
       " 'Killian Kaufman',\n",
       " 'Elwood Page',\n",
       " 'Elodie Booker',\n",
       " 'Adnan Chen',\n",
       " 'Hank Spinka',\n",
       " 'Hannah Bayer']"
      ]
     },
     "metadata": {},
     "execution_count": 181
    }
   ],
   "source": [
    "with open (\"note.txt\", \"r\") as file:\n",
    "    grades = file.read()\n",
    "re.findall(\"[a-zA-z].*(?=:.B\\s*)\",grades)"
   ]
  },
  {
   "cell_type": "code",
   "execution_count": 483,
   "metadata": {
    "tags": []
   },
   "outputs": [],
   "source": [
    "stri = '146.204.224.152 - feest6811 [21/Jun/2019:15:45:24 -0700] \"POST /incentivize HTTP/1.1\" 302 4622'\n",
    "def func():\n",
    "    with open (\"note.txt\", \"r\") as file:\n",
    "        logdata = file.read()\n",
    "    items = []\n",
    "    #re.findall('(?P<host>[\\d\\.]+)\\s\\-\\s(?P<username>[\\w.*]+).\\[(?P<time>\\w.*)\\].\\\"(?P<request>\\w.*)\\\"[\\d\\s]',logdata)\n",
    "    pattern = '(?P<host>[\\d\\.]+)\\s\\-\\s(?P<user_name>[\\w\\-]+).\\[(?P<time>\\w.*)\\].\\\"(?P<request>\\w.*)\\\"[\\d\\s]'\n",
    "    for item in re.finditer(pattern,logdata,re.VERBOSE):\n",
    "        items.append(item.groupdict())\n",
    "    return items"
   ]
  },
  {
   "cell_type": "code",
   "execution_count": 484,
   "metadata": {},
   "outputs": [],
   "source": [
    "one_item={'host': '146.204.224.152',\n",
    "  'user_name': 'feest6811',\n",
    "  'time': '21/Jun/2019:15:45:24 -0700',\n",
    "  'request': 'POST /incentivize HTTP/1.1'}\n",
    "assert one_item in func(), \"Sorry, this item should be in the log results, check your formating\""
   ]
  },
  {
   "cell_type": "code",
   "execution_count": 482,
   "metadata": {},
   "outputs": [
    {
     "output_type": "execute_result",
     "data": {
      "text/plain": [
       "[{'host': '146.204.224.152',\n",
       "  'username': 'feest6811',\n",
       "  'time': '21/Jun/2019:15:45:24 -0700',\n",
       "  'request': 'POST /incentivize HTTP/1.1'},\n",
       " {'host': '197.109.77.178',\n",
       "  'username': 'kertzmann3129',\n",
       "  'time': '21/Jun/2019:15:45:25 -0700',\n",
       "  'request': 'DELETE /virtual/solutions/target/web+services HTTP/2.0'},\n",
       " {'host': '156.127.178.177',\n",
       "  'username': 'okuneva5222',\n",
       "  'time': '21/Jun/2019:15:45:27 -0700',\n",
       "  'request': 'DELETE /interactive/transparent/niches/revolutionize HTTP/1.1'},\n",
       " {'host': '100.32.205.59',\n",
       "  'username': 'ortiz8891',\n",
       "  'time': '21/Jun/2019:15:45:28 -0700',\n",
       "  'request': 'PATCH /architectures HTTP/1.0'},\n",
       " {'host': '168.95.156.240',\n",
       "  'username': 'stark2413',\n",
       "  'time': '21/Jun/2019:15:45:31 -0700',\n",
       "  'request': 'GET /engage HTTP/2.0'},\n",
       " {'host': '71.172.239.195',\n",
       "  'username': 'dooley1853',\n",
       "  'time': '21/Jun/2019:15:45:32 -0700',\n",
       "  'request': 'PUT /cutting-edge HTTP/2.0'},\n",
       " {'host': '180.95.121.94',\n",
       "  'username': 'mohr6893',\n",
       "  'time': '21/Jun/2019:15:45:34 -0700',\n",
       "  'request': 'PATCH /extensible/reinvent HTTP/1.1'},\n",
       " {'host': '144.23.247.108',\n",
       "  'username': 'auer7552',\n",
       "  'time': '21/Jun/2019:15:45:35 -0700',\n",
       "  'request': 'POST /extensible/infrastructures/one-to-one/enterprise HTTP/1.1'},\n",
       " {'host': '2.179.103.97',\n",
       "  'username': 'lind8584',\n",
       "  'time': '21/Jun/2019:15:45:36 -0700',\n",
       "  'request': 'POST /grow/front-end/e-commerce/robust HTTP/2.0'},\n",
       " {'host': '241.114.184.133',\n",
       "  'username': 'tromp8355',\n",
       "  'time': '21/Jun/2019:15:45:37 -0700',\n",
       "  'request': 'GET /redefine/orchestrate HTTP/1.0'},\n",
       " {'host': '224.188.38.4',\n",
       "  'username': 'keebler1423',\n",
       "  'time': '21/Jun/2019:15:45:40 -0700',\n",
       "  'request': 'PUT /orchestrate/out-of-the-box/unleash/syndicate HTTP/1.1'},\n",
       " {'host': '94.11.36.112',\n",
       "  'username': 'klein8508',\n",
       "  'time': '21/Jun/2019:15:45:41 -0700',\n",
       "  'request': 'POST /enhance/solutions/bricks-and-clicks HTTP/1.1'},\n",
       " {'host': '126.196.238.197',\n",
       "  'username': 'gusikowski9864',\n",
       "  'time': '21/Jun/2019:15:45:45 -0700',\n",
       "  'request': 'DELETE /rich/reinvent HTTP/2.0'}]"
      ]
     },
     "metadata": {},
     "execution_count": 482
    }
   ],
   "source": [
    "func()"
   ]
  },
  {
   "cell_type": "code",
   "execution_count": 472,
   "metadata": {},
   "outputs": [
    {
     "output_type": "execute_result",
     "data": {
      "text/plain": [
       "[('146.204.224.152',\n",
       "  'feest6811',\n",
       "  '21/Jun/2019:15:45:24 -0700',\n",
       "  'POST /incentivize HTTP/1.1')]"
      ]
     },
     "metadata": {},
     "execution_count": 472
    }
   ],
   "source": [
    "stri = '146.204.224.152 - feest6811 [21/Jun/2019:15:45:24 -0700] \"POST /incentivize HTTP/1.1\" 302 4622'\n",
    "re.findall('(?P<host>[\\d\\.]+)\\s\\-\\s(?P<username>[\\w\\-]+).\\[(?P<time>\\w.*)\\].\\\"(?P<request>\\w.*)\\\"[\\d\\s]',stri,re.VERBOSE)"
   ]
  },
  {
   "cell_type": "code",
   "execution_count": 517,
   "metadata": {},
   "outputs": [],
   "source": [
    "import pandas as pd\n",
    "\n",
    "sdata = {'Ohio': 35000, 'Texas': 71000, 'Oregon': 16000, 'Utah': 5000}\n",
    "obj1 = pd.Series(sdata)\n",
    "states = ['California', 'Ohio', 'Oregon', 'Texas']\n",
    "obj2 = pd.Series(sdata, index=states)\n",
    "obj3 = pd.isnull(obj2)"
   ]
  },
  {
   "cell_type": "code",
   "execution_count": 487,
   "metadata": {},
   "outputs": [
    {
     "output_type": "execute_result",
     "data": {
      "text/plain": [
       "False"
      ]
     },
     "metadata": {},
     "execution_count": 487
    }
   ],
   "source": [
    "obj2['California'] == None"
   ]
  },
  {
   "cell_type": "code",
   "execution_count": 518,
   "metadata": {},
   "outputs": [],
   "source": [
    "obj2 = pd.DataFrame(obj2)"
   ]
  },
  {
   "cell_type": "code",
   "execution_count": 522,
   "metadata": {},
   "outputs": [],
   "source": [
    "obj2.columns = ['Score']"
   ]
  },
  {
   "cell_type": "code",
   "execution_count": 536,
   "metadata": {},
   "outputs": [
    {
     "output_type": "execute_result",
     "data": {
      "text/plain": [
       "              Score\n",
       "California      NaN\n",
       "Ohio        35000.0\n",
       "Oregon      16000.0\n",
       "Texas       71000.0"
      ],
      "text/html": "<div>\n<style scoped>\n    .dataframe tbody tr th:only-of-type {\n        vertical-align: middle;\n    }\n\n    .dataframe tbody tr th {\n        vertical-align: top;\n    }\n\n    .dataframe thead th {\n        text-align: right;\n    }\n</style>\n<table border=\"1\" class=\"dataframe\">\n  <thead>\n    <tr style=\"text-align: right;\">\n      <th></th>\n      <th>Score</th>\n    </tr>\n  </thead>\n  <tbody>\n    <tr>\n      <th>California</th>\n      <td>NaN</td>\n    </tr>\n    <tr>\n      <th>Ohio</th>\n      <td>35000.0</td>\n    </tr>\n    <tr>\n      <th>Oregon</th>\n      <td>16000.0</td>\n    </tr>\n    <tr>\n      <th>Texas</th>\n      <td>71000.0</td>\n    </tr>\n  </tbody>\n</table>\n</div>"
     },
     "metadata": {},
     "execution_count": 536
    }
   ],
   "source": [
    "obj2"
   ]
  },
  {
   "cell_type": "code",
   "execution_count": 538,
   "metadata": {},
   "outputs": [
    {
     "output_type": "execute_result",
     "data": {
      "text/plain": [
       "Score    16000.0\n",
       "Name: Oregon, dtype: float64"
      ]
     },
     "metadata": {},
     "execution_count": 538
    }
   ],
   "source": [
    "obj2.T['Oregon']"
   ]
  },
  {
   "cell_type": "code",
   "execution_count": 525,
   "metadata": {},
   "outputs": [],
   "source": [
    "s1 = pd.Series({1: 'Alice', 2: 'Jack', 3: 'Molly'})\n",
    "s2 = pd.Series({'Alice': 1, 'Jack': 2, 'Molly': 3})"
   ]
  },
  {
   "cell_type": "code",
   "execution_count": 526,
   "metadata": {},
   "outputs": [
    {
     "output_type": "execute_result",
     "data": {
      "text/plain": [
       "1        Alice\n",
       "2         Jack\n",
       "3        Molly\n",
       "Alice        1\n",
       "Jack         2\n",
       "Molly        3\n",
       "dtype: object"
      ]
     },
     "metadata": {},
     "execution_count": 526
    }
   ],
   "source": [
    "s1.append(s2)"
   ]
  },
  {
   "cell_type": "code",
   "execution_count": 644,
   "metadata": {},
   "outputs": [],
   "source": [
    "df = pd.read_csv('NISPUF17.csv')"
   ]
  },
  {
   "cell_type": "code",
   "execution_count": 564,
   "metadata": {},
   "outputs": [
    {
     "output_type": "execute_result",
     "data": {
      "text/plain": [
       "{'college': 0.47974705779026877,\n",
       " 'more than high school but not college': 0.24588090637625154,\n",
       " 'high school': 0.172352011241876,\n",
       " 'less than high school': 0.10202002459160373}"
      ]
     },
     "metadata": {},
     "execution_count": 564
    }
   ],
   "source": [
    "count = {}\n",
    "total = df['EDUC1'].value_counts().sum()\n",
    "for val ,counts in df['EDUC1'].value_counts().iteritems():\n",
    "    if val == 1:\n",
    "        count['less than high school'] = counts/total\n",
    "    if val == 2:\n",
    "        count['high school'] = counts/total\n",
    "    if val == 3:\n",
    "        count['more than high school but not college'] = counts/total\n",
    "    if val == 4:\n",
    "        count['college'] = counts/total\n",
    "count"
   ]
  },
  {
   "cell_type": "code",
   "execution_count": 557,
   "metadata": {},
   "outputs": [
    {
     "output_type": "execute_result",
     "data": {
      "text/plain": [
       "Series([], Name: EDUC1, dtype: int64)"
      ]
     },
     "metadata": {},
     "execution_count": 557
    }
   ],
   "source": [
    "df.loc[df['EDUC1'] == 12,'EDUC1']"
   ]
  },
  {
   "cell_type": "code",
   "execution_count": 651,
   "metadata": {},
   "outputs": [
    {
     "output_type": "execute_result",
     "data": {
      "text/plain": [
       "3        3.0\n",
       "22       0.0\n",
       "28       3.0\n",
       "29       3.0\n",
       "76       2.0\n",
       "        ... \n",
       "28393    1.0\n",
       "28397    4.0\n",
       "28425    1.0\n",
       "28447    1.0\n",
       "28452    2.0\n",
       "Name: P_NUMFLU, Length: 1997, dtype: float64"
      ]
     },
     "metadata": {},
     "execution_count": 651
    }
   ],
   "source": [
    "true_df = df.loc[(df['CBF_01'] == 1), 'P_NUMFLU']\n",
    "true_df.dropna()\n",
    "false_df = df.loc[(df['CBF_01'] == 2), 'P_NUMFLU']\n",
    "false_df.dropna()"
   ]
  },
  {
   "cell_type": "code",
   "execution_count": 653,
   "metadata": {},
   "outputs": [
    {
     "output_type": "execute_result",
     "data": {
      "text/plain": [
       "24261"
      ]
     },
     "metadata": {},
     "execution_count": 653
    }
   ],
   "source": [
    "true_df.shape[0]"
   ]
  },
  {
   "cell_type": "code",
   "execution_count": 652,
   "metadata": {},
   "outputs": [
    {
     "output_type": "execute_result",
     "data": {
      "text/plain": [
       "(1.0298833518816206, 0.7804161566707466)"
      ]
     },
     "metadata": {},
     "execution_count": 652
    }
   ],
   "source": [
    "(true_df.sum()/true_df.shape[0] ,false_df.sum()/false_df.shape[0])"
   ]
  },
  {
   "cell_type": "code",
   "execution_count": 604,
   "metadata": {},
   "outputs": [
    {
     "output_type": "execute_result",
     "data": {
      "text/plain": [
       "2     27955\n",
       "1       402\n",
       "77      105\n",
       "99        3\n",
       "Name: HAD_CPOX, dtype: int64"
      ]
     },
     "metadata": {},
     "execution_count": 604
    }
   ],
   "source": [
    "df['HAD_CPOX'].value_counts()"
   ]
  },
  {
   "cell_type": "code",
   "execution_count": 605,
   "metadata": {},
   "outputs": [
    {
     "output_type": "execute_result",
     "data": {
      "text/plain": [
       "1.0    13781\n",
       "0.0     1338\n",
       "2.0      213\n",
       "3.0        1\n",
       "Name: P_NUMVRC, dtype: int64"
      ]
     },
     "metadata": {},
     "execution_count": 605
    }
   ],
   "source": [
    "df['P_NUMVRC'].value_counts()"
   ]
  },
  {
   "cell_type": "code",
   "execution_count": 607,
   "metadata": {},
   "outputs": [
    {
     "output_type": "execute_result",
     "data": {
      "text/plain": [
       "1    14717\n",
       "2    13748\n",
       "Name: SEX, dtype: int64"
      ]
     },
     "metadata": {},
     "execution_count": 607
    }
   ],
   "source": [
    "df['SEX'].value_counts()"
   ]
  },
  {
   "cell_type": "code",
   "execution_count": 624,
   "metadata": {},
   "outputs": [
    {
     "output_type": "execute_result",
     "data": {
      "text/plain": [
       "3        1.0\n",
       "4        0.0\n",
       "6        1.0\n",
       "7        0.0\n",
       "8        0.0\n",
       "        ... \n",
       "28446    1.0\n",
       "28447    1.0\n",
       "28449    1.0\n",
       "28452    1.0\n",
       "28454    1.0\n",
       "Name: P_NUMVRC, Length: 15333, dtype: float64"
      ]
     },
     "metadata": {},
     "execution_count": 624
    }
   ],
   "source": [
    "df.dropna(subset=['P_NUMVRC'],inplace=True)\n",
    "df['P_NUMVRC']"
   ]
  },
  {
   "cell_type": "code",
   "execution_count": 623,
   "metadata": {},
   "outputs": [
    {
     "output_type": "execute_result",
     "data": {
      "text/plain": [
       "(0.009675583380762664, 0.0077918259335489565)"
      ]
     },
     "metadata": {},
     "execution_count": 623
    }
   ],
   "source": [
    "male_had_pox = df.loc[(df['SEX'] == 1) & (df['P_NUMVRC'] > 0) & (df['HAD_CPOX'] == 1),'SEX']\n",
    "male_not_had_pox = df.loc[(df['SEX'] == 1) & (df['P_NUMVRC'] > 0) & (df['HAD_CPOX'] == 2),'SEX']\n",
    "female_had_pox = df.loc[(df['SEX'] == 2) & (df['P_NUMVRC'] > 0) & (df['HAD_CPOX'] == 1),'SEX']\n",
    "female_not_had_pox = df.loc[(df['SEX'] == 2) & (df['P_NUMVRC'] > 0) & (df['HAD_CPOX'] == 2),'SEX']\n",
    "(male_had_pox.shape[0] / male_not_had_pox.shape[0], female_had_pox.shape[0] / female_not_had_pox.shape[0])"
   ]
  },
  {
   "cell_type": "code",
   "execution_count": 633,
   "metadata": {},
   "outputs": [],
   "source": [
    "correla = df.loc[df['HAD_CPOX'] < 3,['P_NUMVRC','HAD_CPOX']]"
   ]
  },
  {
   "cell_type": "code",
   "execution_count": 634,
   "metadata": {},
   "outputs": [
    {
     "output_type": "execute_result",
     "data": {
      "text/plain": [
       "P_NUMVRC  HAD_CPOX\n",
       "1.0       2           13620\n",
       "0.0       2            1283\n",
       "2.0       2             209\n",
       "1.0       1             117\n",
       "0.0       1              52\n",
       "2.0       1               4\n",
       "3.0       2               1\n",
       "dtype: int64"
      ]
     },
     "metadata": {},
     "execution_count": 634
    }
   ],
   "source": [
    "correla.value_counts()"
   ]
  },
  {
   "cell_type": "code",
   "execution_count": 636,
   "metadata": {},
   "outputs": [
    {
     "output_type": "execute_result",
     "data": {
      "text/plain": [
       "       P_NUMVRC  HAD_CPOX\n",
       "3           1.0         2\n",
       "4           0.0         2\n",
       "6           1.0         2\n",
       "7           0.0         2\n",
       "8           0.0         1\n",
       "...         ...       ...\n",
       "28446       1.0         2\n",
       "28447       1.0         2\n",
       "28449       1.0         2\n",
       "28452       1.0         2\n",
       "28454       1.0         2\n",
       "\n",
       "[15286 rows x 2 columns]"
      ],
      "text/html": "<div>\n<style scoped>\n    .dataframe tbody tr th:only-of-type {\n        vertical-align: middle;\n    }\n\n    .dataframe tbody tr th {\n        vertical-align: top;\n    }\n\n    .dataframe thead th {\n        text-align: right;\n    }\n</style>\n<table border=\"1\" class=\"dataframe\">\n  <thead>\n    <tr style=\"text-align: right;\">\n      <th></th>\n      <th>P_NUMVRC</th>\n      <th>HAD_CPOX</th>\n    </tr>\n  </thead>\n  <tbody>\n    <tr>\n      <th>3</th>\n      <td>1.0</td>\n      <td>2</td>\n    </tr>\n    <tr>\n      <th>4</th>\n      <td>0.0</td>\n      <td>2</td>\n    </tr>\n    <tr>\n      <th>6</th>\n      <td>1.0</td>\n      <td>2</td>\n    </tr>\n    <tr>\n      <th>7</th>\n      <td>0.0</td>\n      <td>2</td>\n    </tr>\n    <tr>\n      <th>8</th>\n      <td>0.0</td>\n      <td>1</td>\n    </tr>\n    <tr>\n      <th>...</th>\n      <td>...</td>\n      <td>...</td>\n    </tr>\n    <tr>\n      <th>28446</th>\n      <td>1.0</td>\n      <td>2</td>\n    </tr>\n    <tr>\n      <th>28447</th>\n      <td>1.0</td>\n      <td>2</td>\n    </tr>\n    <tr>\n      <th>28449</th>\n      <td>1.0</td>\n      <td>2</td>\n    </tr>\n    <tr>\n      <th>28452</th>\n      <td>1.0</td>\n      <td>2</td>\n    </tr>\n    <tr>\n      <th>28454</th>\n      <td>1.0</td>\n      <td>2</td>\n    </tr>\n  </tbody>\n</table>\n<p>15286 rows × 2 columns</p>\n</div>"
     },
     "metadata": {},
     "execution_count": 636
    }
   ],
   "source": [
    "correla.dropna()"
   ]
  },
  {
   "cell_type": "code",
   "execution_count": 654,
   "metadata": {},
   "outputs": [
    {
     "output_type": "execute_result",
     "data": {
      "text/plain": [
       "5"
      ]
     },
     "metadata": {},
     "execution_count": 654
    }
   ],
   "source": [
    "(pd.Timestamp('11/29/2019') + pd.offsets.MonthEnd()).weekday()"
   ]
  },
  {
   "cell_type": "code",
   "execution_count": 655,
   "metadata": {},
   "outputs": [
    {
     "output_type": "execute_result",
     "data": {
      "text/plain": [
       "Period('2019-06', 'M')"
      ]
     },
     "metadata": {},
     "execution_count": 655
    }
   ],
   "source": [
    "pd.Period('01/12/2019', 'M') + 5"
   ]
  },
  {
   "cell_type": "code",
   "execution_count": 155,
   "metadata": {},
   "outputs": [],
   "source": [
    "df = pd.read_excel('Energy Indicators.xls',skipfooter=38,skiprows=17,usecols='C:F',names=['Country', 'Energy Supply', 'Energy Supply per Capita', '% Renewable'])"
   ]
  },
  {
   "cell_type": "code",
   "execution_count": 162,
   "metadata": {},
   "outputs": [],
   "source": [
    "df.replace('...',np.NaN,inplace=True)"
   ]
  },
  {
   "cell_type": "code",
   "execution_count": 163,
   "metadata": {},
   "outputs": [],
   "source": [
    "df['Energy Supply'] = df['Energy Supply'] * 1000000"
   ]
  },
  {
   "cell_type": "code",
   "execution_count": 164,
   "metadata": {},
   "outputs": [],
   "source": [
    "df['Country'].replace([\"Republic of Korea\",\"United States of America\",\"United Kingdom of Great Britain and Northern Ireland\",\"China, Hong Kong Special Administrative Region\"], [\"South Korea\", \"United States\", \"United Kingdom\", \"Hong Kong\"],inplace=True)"
   ]
  },
  {
   "cell_type": "code",
   "execution_count": 167,
   "metadata": {},
   "outputs": [
    {
     "output_type": "execute_result",
     "data": {
      "text/plain": [
       "    Country  Energy Supply  Energy Supply per Capita  % Renewable\n",
       "24  Bolivia    336000000.0                      32.0     31.47712"
      ],
      "text/html": "<div>\n<style scoped>\n    .dataframe tbody tr th:only-of-type {\n        vertical-align: middle;\n    }\n\n    .dataframe tbody tr th {\n        vertical-align: top;\n    }\n\n    .dataframe thead th {\n        text-align: right;\n    }\n</style>\n<table border=\"1\" class=\"dataframe\">\n  <thead>\n    <tr style=\"text-align: right;\">\n      <th></th>\n      <th>Country</th>\n      <th>Energy Supply</th>\n      <th>Energy Supply per Capita</th>\n      <th>% Renewable</th>\n    </tr>\n  </thead>\n  <tbody>\n    <tr>\n      <th>24</th>\n      <td>Bolivia</td>\n      <td>336000000.0</td>\n      <td>32.0</td>\n      <td>31.47712</td>\n    </tr>\n  </tbody>\n</table>\n</div>"
     },
     "metadata": {},
     "execution_count": 167
    }
   ],
   "source": [
    "df[df['Country'] == 'Bolivia']"
   ]
  },
  {
   "cell_type": "code",
   "execution_count": 166,
   "metadata": {},
   "outputs": [],
   "source": [
    "df['Country'].replace('\\s\\(\\w.*\\)','',regex=True,inplace=True)\n",
    "df['Country'].replace('\\d$','',regex=True,inplace=True)"
   ]
  },
  {
   "cell_type": "code",
   "execution_count": 171,
   "metadata": {},
   "outputs": [
    {
     "output_type": "execute_result",
     "data": {
      "text/plain": [
       "['(Plurinational State of)']"
      ]
     },
     "metadata": {},
     "execution_count": 171
    }
   ],
   "source": [
    "import re\n",
    "stri = 'Bolivia (Plurinational State of)'\n",
    "re.findall('\\(\\w.*\\)',stri)"
   ]
  },
  {
   "cell_type": "code",
   "execution_count": 174,
   "metadata": {},
   "outputs": [],
   "source": [
    "wb = pd.read_csv('API_NY.GDP.MKTP.CD_DS2_en_csv_v2_1495053.csv',skiprows=4)"
   ]
  },
  {
   "cell_type": "code",
   "execution_count": 175,
   "metadata": {},
   "outputs": [],
   "source": [
    "wb['Country Name'].replace([\"Korea, Rep.\",\"Iran, Islamic Rep.\",\"Hong Kong SAR, China\"], [\"South Korea\",\"Iran\",\"Hong Kong\"],inplace=True)\n",
    "wb.drop('Unnamed: 65',axis=1,inplace=True)"
   ]
  },
  {
   "cell_type": "code",
   "execution_count": 176,
   "metadata": {},
   "outputs": [],
   "source": [
    "wb.drop(np.concatenate((np.arange(1960,2006,1),np.arange(2016,2021,1)),axis=0).astype(str),axis=1,inplace=True)"
   ]
  },
  {
   "cell_type": "code",
   "execution_count": 177,
   "metadata": {},
   "outputs": [
    {
     "output_type": "execute_result",
     "data": {
      "text/plain": [
       "     Rank                Country            Region  Documents  \\\n",
       "0       1                  China    Asiatic Region     235126   \n",
       "1       2          United States  Northern America     157811   \n",
       "2       3                  Japan    Asiatic Region      46032   \n",
       "3       4                  India    Asiatic Region      39893   \n",
       "4       5         United Kingdom    Western Europe      38873   \n",
       "..    ...                    ...               ...        ...   \n",
       "200   201               Kiribati    Pacific Region          1   \n",
       "201   202                Comoros            Africa          1   \n",
       "202   203                  Palau    Pacific Region          1   \n",
       "203   204             Montserrat     Latin America          1   \n",
       "204   205  Sao Tome and Principe            Africa          1   \n",
       "\n",
       "     Citable documents  Citations  Self-citations  Citations per document  \\\n",
       "0               233883    1909601         1306438                    8.12   \n",
       "1               154288    1940563          639345                   12.30   \n",
       "2                45559     436961          109968                    9.49   \n",
       "3                38848     368175          123446                    9.23   \n",
       "4                37780     536378          100038                   13.80   \n",
       "..                 ...        ...             ...                     ...   \n",
       "200                  1         17               0                   17.00   \n",
       "201                  1          0               0                    0.00   \n",
       "202                  1          0               0                    0.00   \n",
       "203                  1          2               0                    2.00   \n",
       "204                  1          0               0                    0.00   \n",
       "\n",
       "     H index  \n",
       "0        224  \n",
       "1        333  \n",
       "2        181  \n",
       "3        171  \n",
       "4        208  \n",
       "..       ...  \n",
       "200        1  \n",
       "201        0  \n",
       "202        0  \n",
       "203        1  \n",
       "204        0  \n",
       "\n",
       "[205 rows x 9 columns]"
      ],
      "text/html": "<div>\n<style scoped>\n    .dataframe tbody tr th:only-of-type {\n        vertical-align: middle;\n    }\n\n    .dataframe tbody tr th {\n        vertical-align: top;\n    }\n\n    .dataframe thead th {\n        text-align: right;\n    }\n</style>\n<table border=\"1\" class=\"dataframe\">\n  <thead>\n    <tr style=\"text-align: right;\">\n      <th></th>\n      <th>Rank</th>\n      <th>Country</th>\n      <th>Region</th>\n      <th>Documents</th>\n      <th>Citable documents</th>\n      <th>Citations</th>\n      <th>Self-citations</th>\n      <th>Citations per document</th>\n      <th>H index</th>\n    </tr>\n  </thead>\n  <tbody>\n    <tr>\n      <th>0</th>\n      <td>1</td>\n      <td>China</td>\n      <td>Asiatic Region</td>\n      <td>235126</td>\n      <td>233883</td>\n      <td>1909601</td>\n      <td>1306438</td>\n      <td>8.12</td>\n      <td>224</td>\n    </tr>\n    <tr>\n      <th>1</th>\n      <td>2</td>\n      <td>United States</td>\n      <td>Northern America</td>\n      <td>157811</td>\n      <td>154288</td>\n      <td>1940563</td>\n      <td>639345</td>\n      <td>12.30</td>\n      <td>333</td>\n    </tr>\n    <tr>\n      <th>2</th>\n      <td>3</td>\n      <td>Japan</td>\n      <td>Asiatic Region</td>\n      <td>46032</td>\n      <td>45559</td>\n      <td>436961</td>\n      <td>109968</td>\n      <td>9.49</td>\n      <td>181</td>\n    </tr>\n    <tr>\n      <th>3</th>\n      <td>4</td>\n      <td>India</td>\n      <td>Asiatic Region</td>\n      <td>39893</td>\n      <td>38848</td>\n      <td>368175</td>\n      <td>123446</td>\n      <td>9.23</td>\n      <td>171</td>\n    </tr>\n    <tr>\n      <th>4</th>\n      <td>5</td>\n      <td>United Kingdom</td>\n      <td>Western Europe</td>\n      <td>38873</td>\n      <td>37780</td>\n      <td>536378</td>\n      <td>100038</td>\n      <td>13.80</td>\n      <td>208</td>\n    </tr>\n    <tr>\n      <th>...</th>\n      <td>...</td>\n      <td>...</td>\n      <td>...</td>\n      <td>...</td>\n      <td>...</td>\n      <td>...</td>\n      <td>...</td>\n      <td>...</td>\n      <td>...</td>\n    </tr>\n    <tr>\n      <th>200</th>\n      <td>201</td>\n      <td>Kiribati</td>\n      <td>Pacific Region</td>\n      <td>1</td>\n      <td>1</td>\n      <td>17</td>\n      <td>0</td>\n      <td>17.00</td>\n      <td>1</td>\n    </tr>\n    <tr>\n      <th>201</th>\n      <td>202</td>\n      <td>Comoros</td>\n      <td>Africa</td>\n      <td>1</td>\n      <td>1</td>\n      <td>0</td>\n      <td>0</td>\n      <td>0.00</td>\n      <td>0</td>\n    </tr>\n    <tr>\n      <th>202</th>\n      <td>203</td>\n      <td>Palau</td>\n      <td>Pacific Region</td>\n      <td>1</td>\n      <td>1</td>\n      <td>0</td>\n      <td>0</td>\n      <td>0.00</td>\n      <td>0</td>\n    </tr>\n    <tr>\n      <th>203</th>\n      <td>204</td>\n      <td>Montserrat</td>\n      <td>Latin America</td>\n      <td>1</td>\n      <td>1</td>\n      <td>2</td>\n      <td>0</td>\n      <td>2.00</td>\n      <td>1</td>\n    </tr>\n    <tr>\n      <th>204</th>\n      <td>205</td>\n      <td>Sao Tome and Principe</td>\n      <td>Africa</td>\n      <td>1</td>\n      <td>1</td>\n      <td>0</td>\n      <td>0</td>\n      <td>0.00</td>\n      <td>0</td>\n    </tr>\n  </tbody>\n</table>\n<p>205 rows × 9 columns</p>\n</div>"
     },
     "metadata": {},
     "execution_count": 177
    }
   ],
   "source": [
    "cr = pd.read_excel('scimagojr country rank 1996-2019.xlsx')\n",
    "cr"
   ]
  },
  {
   "cell_type": "code",
   "execution_count": 182,
   "metadata": {},
   "outputs": [
    {
     "output_type": "execute_result",
     "data": {
      "text/plain": [
       "Empty DataFrame\n",
       "Columns: [Country, Energy Supply, Energy Supply per Capita, % Renewable]\n",
       "Index: []"
      ],
      "text/html": "<div>\n<style scoped>\n    .dataframe tbody tr th:only-of-type {\n        vertical-align: middle;\n    }\n\n    .dataframe tbody tr th {\n        vertical-align: top;\n    }\n\n    .dataframe thead th {\n        text-align: right;\n    }\n</style>\n<table border=\"1\" class=\"dataframe\">\n  <thead>\n    <tr style=\"text-align: right;\">\n      <th></th>\n      <th>Country</th>\n      <th>Energy Supply</th>\n      <th>Energy Supply per Capita</th>\n      <th>% Renewable</th>\n    </tr>\n  </thead>\n  <tbody>\n  </tbody>\n</table>\n</div>"
     },
     "metadata": {},
     "execution_count": 182
    }
   ],
   "source": [
    "cr[cr['Country'] == 'China']\n",
    "wb[wb['Country Name'] == 'United States']\n",
    "df[df['Country'] == 'United States']\n"
   ]
  },
  {
   "cell_type": "code",
   "execution_count": 184,
   "metadata": {},
   "outputs": [],
   "source": [
    "df['Country'].replace('\\d$','',regex=True,inplace=True)"
   ]
  },
  {
   "cell_type": "code",
   "execution_count": 185,
   "metadata": {},
   "outputs": [
    {
     "output_type": "execute_result",
     "data": {
      "text/plain": [
       "207                                               Turkey\n",
       "208                                         Turkmenistan\n",
       "209                             Turks and Caicos Islands\n",
       "210                                               Tuvalu\n",
       "211                                               Uganda\n",
       "212                                              Ukraine\n",
       "213                                 United Arab Emirates\n",
       "214    United Kingdom of Great Britain and Northern I...\n",
       "215                          United Republic of Tanzania\n",
       "216                             United States of America\n",
       "217                         United States Virgin Islands\n",
       "218                                              Uruguay\n",
       "219                                           Uzbekistan\n",
       "220                                              Vanuatu\n",
       "221                                            Venezuela\n",
       "222                                             Viet Nam\n",
       "223                            Wallis and Futuna Islands\n",
       "224                                                Yemen\n",
       "225                                               Zambia\n",
       "226                                             Zimbabwe\n",
       "Name: Country, dtype: object"
      ]
     },
     "metadata": {},
     "execution_count": 185
    }
   ],
   "source": [
    "df['Country'].tail(20)"
   ]
  },
  {
   "cell_type": "code",
   "execution_count": 179,
   "metadata": {},
   "outputs": [],
   "source": [
    "mdf = df.merge(cr,on='Country').merge(wb,left_on='Country',right_on=\"Country Name\")"
   ]
  },
  {
   "cell_type": "code",
   "execution_count": 180,
   "metadata": {},
   "outputs": [
    {
     "output_type": "execute_result",
     "data": {
      "text/plain": [
       "                   Country  Energy Supply  Energy Supply per Capita  \\\n",
       "36                   China   1.271910e+11                      93.0   \n",
       "72                   India   3.319500e+10                      26.0   \n",
       "59                 Germany   1.326100e+10                     165.0   \n",
       "128     Russian Federation   3.070900e+10                     214.0   \n",
       "31                  Canada   1.043100e+10                     296.0   \n",
       "..                     ...            ...                       ...   \n",
       "67           Guinea-Bissau   2.900000e+07                      17.0   \n",
       "83                Kiribati   1.000000e+06                       8.0   \n",
       "38                 Comoros   5.000000e+06                       7.0   \n",
       "117                  Palau   3.000000e+06                     152.0   \n",
       "131  Sao Tome and Principe   3.000000e+06                      14.0   \n",
       "\n",
       "     % Renewable  Rank            Region  Documents  Citable documents  \\\n",
       "36      19.75491     1    Asiatic Region     235126             233883   \n",
       "72      14.96908     4    Asiatic Region      39893              38848   \n",
       "59      17.90153     6    Western Europe      32935              32227   \n",
       "128     17.28868     7    Eastern Europe      31880              31664   \n",
       "31      61.94543     8  Northern America      29633              29011   \n",
       "..           ...   ...               ...        ...                ...   \n",
       "67       0.00000   199            Africa          1                  1   \n",
       "83       0.00000   201    Pacific Region          1                  1   \n",
       "38      11.62791   202            Africa          1                  1   \n",
       "117     18.75000   203    Pacific Region          1                  1   \n",
       "131     10.44776   205            Africa          1                  1   \n",
       "\n",
       "     Citations  Self-citations  ...          2006          2007          2008  \\\n",
       "36     1909601         1306438  ...  2.752132e+12  3.550342e+12  4.594307e+12   \n",
       "72      368175          123446  ...  9.402599e+11  1.216735e+12  1.198896e+12   \n",
       "59      367356           78265  ...  2.992197e+12  3.421229e+12  3.730028e+12   \n",
       "128      91906           42529  ...  9.899305e+11  1.299706e+12  1.660846e+12   \n",
       "31      491467           88987  ...  1.315415e+12  1.464977e+12  1.549131e+12   \n",
       "..         ...             ...  ...           ...           ...           ...   \n",
       "67           7               2  ...  5.918395e+08  6.959902e+08  8.646548e+08   \n",
       "83          17               0  ...  1.102349e+08  1.326717e+08  1.410426e+08   \n",
       "38           0               0  ...  6.978110e+08  7.946217e+08  9.119674e+08   \n",
       "117          0               0  ...  1.890289e+08  1.946303e+08  1.980244e+08   \n",
       "131          0               0  ...  1.427756e+08  1.491464e+08  1.880212e+08   \n",
       "\n",
       "             2009          2010          2011          2012          2013  \\\n",
       "36   5.101702e+12  6.087165e+12  7.551500e+12  8.532231e+12  9.570406e+12   \n",
       "72   1.341887e+12  1.675615e+12  1.823050e+12  1.827638e+12  1.856722e+12   \n",
       "59   3.397791e+12  3.396354e+12  3.744409e+12  3.527345e+12  3.732743e+12   \n",
       "128  1.222644e+12  1.524917e+12  2.045926e+12  2.208296e+12  2.292473e+12   \n",
       "31   1.371153e+12  1.613464e+12  1.788648e+12  1.828689e+12  1.847209e+12   \n",
       "..            ...           ...           ...           ...           ...   \n",
       "67   8.267987e+08  8.490501e+08  1.098379e+09  9.893278e+08  1.045790e+09   \n",
       "83   1.324201e+08  1.561209e+08  1.817050e+08  1.902433e+08  1.851139e+08   \n",
       "38   9.017114e+08  9.079787e+08  1.023086e+09  1.015843e+09  1.116224e+09   \n",
       "117  1.833693e+08  1.834988e+08  1.931439e+08  2.111033e+08  2.233884e+08   \n",
       "131  1.878205e+08  1.974541e+08  2.332140e+08  2.525608e+08  3.029247e+08   \n",
       "\n",
       "             2014          2015  \n",
       "36   1.047568e+13  1.106155e+13  \n",
       "72   2.039127e+12  2.103588e+12  \n",
       "59   3.883920e+12  3.360550e+12  \n",
       "128  2.059242e+12  1.363481e+12  \n",
       "31   1.803533e+12  1.556130e+12  \n",
       "..            ...           ...  \n",
       "67   1.053512e+09  1.047808e+09  \n",
       "83   1.797034e+08  1.711179e+08  \n",
       "38   1.149588e+09  9.660295e+08  \n",
       "117  2.431470e+08  2.803761e+08  \n",
       "131  3.489417e+08  3.182665e+08  \n",
       "\n",
       "[159 rows x 26 columns]"
      ],
      "text/html": "<div>\n<style scoped>\n    .dataframe tbody tr th:only-of-type {\n        vertical-align: middle;\n    }\n\n    .dataframe tbody tr th {\n        vertical-align: top;\n    }\n\n    .dataframe thead th {\n        text-align: right;\n    }\n</style>\n<table border=\"1\" class=\"dataframe\">\n  <thead>\n    <tr style=\"text-align: right;\">\n      <th></th>\n      <th>Country</th>\n      <th>Energy Supply</th>\n      <th>Energy Supply per Capita</th>\n      <th>% Renewable</th>\n      <th>Rank</th>\n      <th>Region</th>\n      <th>Documents</th>\n      <th>Citable documents</th>\n      <th>Citations</th>\n      <th>Self-citations</th>\n      <th>...</th>\n      <th>2006</th>\n      <th>2007</th>\n      <th>2008</th>\n      <th>2009</th>\n      <th>2010</th>\n      <th>2011</th>\n      <th>2012</th>\n      <th>2013</th>\n      <th>2014</th>\n      <th>2015</th>\n    </tr>\n  </thead>\n  <tbody>\n    <tr>\n      <th>36</th>\n      <td>China</td>\n      <td>1.271910e+11</td>\n      <td>93.0</td>\n      <td>19.75491</td>\n      <td>1</td>\n      <td>Asiatic Region</td>\n      <td>235126</td>\n      <td>233883</td>\n      <td>1909601</td>\n      <td>1306438</td>\n      <td>...</td>\n      <td>2.752132e+12</td>\n      <td>3.550342e+12</td>\n      <td>4.594307e+12</td>\n      <td>5.101702e+12</td>\n      <td>6.087165e+12</td>\n      <td>7.551500e+12</td>\n      <td>8.532231e+12</td>\n      <td>9.570406e+12</td>\n      <td>1.047568e+13</td>\n      <td>1.106155e+13</td>\n    </tr>\n    <tr>\n      <th>72</th>\n      <td>India</td>\n      <td>3.319500e+10</td>\n      <td>26.0</td>\n      <td>14.96908</td>\n      <td>4</td>\n      <td>Asiatic Region</td>\n      <td>39893</td>\n      <td>38848</td>\n      <td>368175</td>\n      <td>123446</td>\n      <td>...</td>\n      <td>9.402599e+11</td>\n      <td>1.216735e+12</td>\n      <td>1.198896e+12</td>\n      <td>1.341887e+12</td>\n      <td>1.675615e+12</td>\n      <td>1.823050e+12</td>\n      <td>1.827638e+12</td>\n      <td>1.856722e+12</td>\n      <td>2.039127e+12</td>\n      <td>2.103588e+12</td>\n    </tr>\n    <tr>\n      <th>59</th>\n      <td>Germany</td>\n      <td>1.326100e+10</td>\n      <td>165.0</td>\n      <td>17.90153</td>\n      <td>6</td>\n      <td>Western Europe</td>\n      <td>32935</td>\n      <td>32227</td>\n      <td>367356</td>\n      <td>78265</td>\n      <td>...</td>\n      <td>2.992197e+12</td>\n      <td>3.421229e+12</td>\n      <td>3.730028e+12</td>\n      <td>3.397791e+12</td>\n      <td>3.396354e+12</td>\n      <td>3.744409e+12</td>\n      <td>3.527345e+12</td>\n      <td>3.732743e+12</td>\n      <td>3.883920e+12</td>\n      <td>3.360550e+12</td>\n    </tr>\n    <tr>\n      <th>128</th>\n      <td>Russian Federation</td>\n      <td>3.070900e+10</td>\n      <td>214.0</td>\n      <td>17.28868</td>\n      <td>7</td>\n      <td>Eastern Europe</td>\n      <td>31880</td>\n      <td>31664</td>\n      <td>91906</td>\n      <td>42529</td>\n      <td>...</td>\n      <td>9.899305e+11</td>\n      <td>1.299706e+12</td>\n      <td>1.660846e+12</td>\n      <td>1.222644e+12</td>\n      <td>1.524917e+12</td>\n      <td>2.045926e+12</td>\n      <td>2.208296e+12</td>\n      <td>2.292473e+12</td>\n      <td>2.059242e+12</td>\n      <td>1.363481e+12</td>\n    </tr>\n    <tr>\n      <th>31</th>\n      <td>Canada</td>\n      <td>1.043100e+10</td>\n      <td>296.0</td>\n      <td>61.94543</td>\n      <td>8</td>\n      <td>Northern America</td>\n      <td>29633</td>\n      <td>29011</td>\n      <td>491467</td>\n      <td>88987</td>\n      <td>...</td>\n      <td>1.315415e+12</td>\n      <td>1.464977e+12</td>\n      <td>1.549131e+12</td>\n      <td>1.371153e+12</td>\n      <td>1.613464e+12</td>\n      <td>1.788648e+12</td>\n      <td>1.828689e+12</td>\n      <td>1.847209e+12</td>\n      <td>1.803533e+12</td>\n      <td>1.556130e+12</td>\n    </tr>\n    <tr>\n      <th>...</th>\n      <td>...</td>\n      <td>...</td>\n      <td>...</td>\n      <td>...</td>\n      <td>...</td>\n      <td>...</td>\n      <td>...</td>\n      <td>...</td>\n      <td>...</td>\n      <td>...</td>\n      <td>...</td>\n      <td>...</td>\n      <td>...</td>\n      <td>...</td>\n      <td>...</td>\n      <td>...</td>\n      <td>...</td>\n      <td>...</td>\n      <td>...</td>\n      <td>...</td>\n      <td>...</td>\n    </tr>\n    <tr>\n      <th>67</th>\n      <td>Guinea-Bissau</td>\n      <td>2.900000e+07</td>\n      <td>17.0</td>\n      <td>0.00000</td>\n      <td>199</td>\n      <td>Africa</td>\n      <td>1</td>\n      <td>1</td>\n      <td>7</td>\n      <td>2</td>\n      <td>...</td>\n      <td>5.918395e+08</td>\n      <td>6.959902e+08</td>\n      <td>8.646548e+08</td>\n      <td>8.267987e+08</td>\n      <td>8.490501e+08</td>\n      <td>1.098379e+09</td>\n      <td>9.893278e+08</td>\n      <td>1.045790e+09</td>\n      <td>1.053512e+09</td>\n      <td>1.047808e+09</td>\n    </tr>\n    <tr>\n      <th>83</th>\n      <td>Kiribati</td>\n      <td>1.000000e+06</td>\n      <td>8.0</td>\n      <td>0.00000</td>\n      <td>201</td>\n      <td>Pacific Region</td>\n      <td>1</td>\n      <td>1</td>\n      <td>17</td>\n      <td>0</td>\n      <td>...</td>\n      <td>1.102349e+08</td>\n      <td>1.326717e+08</td>\n      <td>1.410426e+08</td>\n      <td>1.324201e+08</td>\n      <td>1.561209e+08</td>\n      <td>1.817050e+08</td>\n      <td>1.902433e+08</td>\n      <td>1.851139e+08</td>\n      <td>1.797034e+08</td>\n      <td>1.711179e+08</td>\n    </tr>\n    <tr>\n      <th>38</th>\n      <td>Comoros</td>\n      <td>5.000000e+06</td>\n      <td>7.0</td>\n      <td>11.62791</td>\n      <td>202</td>\n      <td>Africa</td>\n      <td>1</td>\n      <td>1</td>\n      <td>0</td>\n      <td>0</td>\n      <td>...</td>\n      <td>6.978110e+08</td>\n      <td>7.946217e+08</td>\n      <td>9.119674e+08</td>\n      <td>9.017114e+08</td>\n      <td>9.079787e+08</td>\n      <td>1.023086e+09</td>\n      <td>1.015843e+09</td>\n      <td>1.116224e+09</td>\n      <td>1.149588e+09</td>\n      <td>9.660295e+08</td>\n    </tr>\n    <tr>\n      <th>117</th>\n      <td>Palau</td>\n      <td>3.000000e+06</td>\n      <td>152.0</td>\n      <td>18.75000</td>\n      <td>203</td>\n      <td>Pacific Region</td>\n      <td>1</td>\n      <td>1</td>\n      <td>0</td>\n      <td>0</td>\n      <td>...</td>\n      <td>1.890289e+08</td>\n      <td>1.946303e+08</td>\n      <td>1.980244e+08</td>\n      <td>1.833693e+08</td>\n      <td>1.834988e+08</td>\n      <td>1.931439e+08</td>\n      <td>2.111033e+08</td>\n      <td>2.233884e+08</td>\n      <td>2.431470e+08</td>\n      <td>2.803761e+08</td>\n    </tr>\n    <tr>\n      <th>131</th>\n      <td>Sao Tome and Principe</td>\n      <td>3.000000e+06</td>\n      <td>14.0</td>\n      <td>10.44776</td>\n      <td>205</td>\n      <td>Africa</td>\n      <td>1</td>\n      <td>1</td>\n      <td>0</td>\n      <td>0</td>\n      <td>...</td>\n      <td>1.427756e+08</td>\n      <td>1.491464e+08</td>\n      <td>1.880212e+08</td>\n      <td>1.878205e+08</td>\n      <td>1.974541e+08</td>\n      <td>2.332140e+08</td>\n      <td>2.525608e+08</td>\n      <td>3.029247e+08</td>\n      <td>3.489417e+08</td>\n      <td>3.182665e+08</td>\n    </tr>\n  </tbody>\n</table>\n<p>159 rows × 26 columns</p>\n</div>"
     },
     "metadata": {},
     "execution_count": 180
    }
   ],
   "source": [
    "mdf.sort_values('Rank')"
   ]
  },
  {
   "cell_type": "code",
   "execution_count": 144,
   "metadata": {},
   "outputs": [],
   "source": [
    "mdf = mdf.loc[mdf['Rank'] <= 15,['Rank', 'Documents', 'Citable documents', 'Citations', 'Self-citations', 'Citations per document', 'H index', 'Energy Supply', 'Energy Supply per Capita', '% Renewable', '2006', '2007', '2008', '2009', '2010', '2011', '2012', '2013', '2014', '2015']]"
   ]
  },
  {
   "cell_type": "code",
   "execution_count": 146,
   "metadata": {},
   "outputs": [
    {
     "output_type": "execute_result",
     "data": {
      "text/plain": [
       "     Rank  Documents  Citable documents  Citations  Self-citations  \\\n",
       "23     15      18024              17745     152380           37112   \n",
       "30      8      29633              29011     491467           88987   \n",
       "55      6      32935              32227     367356           78265   \n",
       "67      4      39893              38848     368175          123446   \n",
       "68     12      19371              19085     242250           77012   \n",
       "119    10      23451              23166     279709           53110   \n",
       "121     7      31880              31664      91906           42529   \n",
       "\n",
       "     Citations per document  H index  Energy Supply  Energy Supply per Capita  \\\n",
       "23                     8.45      121   1.214900e+10                      59.0   \n",
       "30                    16.59      210   1.043100e+10                     296.0   \n",
       "55                    11.15      186   1.326100e+10                     165.0   \n",
       "67                     9.23      171   3.319500e+10                      26.0   \n",
       "68                    12.51      127   9.172000e+09                     119.0   \n",
       "119                   11.93      146   1.100700e+10                     221.0   \n",
       "121                    2.88       84   3.070900e+10                     214.0   \n",
       "\n",
       "     % Renewable          2006          2007          2008          2009  \\\n",
       "23     69.648030  1.107640e+12  1.397084e+12  1.695825e+12  1.667020e+12   \n",
       "30     61.945430  1.315415e+12  1.464977e+12  1.549131e+12  1.371153e+12   \n",
       "55     17.901530  2.992197e+12  3.421229e+12  3.730028e+12  3.397791e+12   \n",
       "67     14.969080  9.402599e+11  1.216735e+12  1.198896e+12  1.341887e+12   \n",
       "68      5.707721  2.662989e+11  3.498816e+11  4.123362e+11  4.163970e+11   \n",
       "119     2.279353  1.053217e+12  1.172614e+12  1.047339e+12  9.439419e+11   \n",
       "121    17.288680  9.899305e+11  1.299706e+12  1.660846e+12  1.222644e+12   \n",
       "\n",
       "             2010          2011          2012          2013          2014  \\\n",
       "23   2.208872e+12  2.616201e+12  2.465189e+12  2.472807e+12  2.455994e+12   \n",
       "30   1.613464e+12  1.788648e+12  1.828689e+12  1.847209e+12  1.803533e+12   \n",
       "55   3.396354e+12  3.744409e+12  3.527345e+12  3.732743e+12  3.883920e+12   \n",
       "67   1.675615e+12  1.823050e+12  1.827638e+12  1.856722e+12  2.039127e+12   \n",
       "68   4.868076e+11  5.807649e+11  5.988685e+11  4.602931e+11  4.326870e+11   \n",
       "119  1.144067e+12  1.253223e+12  1.278428e+12  1.370795e+12  1.484318e+12   \n",
       "121  1.524917e+12  2.045926e+12  2.208296e+12  2.292473e+12  2.059242e+12   \n",
       "\n",
       "             2015  \n",
       "23   1.802214e+12  \n",
       "30   1.556130e+12  \n",
       "55   3.360550e+12  \n",
       "67   2.103588e+12  \n",
       "68   3.849515e+11  \n",
       "119  1.465773e+12  \n",
       "121  1.363481e+12  "
      ],
      "text/html": "<div>\n<style scoped>\n    .dataframe tbody tr th:only-of-type {\n        vertical-align: middle;\n    }\n\n    .dataframe tbody tr th {\n        vertical-align: top;\n    }\n\n    .dataframe thead th {\n        text-align: right;\n    }\n</style>\n<table border=\"1\" class=\"dataframe\">\n  <thead>\n    <tr style=\"text-align: right;\">\n      <th></th>\n      <th>Rank</th>\n      <th>Documents</th>\n      <th>Citable documents</th>\n      <th>Citations</th>\n      <th>Self-citations</th>\n      <th>Citations per document</th>\n      <th>H index</th>\n      <th>Energy Supply</th>\n      <th>Energy Supply per Capita</th>\n      <th>% Renewable</th>\n      <th>2006</th>\n      <th>2007</th>\n      <th>2008</th>\n      <th>2009</th>\n      <th>2010</th>\n      <th>2011</th>\n      <th>2012</th>\n      <th>2013</th>\n      <th>2014</th>\n      <th>2015</th>\n    </tr>\n  </thead>\n  <tbody>\n    <tr>\n      <th>23</th>\n      <td>15</td>\n      <td>18024</td>\n      <td>17745</td>\n      <td>152380</td>\n      <td>37112</td>\n      <td>8.45</td>\n      <td>121</td>\n      <td>1.214900e+10</td>\n      <td>59.0</td>\n      <td>69.648030</td>\n      <td>1.107640e+12</td>\n      <td>1.397084e+12</td>\n      <td>1.695825e+12</td>\n      <td>1.667020e+12</td>\n      <td>2.208872e+12</td>\n      <td>2.616201e+12</td>\n      <td>2.465189e+12</td>\n      <td>2.472807e+12</td>\n      <td>2.455994e+12</td>\n      <td>1.802214e+12</td>\n    </tr>\n    <tr>\n      <th>30</th>\n      <td>8</td>\n      <td>29633</td>\n      <td>29011</td>\n      <td>491467</td>\n      <td>88987</td>\n      <td>16.59</td>\n      <td>210</td>\n      <td>1.043100e+10</td>\n      <td>296.0</td>\n      <td>61.945430</td>\n      <td>1.315415e+12</td>\n      <td>1.464977e+12</td>\n      <td>1.549131e+12</td>\n      <td>1.371153e+12</td>\n      <td>1.613464e+12</td>\n      <td>1.788648e+12</td>\n      <td>1.828689e+12</td>\n      <td>1.847209e+12</td>\n      <td>1.803533e+12</td>\n      <td>1.556130e+12</td>\n    </tr>\n    <tr>\n      <th>55</th>\n      <td>6</td>\n      <td>32935</td>\n      <td>32227</td>\n      <td>367356</td>\n      <td>78265</td>\n      <td>11.15</td>\n      <td>186</td>\n      <td>1.326100e+10</td>\n      <td>165.0</td>\n      <td>17.901530</td>\n      <td>2.992197e+12</td>\n      <td>3.421229e+12</td>\n      <td>3.730028e+12</td>\n      <td>3.397791e+12</td>\n      <td>3.396354e+12</td>\n      <td>3.744409e+12</td>\n      <td>3.527345e+12</td>\n      <td>3.732743e+12</td>\n      <td>3.883920e+12</td>\n      <td>3.360550e+12</td>\n    </tr>\n    <tr>\n      <th>67</th>\n      <td>4</td>\n      <td>39893</td>\n      <td>38848</td>\n      <td>368175</td>\n      <td>123446</td>\n      <td>9.23</td>\n      <td>171</td>\n      <td>3.319500e+10</td>\n      <td>26.0</td>\n      <td>14.969080</td>\n      <td>9.402599e+11</td>\n      <td>1.216735e+12</td>\n      <td>1.198896e+12</td>\n      <td>1.341887e+12</td>\n      <td>1.675615e+12</td>\n      <td>1.823050e+12</td>\n      <td>1.827638e+12</td>\n      <td>1.856722e+12</td>\n      <td>2.039127e+12</td>\n      <td>2.103588e+12</td>\n    </tr>\n    <tr>\n      <th>68</th>\n      <td>12</td>\n      <td>19371</td>\n      <td>19085</td>\n      <td>242250</td>\n      <td>77012</td>\n      <td>12.51</td>\n      <td>127</td>\n      <td>9.172000e+09</td>\n      <td>119.0</td>\n      <td>5.707721</td>\n      <td>2.662989e+11</td>\n      <td>3.498816e+11</td>\n      <td>4.123362e+11</td>\n      <td>4.163970e+11</td>\n      <td>4.868076e+11</td>\n      <td>5.807649e+11</td>\n      <td>5.988685e+11</td>\n      <td>4.602931e+11</td>\n      <td>4.326870e+11</td>\n      <td>3.849515e+11</td>\n    </tr>\n    <tr>\n      <th>119</th>\n      <td>10</td>\n      <td>23451</td>\n      <td>23166</td>\n      <td>279709</td>\n      <td>53110</td>\n      <td>11.93</td>\n      <td>146</td>\n      <td>1.100700e+10</td>\n      <td>221.0</td>\n      <td>2.279353</td>\n      <td>1.053217e+12</td>\n      <td>1.172614e+12</td>\n      <td>1.047339e+12</td>\n      <td>9.439419e+11</td>\n      <td>1.144067e+12</td>\n      <td>1.253223e+12</td>\n      <td>1.278428e+12</td>\n      <td>1.370795e+12</td>\n      <td>1.484318e+12</td>\n      <td>1.465773e+12</td>\n    </tr>\n    <tr>\n      <th>121</th>\n      <td>7</td>\n      <td>31880</td>\n      <td>31664</td>\n      <td>91906</td>\n      <td>42529</td>\n      <td>2.88</td>\n      <td>84</td>\n      <td>3.070900e+10</td>\n      <td>214.0</td>\n      <td>17.288680</td>\n      <td>9.899305e+11</td>\n      <td>1.299706e+12</td>\n      <td>1.660846e+12</td>\n      <td>1.222644e+12</td>\n      <td>1.524917e+12</td>\n      <td>2.045926e+12</td>\n      <td>2.208296e+12</td>\n      <td>2.292473e+12</td>\n      <td>2.059242e+12</td>\n      <td>1.363481e+12</td>\n    </tr>\n  </tbody>\n</table>\n</div>"
     },
     "metadata": {},
     "execution_count": 146
    }
   ],
   "source": [
    "mdf"
   ]
  },
  {
   "cell_type": "code",
   "execution_count": null,
   "metadata": {},
   "outputs": [],
   "source": []
  }
 ]
}