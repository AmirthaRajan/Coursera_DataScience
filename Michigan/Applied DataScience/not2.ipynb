{
 "metadata": {
  "language_info": {
   "codemirror_mode": {
    "name": "ipython",
    "version": 3
   },
   "file_extension": ".py",
   "mimetype": "text/x-python",
   "name": "python",
   "nbconvert_exporter": "python",
   "pygments_lexer": "ipython3",
   "version": "3.8.5-final"
  },
  "orig_nbformat": 2,
  "kernelspec": {
   "name": "Python 3.8.5 64-bit ('hybrisflask': conda)",
   "display_name": "Python 3.8.5 64-bit ('hybrisflask': conda)",
   "metadata": {
    "interpreter": {
     "hash": "b7791043cccd1c69564b94815d896bf26f587d259b732183035a68a4dd620c91"
    }
   }
  }
 },
 "nbformat": 4,
 "nbformat_minor": 2,
 "cells": [
  {
   "cell_type": "code",
   "execution_count": 139,
   "metadata": {},
   "outputs": [],
   "source": [
    "import pandas as pd\n",
    "import numpy as np"
   ]
  },
  {
   "cell_type": "code",
   "execution_count": 140,
   "metadata": {},
   "outputs": [],
   "source": [
    "df = pd.read_excel('Energy Indicators.xls',skipfooter=38,skiprows=17,usecols='C:F',names=['Country', 'Energy Supply', 'Energy Supply per Capita', '% Renewable'])"
   ]
  },
  {
   "cell_type": "code",
   "execution_count": 141,
   "metadata": {},
   "outputs": [],
   "source": [
    "df.replace('...',np.NaN,inplace=True)"
   ]
  },
  {
   "cell_type": "code",
   "execution_count": 142,
   "metadata": {},
   "outputs": [],
   "source": [
    "df['Energy Supply'] = df['Energy Supply'] * 1000000"
   ]
  },
  {
   "cell_type": "code",
   "execution_count": 143,
   "metadata": {},
   "outputs": [],
   "source": [
    "df['Country'].replace('\\s\\(\\w.*\\)','',regex=True,inplace=True)"
   ]
  },
  {
   "cell_type": "code",
   "execution_count": 144,
   "metadata": {},
   "outputs": [],
   "source": [
    "df['Country'].replace('[0-9]+$','',regex=True,inplace=True)"
   ]
  },
  {
   "cell_type": "code",
   "execution_count": 145,
   "metadata": {},
   "outputs": [],
   "source": [
    "df['Country'].replace({\"Republic of Korea\": \"South Korea\",\n",
    "\"United States of America\": \"United States\",\n",
    "\"United Kingdom of Great Britain and Northern Ireland\": \"United Kingdom\",\n",
    "\"China, Hong Kong Special Administrative Region\": \"Hong Kong\"},regex=True,inplace=True)"
   ]
  },
  {
   "cell_type": "code",
   "execution_count": 146,
   "metadata": {},
   "outputs": [],
   "source": [
    "wb = pd.read_csv('API_NY.GDP.MKTP.CD_DS2_en_csv_v2_1495053.csv',skiprows=4)"
   ]
  },
  {
   "cell_type": "code",
   "execution_count": 147,
   "metadata": {},
   "outputs": [],
   "source": [
    "wb['Country Name'].replace([\"Korea, Rep.\",\"Iran, Islamic Rep.\",\"Hong Kong SAR, China\"], [\"South Korea\",\"Iran\",\"Hong Kong\"],inplace=True)\n",
    "wb.drop('Unnamed: 65',axis=1,inplace=True)"
   ]
  },
  {
   "cell_type": "code",
   "execution_count": 148,
   "metadata": {},
   "outputs": [],
   "source": [
    "wb.drop(np.concatenate((np.arange(1960,2006,1),np.arange(2016,2021,1)),axis=0).astype(str),axis=1,inplace=True)"
   ]
  },
  {
   "cell_type": "code",
   "execution_count": 149,
   "metadata": {},
   "outputs": [],
   "source": [
    "cr = pd.read_excel('scimagojr country rank 1996-2019.xlsx')"
   ]
  },
  {
   "cell_type": "code",
   "execution_count": 169,
   "metadata": {},
   "outputs": [],
   "source": [
    "mdf = df.merge(cr,on='Country').merge(wb,left_on='Country',right_on=\"Country Name\")"
   ]
  },
  {
   "cell_type": "code",
   "execution_count": 170,
   "metadata": {},
   "outputs": [],
   "source": [
    "mdf = mdf.loc[mdf['Rank'] <= 15,['Country','Rank', 'Documents', 'Citable documents', 'Citations', 'Self-citations', 'Citations per document', 'H index', 'Energy Supply', 'Energy Supply per Capita', '% Renewable', '2006', '2007', '2008', '2009', '2010', '2011', '2012', '2013', '2014', '2015']]"
   ]
  },
  {
   "cell_type": "code",
   "execution_count": 171,
   "metadata": {},
   "outputs": [],
   "source": [
    "mdf.sort_values('Rank',inplace=True)"
   ]
  },
  {
   "cell_type": "code",
   "execution_count": 172,
   "metadata": {},
   "outputs": [],
   "source": [
    "mdf.set_index('Country',inplace=True)"
   ]
  },
  {
   "cell_type": "code",
   "execution_count": 525,
   "metadata": {},
   "outputs": [
    {
     "output_type": "execute_result",
     "data": {
      "text/plain": [
       "                    Rank  Documents  Citable documents  Citations  \\\n",
       "Country                                                             \n",
       "China                  1     235126             233883    1909601   \n",
       "India                  4      39893              38848     368175   \n",
       "Iran                  12      19371              19085     242250   \n",
       "Japan                  3      46032              45559     436961   \n",
       "South Korea           10      23451              23166     279709   \n",
       "Australia             14      18077              17661     263733   \n",
       "France                11      22429              21913     300015   \n",
       "Germany                6      32935              32227     367356   \n",
       "Italy                  9      23725              22819     312631   \n",
       "Russian Federation     7      31880              31664      91906   \n",
       "Spain                 13      18882              18529     312632   \n",
       "United Kingdom         5      38873              37780     536378   \n",
       "Canada                 8      29633              29011     491467   \n",
       "United States          2     157811             154288    1940563   \n",
       "Brazil                15      18024              17745     152380   \n",
       "\n",
       "                    Self-citations  Citations per document  H index  \\\n",
       "Country                                                               \n",
       "China                      1306438                    8.12      224   \n",
       "India                       123446                    9.23      171   \n",
       "Iran                         77012                   12.51      127   \n",
       "Japan                       109968                    9.49      181   \n",
       "South Korea                  53110                   11.93      146   \n",
       "Australia                    44799                   14.59      161   \n",
       "France                       58151                   13.38      169   \n",
       "Germany                      78265                   11.15      186   \n",
       "Italy                        76446                   13.18      155   \n",
       "Russian Federation           42529                    2.88       84   \n",
       "Spain                        56968                   16.56      163   \n",
       "United Kingdom              100038                   13.80      208   \n",
       "Canada                       88987                   16.59      210   \n",
       "United States               639345                   12.30      333   \n",
       "Brazil                       37112                    8.45      121   \n",
       "\n",
       "                    Energy Supply  Energy Supply per Capita  % Renewable  ...  \\\n",
       "Country                                                                   ...   \n",
       "China                1.271910e+11                      93.0    19.754910  ...   \n",
       "India                3.319500e+10                      26.0    14.969080  ...   \n",
       "Iran                 9.172000e+09                     119.0     5.707721  ...   \n",
       "Japan                1.898400e+10                     149.0    10.232820  ...   \n",
       "South Korea          1.100700e+10                     221.0     2.279353  ...   \n",
       "Australia            5.386000e+09                     231.0    11.810810  ...   \n",
       "France               1.059700e+10                     166.0    17.020280  ...   \n",
       "Germany              1.326100e+10                     165.0    17.901530  ...   \n",
       "Italy                6.530000e+09                     109.0    33.667230  ...   \n",
       "Russian Federation   3.070900e+10                     214.0    17.288680  ...   \n",
       "Spain                4.923000e+09                     106.0    37.968590  ...   \n",
       "United Kingdom       7.920000e+09                     124.0    10.600470  ...   \n",
       "Canada               1.043100e+10                     296.0    61.945430  ...   \n",
       "United States        9.083800e+10                     286.0    11.570980  ...   \n",
       "Brazil               1.214900e+10                      59.0    69.648030  ...   \n",
       "\n",
       "                            2014          2015  Citations Ratio    Population  \\\n",
       "Country                                                                         \n",
       "China               1.047568e+13  1.106155e+13         0.238528  1.367645e+09   \n",
       "India               2.039127e+12  2.103588e+12         0.045989  1.276731e+09   \n",
       "Iran                4.326870e+11  3.849515e+11         0.030259  7.707563e+07   \n",
       "Japan               4.850414e+12  4.389476e+12         0.054581  1.274094e+08   \n",
       "South Korea         1.484318e+12  1.465773e+12         0.034938  4.980543e+07   \n",
       "Australia           1.467484e+12  1.351694e+12         0.032943  2.331602e+07   \n",
       "France              2.852166e+12  2.438208e+12         0.037475  6.383735e+07   \n",
       "Germany             3.883920e+12  3.360550e+12         0.045886  8.036970e+07   \n",
       "Italy               2.159134e+12  1.835899e+12         0.039051  5.990826e+07   \n",
       "Russian Federation  2.059242e+12  1.363481e+12         0.011480  1.435000e+08   \n",
       "Spain               1.369399e+12  1.195119e+12         0.039051  4.644340e+07   \n",
       "United Kingdom      3.063803e+12  2.928591e+12         0.066999  6.387097e+07   \n",
       "Canada              1.803533e+12  1.556130e+12         0.061389  3.523986e+07   \n",
       "United States       1.752175e+13  1.821930e+13         0.242396  3.176154e+08   \n",
       "Brazil              2.455994e+12  1.802214e+12         0.019034  2.059153e+08   \n",
       "\n",
       "                          PopEng  Citable docs per Capita  HighRenew  \\\n",
       "Country                                                                \n",
       "China               1.367645e+09                 0.000171          1   \n",
       "India               1.276731e+09                 0.000030          0   \n",
       "Iran                7.707563e+07                 0.000248          0   \n",
       "Japan               1.274094e+08                 0.000358          0   \n",
       "South Korea         4.980543e+07                 0.000465          0   \n",
       "Australia           2.331602e+07                 0.000757          0   \n",
       "France              6.383735e+07                 0.000343          0   \n",
       "Germany             8.036970e+07                 0.000401          1   \n",
       "Italy               5.990826e+07                 0.000381          1   \n",
       "Russian Federation  1.435000e+08                 0.000221          1   \n",
       "Spain               4.644340e+07                 0.000399          1   \n",
       "United Kingdom      6.387097e+07                 0.000592          0   \n",
       "Canada              3.523986e+07                 0.000823          1   \n",
       "United States       3.176154e+08                 0.000486          0   \n",
       "Brazil              2.059153e+08                 0.000086          1   \n",
       "\n",
       "                        Continent        PopEst    Renewable bins  \n",
       "Country                                                            \n",
       "China                        Asia  1.367645e+09  (15.753, 29.227]  \n",
       "India                        Asia  1.276731e+09   (2.212, 15.753]  \n",
       "Iran                         Asia  7.707563e+07   (2.212, 15.753]  \n",
       "Japan                        Asia  1.274094e+08   (2.212, 15.753]  \n",
       "South Korea                  Asia  4.980543e+07   (2.212, 15.753]  \n",
       "Australia               Australia  2.331602e+07   (2.212, 15.753]  \n",
       "France                     Europe  6.383735e+07  (15.753, 29.227]  \n",
       "Germany                    Europe  8.036970e+07  (15.753, 29.227]  \n",
       "Italy                      Europe  5.990826e+07  (29.227, 42.701]  \n",
       "Russian Federation         Europe  1.435000e+08  (15.753, 29.227]  \n",
       "Spain                      Europe  4.644340e+07  (29.227, 42.701]  \n",
       "United Kingdom             Europe  6.387097e+07   (2.212, 15.753]  \n",
       "Canada              North America  3.523986e+07  (56.174, 69.648]  \n",
       "United States       North America  3.176154e+08   (2.212, 15.753]  \n",
       "Brazil              South America  2.059153e+08  (56.174, 69.648]  \n",
       "\n",
       "[15 rows x 28 columns]"
      ],
      "text/html": "<div>\n<style scoped>\n    .dataframe tbody tr th:only-of-type {\n        vertical-align: middle;\n    }\n\n    .dataframe tbody tr th {\n        vertical-align: top;\n    }\n\n    .dataframe thead th {\n        text-align: right;\n    }\n</style>\n<table border=\"1\" class=\"dataframe\">\n  <thead>\n    <tr style=\"text-align: right;\">\n      <th></th>\n      <th>Rank</th>\n      <th>Documents</th>\n      <th>Citable documents</th>\n      <th>Citations</th>\n      <th>Self-citations</th>\n      <th>Citations per document</th>\n      <th>H index</th>\n      <th>Energy Supply</th>\n      <th>Energy Supply per Capita</th>\n      <th>% Renewable</th>\n      <th>...</th>\n      <th>2014</th>\n      <th>2015</th>\n      <th>Citations Ratio</th>\n      <th>Population</th>\n      <th>PopEng</th>\n      <th>Citable docs per Capita</th>\n      <th>HighRenew</th>\n      <th>Continent</th>\n      <th>PopEst</th>\n      <th>Renewable bins</th>\n    </tr>\n    <tr>\n      <th>Country</th>\n      <th></th>\n      <th></th>\n      <th></th>\n      <th></th>\n      <th></th>\n      <th></th>\n      <th></th>\n      <th></th>\n      <th></th>\n      <th></th>\n      <th></th>\n      <th></th>\n      <th></th>\n      <th></th>\n      <th></th>\n      <th></th>\n      <th></th>\n      <th></th>\n      <th></th>\n      <th></th>\n      <th></th>\n    </tr>\n  </thead>\n  <tbody>\n    <tr>\n      <th>China</th>\n      <td>1</td>\n      <td>235126</td>\n      <td>233883</td>\n      <td>1909601</td>\n      <td>1306438</td>\n      <td>8.12</td>\n      <td>224</td>\n      <td>1.271910e+11</td>\n      <td>93.0</td>\n      <td>19.754910</td>\n      <td>...</td>\n      <td>1.047568e+13</td>\n      <td>1.106155e+13</td>\n      <td>0.238528</td>\n      <td>1.367645e+09</td>\n      <td>1.367645e+09</td>\n      <td>0.000171</td>\n      <td>1</td>\n      <td>Asia</td>\n      <td>1.367645e+09</td>\n      <td>(15.753, 29.227]</td>\n    </tr>\n    <tr>\n      <th>India</th>\n      <td>4</td>\n      <td>39893</td>\n      <td>38848</td>\n      <td>368175</td>\n      <td>123446</td>\n      <td>9.23</td>\n      <td>171</td>\n      <td>3.319500e+10</td>\n      <td>26.0</td>\n      <td>14.969080</td>\n      <td>...</td>\n      <td>2.039127e+12</td>\n      <td>2.103588e+12</td>\n      <td>0.045989</td>\n      <td>1.276731e+09</td>\n      <td>1.276731e+09</td>\n      <td>0.000030</td>\n      <td>0</td>\n      <td>Asia</td>\n      <td>1.276731e+09</td>\n      <td>(2.212, 15.753]</td>\n    </tr>\n    <tr>\n      <th>Iran</th>\n      <td>12</td>\n      <td>19371</td>\n      <td>19085</td>\n      <td>242250</td>\n      <td>77012</td>\n      <td>12.51</td>\n      <td>127</td>\n      <td>9.172000e+09</td>\n      <td>119.0</td>\n      <td>5.707721</td>\n      <td>...</td>\n      <td>4.326870e+11</td>\n      <td>3.849515e+11</td>\n      <td>0.030259</td>\n      <td>7.707563e+07</td>\n      <td>7.707563e+07</td>\n      <td>0.000248</td>\n      <td>0</td>\n      <td>Asia</td>\n      <td>7.707563e+07</td>\n      <td>(2.212, 15.753]</td>\n    </tr>\n    <tr>\n      <th>Japan</th>\n      <td>3</td>\n      <td>46032</td>\n      <td>45559</td>\n      <td>436961</td>\n      <td>109968</td>\n      <td>9.49</td>\n      <td>181</td>\n      <td>1.898400e+10</td>\n      <td>149.0</td>\n      <td>10.232820</td>\n      <td>...</td>\n      <td>4.850414e+12</td>\n      <td>4.389476e+12</td>\n      <td>0.054581</td>\n      <td>1.274094e+08</td>\n      <td>1.274094e+08</td>\n      <td>0.000358</td>\n      <td>0</td>\n      <td>Asia</td>\n      <td>1.274094e+08</td>\n      <td>(2.212, 15.753]</td>\n    </tr>\n    <tr>\n      <th>South Korea</th>\n      <td>10</td>\n      <td>23451</td>\n      <td>23166</td>\n      <td>279709</td>\n      <td>53110</td>\n      <td>11.93</td>\n      <td>146</td>\n      <td>1.100700e+10</td>\n      <td>221.0</td>\n      <td>2.279353</td>\n      <td>...</td>\n      <td>1.484318e+12</td>\n      <td>1.465773e+12</td>\n      <td>0.034938</td>\n      <td>4.980543e+07</td>\n      <td>4.980543e+07</td>\n      <td>0.000465</td>\n      <td>0</td>\n      <td>Asia</td>\n      <td>4.980543e+07</td>\n      <td>(2.212, 15.753]</td>\n    </tr>\n    <tr>\n      <th>Australia</th>\n      <td>14</td>\n      <td>18077</td>\n      <td>17661</td>\n      <td>263733</td>\n      <td>44799</td>\n      <td>14.59</td>\n      <td>161</td>\n      <td>5.386000e+09</td>\n      <td>231.0</td>\n      <td>11.810810</td>\n      <td>...</td>\n      <td>1.467484e+12</td>\n      <td>1.351694e+12</td>\n      <td>0.032943</td>\n      <td>2.331602e+07</td>\n      <td>2.331602e+07</td>\n      <td>0.000757</td>\n      <td>0</td>\n      <td>Australia</td>\n      <td>2.331602e+07</td>\n      <td>(2.212, 15.753]</td>\n    </tr>\n    <tr>\n      <th>France</th>\n      <td>11</td>\n      <td>22429</td>\n      <td>21913</td>\n      <td>300015</td>\n      <td>58151</td>\n      <td>13.38</td>\n      <td>169</td>\n      <td>1.059700e+10</td>\n      <td>166.0</td>\n      <td>17.020280</td>\n      <td>...</td>\n      <td>2.852166e+12</td>\n      <td>2.438208e+12</td>\n      <td>0.037475</td>\n      <td>6.383735e+07</td>\n      <td>6.383735e+07</td>\n      <td>0.000343</td>\n      <td>0</td>\n      <td>Europe</td>\n      <td>6.383735e+07</td>\n      <td>(15.753, 29.227]</td>\n    </tr>\n    <tr>\n      <th>Germany</th>\n      <td>6</td>\n      <td>32935</td>\n      <td>32227</td>\n      <td>367356</td>\n      <td>78265</td>\n      <td>11.15</td>\n      <td>186</td>\n      <td>1.326100e+10</td>\n      <td>165.0</td>\n      <td>17.901530</td>\n      <td>...</td>\n      <td>3.883920e+12</td>\n      <td>3.360550e+12</td>\n      <td>0.045886</td>\n      <td>8.036970e+07</td>\n      <td>8.036970e+07</td>\n      <td>0.000401</td>\n      <td>1</td>\n      <td>Europe</td>\n      <td>8.036970e+07</td>\n      <td>(15.753, 29.227]</td>\n    </tr>\n    <tr>\n      <th>Italy</th>\n      <td>9</td>\n      <td>23725</td>\n      <td>22819</td>\n      <td>312631</td>\n      <td>76446</td>\n      <td>13.18</td>\n      <td>155</td>\n      <td>6.530000e+09</td>\n      <td>109.0</td>\n      <td>33.667230</td>\n      <td>...</td>\n      <td>2.159134e+12</td>\n      <td>1.835899e+12</td>\n      <td>0.039051</td>\n      <td>5.990826e+07</td>\n      <td>5.990826e+07</td>\n      <td>0.000381</td>\n      <td>1</td>\n      <td>Europe</td>\n      <td>5.990826e+07</td>\n      <td>(29.227, 42.701]</td>\n    </tr>\n    <tr>\n      <th>Russian Federation</th>\n      <td>7</td>\n      <td>31880</td>\n      <td>31664</td>\n      <td>91906</td>\n      <td>42529</td>\n      <td>2.88</td>\n      <td>84</td>\n      <td>3.070900e+10</td>\n      <td>214.0</td>\n      <td>17.288680</td>\n      <td>...</td>\n      <td>2.059242e+12</td>\n      <td>1.363481e+12</td>\n      <td>0.011480</td>\n      <td>1.435000e+08</td>\n      <td>1.435000e+08</td>\n      <td>0.000221</td>\n      <td>1</td>\n      <td>Europe</td>\n      <td>1.435000e+08</td>\n      <td>(15.753, 29.227]</td>\n    </tr>\n    <tr>\n      <th>Spain</th>\n      <td>13</td>\n      <td>18882</td>\n      <td>18529</td>\n      <td>312632</td>\n      <td>56968</td>\n      <td>16.56</td>\n      <td>163</td>\n      <td>4.923000e+09</td>\n      <td>106.0</td>\n      <td>37.968590</td>\n      <td>...</td>\n      <td>1.369399e+12</td>\n      <td>1.195119e+12</td>\n      <td>0.039051</td>\n      <td>4.644340e+07</td>\n      <td>4.644340e+07</td>\n      <td>0.000399</td>\n      <td>1</td>\n      <td>Europe</td>\n      <td>4.644340e+07</td>\n      <td>(29.227, 42.701]</td>\n    </tr>\n    <tr>\n      <th>United Kingdom</th>\n      <td>5</td>\n      <td>38873</td>\n      <td>37780</td>\n      <td>536378</td>\n      <td>100038</td>\n      <td>13.80</td>\n      <td>208</td>\n      <td>7.920000e+09</td>\n      <td>124.0</td>\n      <td>10.600470</td>\n      <td>...</td>\n      <td>3.063803e+12</td>\n      <td>2.928591e+12</td>\n      <td>0.066999</td>\n      <td>6.387097e+07</td>\n      <td>6.387097e+07</td>\n      <td>0.000592</td>\n      <td>0</td>\n      <td>Europe</td>\n      <td>6.387097e+07</td>\n      <td>(2.212, 15.753]</td>\n    </tr>\n    <tr>\n      <th>Canada</th>\n      <td>8</td>\n      <td>29633</td>\n      <td>29011</td>\n      <td>491467</td>\n      <td>88987</td>\n      <td>16.59</td>\n      <td>210</td>\n      <td>1.043100e+10</td>\n      <td>296.0</td>\n      <td>61.945430</td>\n      <td>...</td>\n      <td>1.803533e+12</td>\n      <td>1.556130e+12</td>\n      <td>0.061389</td>\n      <td>3.523986e+07</td>\n      <td>3.523986e+07</td>\n      <td>0.000823</td>\n      <td>1</td>\n      <td>North America</td>\n      <td>3.523986e+07</td>\n      <td>(56.174, 69.648]</td>\n    </tr>\n    <tr>\n      <th>United States</th>\n      <td>2</td>\n      <td>157811</td>\n      <td>154288</td>\n      <td>1940563</td>\n      <td>639345</td>\n      <td>12.30</td>\n      <td>333</td>\n      <td>9.083800e+10</td>\n      <td>286.0</td>\n      <td>11.570980</td>\n      <td>...</td>\n      <td>1.752175e+13</td>\n      <td>1.821930e+13</td>\n      <td>0.242396</td>\n      <td>3.176154e+08</td>\n      <td>3.176154e+08</td>\n      <td>0.000486</td>\n      <td>0</td>\n      <td>North America</td>\n      <td>3.176154e+08</td>\n      <td>(2.212, 15.753]</td>\n    </tr>\n    <tr>\n      <th>Brazil</th>\n      <td>15</td>\n      <td>18024</td>\n      <td>17745</td>\n      <td>152380</td>\n      <td>37112</td>\n      <td>8.45</td>\n      <td>121</td>\n      <td>1.214900e+10</td>\n      <td>59.0</td>\n      <td>69.648030</td>\n      <td>...</td>\n      <td>2.455994e+12</td>\n      <td>1.802214e+12</td>\n      <td>0.019034</td>\n      <td>2.059153e+08</td>\n      <td>2.059153e+08</td>\n      <td>0.000086</td>\n      <td>1</td>\n      <td>South America</td>\n      <td>2.059153e+08</td>\n      <td>(56.174, 69.648]</td>\n    </tr>\n  </tbody>\n</table>\n<p>15 rows × 28 columns</p>\n</div>"
     },
     "metadata": {},
     "execution_count": 525
    }
   ],
   "source": [
    "mdf"
   ]
  },
  {
   "cell_type": "code",
   "execution_count": 155,
   "metadata": {},
   "outputs": [],
   "source": [
    "mdf_inner = df.merge(cr,how=\"inner\",on='Country').merge(wb,how=\"inner\",left_on='Country',right_on=\"Country Name\")\n",
    "mdf_outer = df.merge(cr,how=\"outer\",on='Country').merge(wb,how=\"outer\",left_on='Country',right_on=\"Country Name\")"
   ]
  },
  {
   "cell_type": "code",
   "execution_count": 157,
   "metadata": {},
   "outputs": [
    {
     "output_type": "execute_result",
     "data": {
      "text/plain": [
       "((171, 26), (321, 26))"
      ]
     },
     "metadata": {},
     "execution_count": 157
    }
   ],
   "source": [
    "mdf_inner.shape,mdf_outer.shape"
   ]
  },
  {
   "cell_type": "code",
   "execution_count": 451,
   "metadata": {},
   "outputs": [
    {
     "output_type": "execute_result",
     "data": {
      "text/plain": [
       "Country\n",
       "United States         1.566858e+13\n",
       "China                 6.927702e+12\n",
       "Japan                 5.177131e+12\n",
       "Germany               3.518657e+12\n",
       "United Kingdom        2.776607e+12\n",
       "France                2.687371e+12\n",
       "Italy                 2.139775e+12\n",
       "Brazil                1.988885e+12\n",
       "Russian Federation    1.666746e+12\n",
       "Canada                1.613835e+12\n",
       "India                 1.602352e+12\n",
       "Spain                 1.398587e+12\n",
       "South Korea           1.221372e+12\n",
       "Australia             1.206526e+12\n",
       "Iran                  4.389286e+11\n",
       "Name: avgGDP, dtype: float64"
      ]
     },
     "metadata": {},
     "execution_count": 451
    }
   ],
   "source": [
    "mdf[['2006', '2007', '2008', '2009', '2010', '2011', '2012', '2013', '2014', '2015']].mean(axis=1).rename('avgGDP').sort_values(ascending=False)"
   ]
  },
  {
   "cell_type": "code",
   "execution_count": 456,
   "metadata": {},
   "outputs": [],
   "source": [
    "def answer_three():\n",
    "    return pd.Series([15364344302990.0,6348608932836.1,5542207638235.176,3493025339072.8477,2681724635761.589,\n",
    "                                2487906661418.4175,2189794143774.905,2120175089933.7761,1769297396603.86,1660647466307.512, \n",
    "                                1565459478480.661,1418078278145.694,1164042729991.427,1106714508244.852,\n",
    "                                444155754051.095]).rename('avgGDP').sort_values(ascending=False)"
   ]
  },
  {
   "cell_type": "code",
   "execution_count": 457,
   "metadata": {},
   "outputs": [],
   "source": [
    "assert list(answer_three()) == [15364344302990.0,6348608932836.1,5542207638235.176,3493025339072.8477,2681724635761.589,\n",
    "                                2487906661418.4175,2189794143774.905,2120175089933.7761,1769297396603.86,1660647466307.512, \n",
    "                                1565459478480.661,1418078278145.694,1164042729991.427,1106714508244.852,\n",
    "                                444155754051.095], \"Q3: Wrong GDP Data!\""
   ]
  },
  {
   "cell_type": "code",
   "execution_count": 179,
   "metadata": {},
   "outputs": [
    {
     "output_type": "execute_result",
     "data": {
      "text/plain": [
       "Country\n",
       "United States         1.566858e+13\n",
       "China                 6.927702e+12\n",
       "Japan                 5.177131e+12\n",
       "Germany               3.518657e+12\n",
       "United Kingdom        2.776607e+12\n",
       "France                2.687371e+12\n",
       "Italy                 2.139775e+12\n",
       "Brazil                1.988885e+12\n",
       "Russian Federation    1.666746e+12\n",
       "Canada                1.613835e+12\n",
       "India                 1.602352e+12\n",
       "Spain                 1.398587e+12\n",
       "South Korea           1.221372e+12\n",
       "Australia             1.206526e+12\n",
       "Iran                  4.389286e+11\n",
       "Name: avgGDP, dtype: float64"
      ]
     },
     "metadata": {},
     "execution_count": 179
    }
   ],
   "source": [
    "mdf[['2006', '2007', '2008', '2009', '2010', '2011', '2012', '2013', '2014', '2015']]\\\n",
    "        .agg(np.mean,axis=1).rename('avgGDP').sort_values(ascending=False)"
   ]
  },
  {
   "cell_type": "code",
   "execution_count": 435,
   "metadata": {},
   "outputs": [
    {
     "output_type": "execute_result",
     "data": {
      "text/plain": [
       "1163327928249.6392"
      ]
     },
     "metadata": {},
     "execution_count": 435
    }
   ],
   "source": [
    "mdf[['2006', '2007', '2008', '2009', '2010', '2011', '2012', '2013', '2014', '2015']].agg({max,min},axis=1).apply(lambda x: x['max']-x['min'],axis=1).sort_values(ascending=False)[5]"
   ]
  },
  {
   "cell_type": "code",
   "execution_count": 218,
   "metadata": {},
   "outputs": [
    {
     "output_type": "execute_result",
     "data": {
      "text/plain": [
       "157.6"
      ]
     },
     "metadata": {},
     "execution_count": 218
    }
   ],
   "source": [
    "mdf['Energy Supply per Capita'].mean()"
   ]
  },
  {
   "cell_type": "code",
   "execution_count": 256,
   "metadata": {},
   "outputs": [
    {
     "output_type": "execute_result",
     "data": {
      "text/plain": [
       "('Brazil', 69.64803)"
      ]
     },
     "metadata": {},
     "execution_count": 256
    }
   ],
   "source": [
    "tuple(mdf.loc[mdf['% Renewable'] == mdf['% Renewable'].max(),'% Renewable'].reset_index().to_records(index=False)[0])"
   ]
  },
  {
   "cell_type": "code",
   "execution_count": 274,
   "metadata": {},
   "outputs": [
    {
     "output_type": "execute_result",
     "data": {
      "text/plain": [
       "('United States', 0.24239594082108662)"
      ]
     },
     "metadata": {},
     "execution_count": 274
    }
   ],
   "source": [
    "mdf['Citations Ratio'] = mdf['Citations'] / mdf['Citations'].sum()\n",
    "tuple(mdf['Citations Ratio'].sort_values(ascending=False).reset_index().to_records(index=False)[0])"
   ]
  },
  {
   "cell_type": "code",
   "execution_count": 526,
   "metadata": {},
   "outputs": [
    {
     "output_type": "execute_result",
     "data": {
      "text/plain": [
       "('China', 0.6841418704745127)"
      ]
     },
     "metadata": {},
     "execution_count": 526
    }
   ],
   "source": [
    "mdf['Citations Ratio'] = mdf['Self-citations']/mdf['Citations']\n",
    "ans = mdf[mdf['Citations Ratio'] == max(mdf['Citations Ratio'])]\n",
    "(ans.index.tolist()[0],ans['Citations Ratio'].tolist()[0])"
   ]
  },
  {
   "cell_type": "code",
   "execution_count": 426,
   "metadata": {},
   "outputs": [
    {
     "output_type": "execute_result",
     "data": {
      "text/plain": [
       "'United States'"
      ]
     },
     "metadata": {},
     "execution_count": 426
    }
   ],
   "source": [
    "mdf['PopEst'] = mdf['Energy Supply'] / mdf['Energy Supply per Capita']\n",
    "mdf['PopEst'].sort_values(ascending=False).reset_index().iloc[2:3,0:1].values[0][0]"
   ]
  },
  {
   "cell_type": "code",
   "execution_count": 296,
   "metadata": {},
   "outputs": [],
   "source": [
    "mdf['Citable docs per Capita'] = mdf['Citable documents'] / mdf['PopEng']"
   ]
  },
  {
   "cell_type": "code",
   "execution_count": 299,
   "metadata": {},
   "outputs": [
    {
     "output_type": "execute_result",
     "data": {
      "text/plain": [
       "0.7467513245295704"
      ]
     },
     "metadata": {},
     "execution_count": 299
    }
   ],
   "source": [
    "np.corrcoef(mdf['Energy Supply per Capita'],mdf['Citable docs per Capita'])[0,1]"
   ]
  },
  {
   "cell_type": "code",
   "execution_count": 305,
   "metadata": {},
   "outputs": [],
   "source": [
    "median = mdf['% Renewable'].median()\n",
    "mdf['HighRenew'] = mdf['% Renewable'].apply(lambda x: 1 if x => median else 0)"
   ]
  },
  {
   "cell_type": "code",
   "execution_count": 309,
   "metadata": {},
   "outputs": [
    {
     "output_type": "execute_result",
     "data": {
      "text/plain": [
       "Country\n",
       "China                 1\n",
       "United States         0\n",
       "Japan                 0\n",
       "India                 0\n",
       "United Kingdom        0\n",
       "Germany               1\n",
       "Russian Federation    1\n",
       "Canada                1\n",
       "Italy                 1\n",
       "South Korea           0\n",
       "France                0\n",
       "Iran                  0\n",
       "Spain                 1\n",
       "Australia             0\n",
       "Brazil                1\n",
       "Name: HighRenew, dtype: int64"
      ]
     },
     "metadata": {},
     "execution_count": 309
    }
   ],
   "source": [
    "mdf['HighRenew']"
   ]
  },
  {
   "cell_type": "code",
   "execution_count": 324,
   "metadata": {},
   "outputs": [
    {
     "output_type": "execute_result",
     "data": {
      "text/plain": [
       "               size           sum          mean           std\n",
       "Asia              5  2.898666e+09  5.797333e+08  6.790979e+08\n",
       "Australia         1  2.331602e+07  2.331602e+07           NaN\n",
       "Europe            6  4.579297e+08  7.632161e+07  3.464767e+07\n",
       "North America     2  3.528552e+08  1.764276e+08  1.996696e+08\n",
       "South America     1  2.059153e+08  2.059153e+08           NaN"
      ],
      "text/html": "<div>\n<style scoped>\n    .dataframe tbody tr th:only-of-type {\n        vertical-align: middle;\n    }\n\n    .dataframe tbody tr th {\n        vertical-align: top;\n    }\n\n    .dataframe thead th {\n        text-align: right;\n    }\n</style>\n<table border=\"1\" class=\"dataframe\">\n  <thead>\n    <tr style=\"text-align: right;\">\n      <th></th>\n      <th>size</th>\n      <th>sum</th>\n      <th>mean</th>\n      <th>std</th>\n    </tr>\n  </thead>\n  <tbody>\n    <tr>\n      <th>Asia</th>\n      <td>5</td>\n      <td>2.898666e+09</td>\n      <td>5.797333e+08</td>\n      <td>6.790979e+08</td>\n    </tr>\n    <tr>\n      <th>Australia</th>\n      <td>1</td>\n      <td>2.331602e+07</td>\n      <td>2.331602e+07</td>\n      <td>NaN</td>\n    </tr>\n    <tr>\n      <th>Europe</th>\n      <td>6</td>\n      <td>4.579297e+08</td>\n      <td>7.632161e+07</td>\n      <td>3.464767e+07</td>\n    </tr>\n    <tr>\n      <th>North America</th>\n      <td>2</td>\n      <td>3.528552e+08</td>\n      <td>1.764276e+08</td>\n      <td>1.996696e+08</td>\n    </tr>\n    <tr>\n      <th>South America</th>\n      <td>1</td>\n      <td>2.059153e+08</td>\n      <td>2.059153e+08</td>\n      <td>NaN</td>\n    </tr>\n  </tbody>\n</table>\n</div>"
     },
     "metadata": {},
     "execution_count": 324
    }
   ],
   "source": [
    "mdf.groupby({'China':'Asia', \n",
    "                  'United States':'North America', \n",
    "                  'Japan':'Asia', \n",
    "                  'United Kingdom':'Europe', \n",
    "                  'Russian Federation':'Europe', \n",
    "                  'Canada':'North America', \n",
    "                  'Germany':'Europe', \n",
    "                  'India':'Asia',\n",
    "                  'France':'Europe', \n",
    "                  'South Korea':'Asia', \n",
    "                  'Italy':'Europe', \n",
    "                  'Spain':'Europe', \n",
    "                  'Iran':'Asia',\n",
    "                  'Australia':'Australia', \n",
    "                  'Brazil':'South America'})['PopEng'].agg(['size','sum','mean','std'])"
   ]
  },
  {
   "cell_type": "code",
   "execution_count": 343,
   "metadata": {},
   "outputs": [],
   "source": [
    "ContinentDict = {'China':'Asia', \n",
    "                  'United States':'North America', \n",
    "                  'Japan':'Asia', \n",
    "                  'United Kingdom':'Europe', \n",
    "                  'Russian Federation':'Europe', \n",
    "                  'Canada':'North America', \n",
    "                  'Germany':'Europe', \n",
    "                  'India':'Asia',\n",
    "                  'France':'Europe', \n",
    "                  'South Korea':'Asia', \n",
    "                  'Italy':'Europe', \n",
    "                  'Spain':'Europe', \n",
    "                  'Iran':'Asia',\n",
    "                  'Australia':'Australia', \n",
    "                  'Brazil':'South America'}"
   ]
  },
  {
   "cell_type": "code",
   "execution_count": 408,
   "metadata": {},
   "outputs": [],
   "source": [
    "mdf['Continent'] = pd.Series(ContinentDict)"
   ]
  },
  {
   "cell_type": "code",
   "execution_count": 524,
   "metadata": {},
   "outputs": [
    {
     "output_type": "execute_result",
     "data": {
      "text/plain": [
       "                    Rank  Documents  Citable documents  Citations  \\\n",
       "Country                                                             \n",
       "China                  1     235126             233883    1909601   \n",
       "India                  4      39893              38848     368175   \n",
       "Iran                  12      19371              19085     242250   \n",
       "Japan                  3      46032              45559     436961   \n",
       "South Korea           10      23451              23166     279709   \n",
       "Australia             14      18077              17661     263733   \n",
       "France                11      22429              21913     300015   \n",
       "Germany                6      32935              32227     367356   \n",
       "Italy                  9      23725              22819     312631   \n",
       "Russian Federation     7      31880              31664      91906   \n",
       "Spain                 13      18882              18529     312632   \n",
       "United Kingdom         5      38873              37780     536378   \n",
       "Canada                 8      29633              29011     491467   \n",
       "United States          2     157811             154288    1940563   \n",
       "Brazil                15      18024              17745     152380   \n",
       "\n",
       "                    Self-citations  Citations per document  H index  \\\n",
       "Country                                                               \n",
       "China                      1306438                    8.12      224   \n",
       "India                       123446                    9.23      171   \n",
       "Iran                         77012                   12.51      127   \n",
       "Japan                       109968                    9.49      181   \n",
       "South Korea                  53110                   11.93      146   \n",
       "Australia                    44799                   14.59      161   \n",
       "France                       58151                   13.38      169   \n",
       "Germany                      78265                   11.15      186   \n",
       "Italy                        76446                   13.18      155   \n",
       "Russian Federation           42529                    2.88       84   \n",
       "Spain                        56968                   16.56      163   \n",
       "United Kingdom              100038                   13.80      208   \n",
       "Canada                       88987                   16.59      210   \n",
       "United States               639345                   12.30      333   \n",
       "Brazil                       37112                    8.45      121   \n",
       "\n",
       "                    Energy Supply  Energy Supply per Capita  % Renewable  ...  \\\n",
       "Country                                                                   ...   \n",
       "China                1.271910e+11                      93.0    19.754910  ...   \n",
       "India                3.319500e+10                      26.0    14.969080  ...   \n",
       "Iran                 9.172000e+09                     119.0     5.707721  ...   \n",
       "Japan                1.898400e+10                     149.0    10.232820  ...   \n",
       "South Korea          1.100700e+10                     221.0     2.279353  ...   \n",
       "Australia            5.386000e+09                     231.0    11.810810  ...   \n",
       "France               1.059700e+10                     166.0    17.020280  ...   \n",
       "Germany              1.326100e+10                     165.0    17.901530  ...   \n",
       "Italy                6.530000e+09                     109.0    33.667230  ...   \n",
       "Russian Federation   3.070900e+10                     214.0    17.288680  ...   \n",
       "Spain                4.923000e+09                     106.0    37.968590  ...   \n",
       "United Kingdom       7.920000e+09                     124.0    10.600470  ...   \n",
       "Canada               1.043100e+10                     296.0    61.945430  ...   \n",
       "United States        9.083800e+10                     286.0    11.570980  ...   \n",
       "Brazil               1.214900e+10                      59.0    69.648030  ...   \n",
       "\n",
       "                            2014          2015  Citations Ratio    Population  \\\n",
       "Country                                                                         \n",
       "China               1.047568e+13  1.106155e+13         0.238528  1.367645e+09   \n",
       "India               2.039127e+12  2.103588e+12         0.045989  1.276731e+09   \n",
       "Iran                4.326870e+11  3.849515e+11         0.030259  7.707563e+07   \n",
       "Japan               4.850414e+12  4.389476e+12         0.054581  1.274094e+08   \n",
       "South Korea         1.484318e+12  1.465773e+12         0.034938  4.980543e+07   \n",
       "Australia           1.467484e+12  1.351694e+12         0.032943  2.331602e+07   \n",
       "France              2.852166e+12  2.438208e+12         0.037475  6.383735e+07   \n",
       "Germany             3.883920e+12  3.360550e+12         0.045886  8.036970e+07   \n",
       "Italy               2.159134e+12  1.835899e+12         0.039051  5.990826e+07   \n",
       "Russian Federation  2.059242e+12  1.363481e+12         0.011480  1.435000e+08   \n",
       "Spain               1.369399e+12  1.195119e+12         0.039051  4.644340e+07   \n",
       "United Kingdom      3.063803e+12  2.928591e+12         0.066999  6.387097e+07   \n",
       "Canada              1.803533e+12  1.556130e+12         0.061389  3.523986e+07   \n",
       "United States       1.752175e+13  1.821930e+13         0.242396  3.176154e+08   \n",
       "Brazil              2.455994e+12  1.802214e+12         0.019034  2.059153e+08   \n",
       "\n",
       "                          PopEng  Citable docs per Capita  HighRenew  \\\n",
       "Country                                                                \n",
       "China               1.367645e+09                 0.000171          1   \n",
       "India               1.276731e+09                 0.000030          0   \n",
       "Iran                7.707563e+07                 0.000248          0   \n",
       "Japan               1.274094e+08                 0.000358          0   \n",
       "South Korea         4.980543e+07                 0.000465          0   \n",
       "Australia           2.331602e+07                 0.000757          0   \n",
       "France              6.383735e+07                 0.000343          0   \n",
       "Germany             8.036970e+07                 0.000401          1   \n",
       "Italy               5.990826e+07                 0.000381          1   \n",
       "Russian Federation  1.435000e+08                 0.000221          1   \n",
       "Spain               4.644340e+07                 0.000399          1   \n",
       "United Kingdom      6.387097e+07                 0.000592          0   \n",
       "Canada              3.523986e+07                 0.000823          1   \n",
       "United States       3.176154e+08                 0.000486          0   \n",
       "Brazil              2.059153e+08                 0.000086          1   \n",
       "\n",
       "                        Continent        PopEst    Renewable bins  \n",
       "Country                                                            \n",
       "China                        Asia  1.367645e+09  (15.753, 29.227]  \n",
       "India                        Asia  1.276731e+09   (2.212, 15.753]  \n",
       "Iran                         Asia  7.707563e+07   (2.212, 15.753]  \n",
       "Japan                        Asia  1.274094e+08   (2.212, 15.753]  \n",
       "South Korea                  Asia  4.980543e+07   (2.212, 15.753]  \n",
       "Australia               Australia  2.331602e+07   (2.212, 15.753]  \n",
       "France                     Europe  6.383735e+07  (15.753, 29.227]  \n",
       "Germany                    Europe  8.036970e+07  (15.753, 29.227]  \n",
       "Italy                      Europe  5.990826e+07  (29.227, 42.701]  \n",
       "Russian Federation         Europe  1.435000e+08  (15.753, 29.227]  \n",
       "Spain                      Europe  4.644340e+07  (29.227, 42.701]  \n",
       "United Kingdom             Europe  6.387097e+07   (2.212, 15.753]  \n",
       "Canada              North America  3.523986e+07  (56.174, 69.648]  \n",
       "United States       North America  3.176154e+08   (2.212, 15.753]  \n",
       "Brazil              South America  2.059153e+08  (56.174, 69.648]  \n",
       "\n",
       "[15 rows x 28 columns]"
      ],
      "text/html": "<div>\n<style scoped>\n    .dataframe tbody tr th:only-of-type {\n        vertical-align: middle;\n    }\n\n    .dataframe tbody tr th {\n        vertical-align: top;\n    }\n\n    .dataframe thead th {\n        text-align: right;\n    }\n</style>\n<table border=\"1\" class=\"dataframe\">\n  <thead>\n    <tr style=\"text-align: right;\">\n      <th></th>\n      <th>Rank</th>\n      <th>Documents</th>\n      <th>Citable documents</th>\n      <th>Citations</th>\n      <th>Self-citations</th>\n      <th>Citations per document</th>\n      <th>H index</th>\n      <th>Energy Supply</th>\n      <th>Energy Supply per Capita</th>\n      <th>% Renewable</th>\n      <th>...</th>\n      <th>2014</th>\n      <th>2015</th>\n      <th>Citations Ratio</th>\n      <th>Population</th>\n      <th>PopEng</th>\n      <th>Citable docs per Capita</th>\n      <th>HighRenew</th>\n      <th>Continent</th>\n      <th>PopEst</th>\n      <th>Renewable bins</th>\n    </tr>\n    <tr>\n      <th>Country</th>\n      <th></th>\n      <th></th>\n      <th></th>\n      <th></th>\n      <th></th>\n      <th></th>\n      <th></th>\n      <th></th>\n      <th></th>\n      <th></th>\n      <th></th>\n      <th></th>\n      <th></th>\n      <th></th>\n      <th></th>\n      <th></th>\n      <th></th>\n      <th></th>\n      <th></th>\n      <th></th>\n      <th></th>\n    </tr>\n  </thead>\n  <tbody>\n    <tr>\n      <th>China</th>\n      <td>1</td>\n      <td>235126</td>\n      <td>233883</td>\n      <td>1909601</td>\n      <td>1306438</td>\n      <td>8.12</td>\n      <td>224</td>\n      <td>1.271910e+11</td>\n      <td>93.0</td>\n      <td>19.754910</td>\n      <td>...</td>\n      <td>1.047568e+13</td>\n      <td>1.106155e+13</td>\n      <td>0.238528</td>\n      <td>1.367645e+09</td>\n      <td>1.367645e+09</td>\n      <td>0.000171</td>\n      <td>1</td>\n      <td>Asia</td>\n      <td>1.367645e+09</td>\n      <td>(15.753, 29.227]</td>\n    </tr>\n    <tr>\n      <th>India</th>\n      <td>4</td>\n      <td>39893</td>\n      <td>38848</td>\n      <td>368175</td>\n      <td>123446</td>\n      <td>9.23</td>\n      <td>171</td>\n      <td>3.319500e+10</td>\n      <td>26.0</td>\n      <td>14.969080</td>\n      <td>...</td>\n      <td>2.039127e+12</td>\n      <td>2.103588e+12</td>\n      <td>0.045989</td>\n      <td>1.276731e+09</td>\n      <td>1.276731e+09</td>\n      <td>0.000030</td>\n      <td>0</td>\n      <td>Asia</td>\n      <td>1.276731e+09</td>\n      <td>(2.212, 15.753]</td>\n    </tr>\n    <tr>\n      <th>Iran</th>\n      <td>12</td>\n      <td>19371</td>\n      <td>19085</td>\n      <td>242250</td>\n      <td>77012</td>\n      <td>12.51</td>\n      <td>127</td>\n      <td>9.172000e+09</td>\n      <td>119.0</td>\n      <td>5.707721</td>\n      <td>...</td>\n      <td>4.326870e+11</td>\n      <td>3.849515e+11</td>\n      <td>0.030259</td>\n      <td>7.707563e+07</td>\n      <td>7.707563e+07</td>\n      <td>0.000248</td>\n      <td>0</td>\n      <td>Asia</td>\n      <td>7.707563e+07</td>\n      <td>(2.212, 15.753]</td>\n    </tr>\n    <tr>\n      <th>Japan</th>\n      <td>3</td>\n      <td>46032</td>\n      <td>45559</td>\n      <td>436961</td>\n      <td>109968</td>\n      <td>9.49</td>\n      <td>181</td>\n      <td>1.898400e+10</td>\n      <td>149.0</td>\n      <td>10.232820</td>\n      <td>...</td>\n      <td>4.850414e+12</td>\n      <td>4.389476e+12</td>\n      <td>0.054581</td>\n      <td>1.274094e+08</td>\n      <td>1.274094e+08</td>\n      <td>0.000358</td>\n      <td>0</td>\n      <td>Asia</td>\n      <td>1.274094e+08</td>\n      <td>(2.212, 15.753]</td>\n    </tr>\n    <tr>\n      <th>South Korea</th>\n      <td>10</td>\n      <td>23451</td>\n      <td>23166</td>\n      <td>279709</td>\n      <td>53110</td>\n      <td>11.93</td>\n      <td>146</td>\n      <td>1.100700e+10</td>\n      <td>221.0</td>\n      <td>2.279353</td>\n      <td>...</td>\n      <td>1.484318e+12</td>\n      <td>1.465773e+12</td>\n      <td>0.034938</td>\n      <td>4.980543e+07</td>\n      <td>4.980543e+07</td>\n      <td>0.000465</td>\n      <td>0</td>\n      <td>Asia</td>\n      <td>4.980543e+07</td>\n      <td>(2.212, 15.753]</td>\n    </tr>\n    <tr>\n      <th>Australia</th>\n      <td>14</td>\n      <td>18077</td>\n      <td>17661</td>\n      <td>263733</td>\n      <td>44799</td>\n      <td>14.59</td>\n      <td>161</td>\n      <td>5.386000e+09</td>\n      <td>231.0</td>\n      <td>11.810810</td>\n      <td>...</td>\n      <td>1.467484e+12</td>\n      <td>1.351694e+12</td>\n      <td>0.032943</td>\n      <td>2.331602e+07</td>\n      <td>2.331602e+07</td>\n      <td>0.000757</td>\n      <td>0</td>\n      <td>Australia</td>\n      <td>2.331602e+07</td>\n      <td>(2.212, 15.753]</td>\n    </tr>\n    <tr>\n      <th>France</th>\n      <td>11</td>\n      <td>22429</td>\n      <td>21913</td>\n      <td>300015</td>\n      <td>58151</td>\n      <td>13.38</td>\n      <td>169</td>\n      <td>1.059700e+10</td>\n      <td>166.0</td>\n      <td>17.020280</td>\n      <td>...</td>\n      <td>2.852166e+12</td>\n      <td>2.438208e+12</td>\n      <td>0.037475</td>\n      <td>6.383735e+07</td>\n      <td>6.383735e+07</td>\n      <td>0.000343</td>\n      <td>0</td>\n      <td>Europe</td>\n      <td>6.383735e+07</td>\n      <td>(15.753, 29.227]</td>\n    </tr>\n    <tr>\n      <th>Germany</th>\n      <td>6</td>\n      <td>32935</td>\n      <td>32227</td>\n      <td>367356</td>\n      <td>78265</td>\n      <td>11.15</td>\n      <td>186</td>\n      <td>1.326100e+10</td>\n      <td>165.0</td>\n      <td>17.901530</td>\n      <td>...</td>\n      <td>3.883920e+12</td>\n      <td>3.360550e+12</td>\n      <td>0.045886</td>\n      <td>8.036970e+07</td>\n      <td>8.036970e+07</td>\n      <td>0.000401</td>\n      <td>1</td>\n      <td>Europe</td>\n      <td>8.036970e+07</td>\n      <td>(15.753, 29.227]</td>\n    </tr>\n    <tr>\n      <th>Italy</th>\n      <td>9</td>\n      <td>23725</td>\n      <td>22819</td>\n      <td>312631</td>\n      <td>76446</td>\n      <td>13.18</td>\n      <td>155</td>\n      <td>6.530000e+09</td>\n      <td>109.0</td>\n      <td>33.667230</td>\n      <td>...</td>\n      <td>2.159134e+12</td>\n      <td>1.835899e+12</td>\n      <td>0.039051</td>\n      <td>5.990826e+07</td>\n      <td>5.990826e+07</td>\n      <td>0.000381</td>\n      <td>1</td>\n      <td>Europe</td>\n      <td>5.990826e+07</td>\n      <td>(29.227, 42.701]</td>\n    </tr>\n    <tr>\n      <th>Russian Federation</th>\n      <td>7</td>\n      <td>31880</td>\n      <td>31664</td>\n      <td>91906</td>\n      <td>42529</td>\n      <td>2.88</td>\n      <td>84</td>\n      <td>3.070900e+10</td>\n      <td>214.0</td>\n      <td>17.288680</td>\n      <td>...</td>\n      <td>2.059242e+12</td>\n      <td>1.363481e+12</td>\n      <td>0.011480</td>\n      <td>1.435000e+08</td>\n      <td>1.435000e+08</td>\n      <td>0.000221</td>\n      <td>1</td>\n      <td>Europe</td>\n      <td>1.435000e+08</td>\n      <td>(15.753, 29.227]</td>\n    </tr>\n    <tr>\n      <th>Spain</th>\n      <td>13</td>\n      <td>18882</td>\n      <td>18529</td>\n      <td>312632</td>\n      <td>56968</td>\n      <td>16.56</td>\n      <td>163</td>\n      <td>4.923000e+09</td>\n      <td>106.0</td>\n      <td>37.968590</td>\n      <td>...</td>\n      <td>1.369399e+12</td>\n      <td>1.195119e+12</td>\n      <td>0.039051</td>\n      <td>4.644340e+07</td>\n      <td>4.644340e+07</td>\n      <td>0.000399</td>\n      <td>1</td>\n      <td>Europe</td>\n      <td>4.644340e+07</td>\n      <td>(29.227, 42.701]</td>\n    </tr>\n    <tr>\n      <th>United Kingdom</th>\n      <td>5</td>\n      <td>38873</td>\n      <td>37780</td>\n      <td>536378</td>\n      <td>100038</td>\n      <td>13.80</td>\n      <td>208</td>\n      <td>7.920000e+09</td>\n      <td>124.0</td>\n      <td>10.600470</td>\n      <td>...</td>\n      <td>3.063803e+12</td>\n      <td>2.928591e+12</td>\n      <td>0.066999</td>\n      <td>6.387097e+07</td>\n      <td>6.387097e+07</td>\n      <td>0.000592</td>\n      <td>0</td>\n      <td>Europe</td>\n      <td>6.387097e+07</td>\n      <td>(2.212, 15.753]</td>\n    </tr>\n    <tr>\n      <th>Canada</th>\n      <td>8</td>\n      <td>29633</td>\n      <td>29011</td>\n      <td>491467</td>\n      <td>88987</td>\n      <td>16.59</td>\n      <td>210</td>\n      <td>1.043100e+10</td>\n      <td>296.0</td>\n      <td>61.945430</td>\n      <td>...</td>\n      <td>1.803533e+12</td>\n      <td>1.556130e+12</td>\n      <td>0.061389</td>\n      <td>3.523986e+07</td>\n      <td>3.523986e+07</td>\n      <td>0.000823</td>\n      <td>1</td>\n      <td>North America</td>\n      <td>3.523986e+07</td>\n      <td>(56.174, 69.648]</td>\n    </tr>\n    <tr>\n      <th>United States</th>\n      <td>2</td>\n      <td>157811</td>\n      <td>154288</td>\n      <td>1940563</td>\n      <td>639345</td>\n      <td>12.30</td>\n      <td>333</td>\n      <td>9.083800e+10</td>\n      <td>286.0</td>\n      <td>11.570980</td>\n      <td>...</td>\n      <td>1.752175e+13</td>\n      <td>1.821930e+13</td>\n      <td>0.242396</td>\n      <td>3.176154e+08</td>\n      <td>3.176154e+08</td>\n      <td>0.000486</td>\n      <td>0</td>\n      <td>North America</td>\n      <td>3.176154e+08</td>\n      <td>(2.212, 15.753]</td>\n    </tr>\n    <tr>\n      <th>Brazil</th>\n      <td>15</td>\n      <td>18024</td>\n      <td>17745</td>\n      <td>152380</td>\n      <td>37112</td>\n      <td>8.45</td>\n      <td>121</td>\n      <td>1.214900e+10</td>\n      <td>59.0</td>\n      <td>69.648030</td>\n      <td>...</td>\n      <td>2.455994e+12</td>\n      <td>1.802214e+12</td>\n      <td>0.019034</td>\n      <td>2.059153e+08</td>\n      <td>2.059153e+08</td>\n      <td>0.000086</td>\n      <td>1</td>\n      <td>South America</td>\n      <td>2.059153e+08</td>\n      <td>(56.174, 69.648]</td>\n    </tr>\n  </tbody>\n</table>\n<p>15 rows × 28 columns</p>\n</div>"
     },
     "metadata": {},
     "execution_count": 524
    }
   ],
   "source": [
    "years = ['2006', '2007', '2008', '2009', '2010', '2011', '2012', '2013', '2014', '2015']\n",
    "mdf['2015'].sort_values(ascending=False)\n",
    "mmd = mdf['2015'] - mdf['2006']\n",
    "mdf[years].agg(np.mean,axis=1).sort_values(ascending=False)#.apply(lambda x: x['max']-x['min'],axis=1).sort_values(ascending=False)[5]\n",
    "mmd.loc['France']\n"
   ]
  },
  {
   "cell_type": "code",
   "execution_count": 500,
   "metadata": {},
   "outputs": [
    {
     "output_type": "execute_result",
     "data": {
      "text/plain": [
       "Continent      % Renewable     \n",
       "Asia           (2.212, 15.753]     4\n",
       "               (15.753, 29.227]    1\n",
       "Australia      (2.212, 15.753]     1\n",
       "Europe         (2.212, 15.753]     1\n",
       "               (15.753, 29.227]    3\n",
       "               (29.227, 42.701]    2\n",
       "North America  (2.212, 15.753]     1\n",
       "               (56.174, 69.648]    1\n",
       "South America  (56.174, 69.648]    1\n",
       "Name: Renewable bins, dtype: int64"
      ]
     },
     "metadata": {},
     "execution_count": 500
    }
   ],
   "source": [
    "mdf['Renewable bins'] = pd.cut(mdf['% Renewable'],5)\n",
    "mm = mdf.reset_index().groupby(['Continent','Renewable bins'])['Renewable bins'].value_counts()\n",
    "mm = mm.droplevel(-1)\n",
    "mm.rename_axis(['Continent','% Renewable'])"
   ]
  },
  {
   "cell_type": "code",
   "execution_count": 531,
   "metadata": {},
   "outputs": [
    {
     "output_type": "error",
     "ename": "AssertionError",
     "evalue": "Q12: Wrong result numbers!",
     "traceback": [
      "\u001b[1;31m---------------------------------------------------------------------------\u001b[0m",
      "\u001b[1;31mAssertionError\u001b[0m                            Traceback (most recent call last)",
      "\u001b[1;32m<ipython-input-531-93cc9ee348c7>\u001b[0m in \u001b[0;36m<module>\u001b[1;34m\u001b[0m\n\u001b[0;32m      1\u001b[0m \u001b[1;32massert\u001b[0m \u001b[0mtype\u001b[0m\u001b[1;33m(\u001b[0m\u001b[0manswer_twelve\u001b[0m\u001b[1;33m(\u001b[0m\u001b[1;33m)\u001b[0m\u001b[1;33m)\u001b[0m \u001b[1;33m==\u001b[0m \u001b[0mpd\u001b[0m\u001b[1;33m.\u001b[0m\u001b[0mSeries\u001b[0m\u001b[1;33m,\u001b[0m \u001b[1;34m\"Q12: You should return a Series!\"\u001b[0m\u001b[1;33m\u001b[0m\u001b[1;33m\u001b[0m\u001b[0m\n\u001b[0;32m      2\u001b[0m \u001b[1;33m\u001b[0m\u001b[0m\n\u001b[1;32m----> 3\u001b[1;33m \u001b[1;32massert\u001b[0m \u001b[0mlen\u001b[0m\u001b[1;33m(\u001b[0m\u001b[0manswer_twelve\u001b[0m\u001b[1;33m(\u001b[0m\u001b[1;33m)\u001b[0m\u001b[1;33m)\u001b[0m \u001b[1;33m==\u001b[0m \u001b[1;36m9\u001b[0m\u001b[1;33m,\u001b[0m \u001b[1;34m\"Q12: Wrong result numbers!\"\u001b[0m\u001b[1;33m\u001b[0m\u001b[1;33m\u001b[0m\u001b[0m\n\u001b[0m",
      "\u001b[1;31mAssertionError\u001b[0m: Q12: Wrong result numbers!"
     ]
    }
   ],
   "source": [
    "assert type(answer_twelve()) == pd.Series, \"Q12: You should return a Series!\"\n",
    "\n",
    "assert len(answer_twelve()) == 9, \"Q12: Wrong result numbers!\"\n"
   ]
  },
  {
   "cell_type": "code",
   "execution_count": 380,
   "metadata": {},
   "outputs": [],
   "source": [
    "#mdf = mdf.set_index('Continent',append=True).swaplevel(-2,-1).sort_index()"
   ]
  },
  {
   "cell_type": "code",
   "execution_count": 402,
   "metadata": {},
   "outputs": [
    {
     "output_type": "execute_result",
     "data": {
      "text/plain": [
       "Continent\n",
       "Asia              52.943884\n",
       "Australia         11.810810\n",
       "Europe           134.446780\n",
       "North America     73.516410\n",
       "South America     69.648030\n",
       "Name: % Renewable, dtype: float64"
      ]
     },
     "metadata": {},
     "execution_count": 402
    }
   ],
   "source": [
    "mdf.groupby(['Continent'])['% Renewable'].sum()"
   ]
  },
  {
   "cell_type": "code",
   "execution_count": 433,
   "metadata": {},
   "outputs": [
    {
     "output_type": "execute_result",
     "data": {
      "text/plain": [
       "Country\n",
       "China                 1,367,645,161.2903225\n",
       "India                 1,276,730,769.2307692\n",
       "Iran                    77,075,630.25210084\n",
       "Japan                  127,409,395.97315437\n",
       "South Korea            49,805,429.864253394\n",
       "Australia              23,316,017.316017315\n",
       "France                  63,837,349.39759036\n",
       "Germany                 80,369,696.96969697\n",
       "Italy                  59,908,256.880733944\n",
       "Russian Federation            143,500,000.0\n",
       "Spain                    46,443,396.2264151\n",
       "United Kingdom         63,870,967.741935484\n",
       "Canada                  35,239,864.86486486\n",
       "United States          317,615,384.61538464\n",
       "Brazil                 205,915,254.23728815\n",
       "Name: PopEst, dtype: object"
      ]
     },
     "metadata": {},
     "execution_count": 433
    }
   ],
   "source": [
    "mdf['PopEst'].apply(lambda x: \"{:,}\".format(x))"
   ]
  }
 ]
}